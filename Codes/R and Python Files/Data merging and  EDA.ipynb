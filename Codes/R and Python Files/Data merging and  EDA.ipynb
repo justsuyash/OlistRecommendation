{
 "cells": [
  {
   "cell_type": "markdown",
   "metadata": {},
   "source": [
    "# Otis E-Commerce Public Dataset "
   ]
  },
  {
   "cell_type": "markdown",
   "metadata": {},
   "source": [
    "## Data Cleaning"
   ]
  },
  {
   "cell_type": "markdown",
   "metadata": {},
   "source": [
    "### Imports"
   ]
  },
  {
   "cell_type": "code",
   "execution_count": 35,
   "metadata": {},
   "outputs": [],
   "source": [
    "import pandas as pd\n",
    "from IPython.display import display\n",
    "import seaborn as sns\n",
    "import datetime as dt\n",
    "import matplotlib.pyplot as plt\n",
    "import plotly.express as px\n",
    "import plotly.graph_objects as go\n",
    "import pandas as pd\n",
    "from plotly.offline import download_plotlyjs, init_notebook_mode, plot, iplot\n",
    "import numpy as np"
   ]
  },
  {
   "cell_type": "markdown",
   "metadata": {},
   "source": [
    "### Creating DataFrame"
   ]
  },
  {
   "cell_type": "code",
   "execution_count": 36,
   "metadata": {},
   "outputs": [],
   "source": [
    "customer = pd.read_csv('olist_customers_dataset.csv')\n",
    "geolocation = pd.read_csv('olist_geolocation_dataset.csv')\n",
    "orders = pd.read_csv('olist_orders_dataset.csv')\n",
    "order_items = pd.read_csv('olist_order_items_dataset.csv')\n",
    "order_payments = pd.read_csv('olist_order_payments_dataset.csv')\n",
    "order_reviews = pd.read_csv('olist_order_reviews_dataset.csv')\n",
    "products = pd.read_csv('olist_products_dataset.csv')\n",
    "sellers = pd.read_csv('olist_sellers_dataset.csv')\n",
    "english_desc = pd.read_csv('product_category_name_translation.csv')"
   ]
  },
  {
   "cell_type": "markdown",
   "metadata": {},
   "source": [
    "### Understanding Our Data Values"
   ]
  },
  {
   "cell_type": "code",
   "execution_count": 37,
   "metadata": {},
   "outputs": [],
   "source": [
    "#Taking all data frames in a list, so that we can perform specific operations on all of them by looping\n",
    "df_list = [customer,geolocation,orders,order_items,order_payments,order_reviews,products,sellers]"
   ]
  },
  {
   "cell_type": "code",
   "execution_count": 38,
   "metadata": {
    "scrolled": true
   },
   "outputs": [
    {
     "data": {
      "text/html": [
       "<div>\n",
       "<style scoped>\n",
       "    .dataframe tbody tr th:only-of-type {\n",
       "        vertical-align: middle;\n",
       "    }\n",
       "\n",
       "    .dataframe tbody tr th {\n",
       "        vertical-align: top;\n",
       "    }\n",
       "\n",
       "    .dataframe thead th {\n",
       "        text-align: right;\n",
       "    }\n",
       "</style>\n",
       "<table border=\"1\" class=\"dataframe\">\n",
       "  <thead>\n",
       "    <tr style=\"text-align: right;\">\n",
       "      <th></th>\n",
       "      <th>customer_id</th>\n",
       "      <th>customer_unique_id</th>\n",
       "      <th>customer_zip_code_prefix</th>\n",
       "      <th>customer_city</th>\n",
       "      <th>customer_state</th>\n",
       "    </tr>\n",
       "  </thead>\n",
       "  <tbody>\n",
       "    <tr>\n",
       "      <th>0</th>\n",
       "      <td>06b8999e2fba1a1fbc88172c00ba8bc7</td>\n",
       "      <td>861eff4711a542e4b93843c6dd7febb0</td>\n",
       "      <td>14409</td>\n",
       "      <td>franca</td>\n",
       "      <td>SP</td>\n",
       "    </tr>\n",
       "    <tr>\n",
       "      <th>1</th>\n",
       "      <td>18955e83d337fd6b2def6b18a428ac77</td>\n",
       "      <td>290c77bc529b7ac935b93aa66c333dc3</td>\n",
       "      <td>9790</td>\n",
       "      <td>sao bernardo do campo</td>\n",
       "      <td>SP</td>\n",
       "    </tr>\n",
       "    <tr>\n",
       "      <th>2</th>\n",
       "      <td>4e7b3e00288586ebd08712fdd0374a03</td>\n",
       "      <td>060e732b5b29e8181a18229c7b0b2b5e</td>\n",
       "      <td>1151</td>\n",
       "      <td>sao paulo</td>\n",
       "      <td>SP</td>\n",
       "    </tr>\n",
       "    <tr>\n",
       "      <th>3</th>\n",
       "      <td>b2b6027bc5c5109e529d4dc6358b12c3</td>\n",
       "      <td>259dac757896d24d7702b9acbbff3f3c</td>\n",
       "      <td>8775</td>\n",
       "      <td>mogi das cruzes</td>\n",
       "      <td>SP</td>\n",
       "    </tr>\n",
       "    <tr>\n",
       "      <th>4</th>\n",
       "      <td>4f2d8ab171c80ec8364f7c12e35b23ad</td>\n",
       "      <td>345ecd01c38d18a9036ed96c73b8d066</td>\n",
       "      <td>13056</td>\n",
       "      <td>campinas</td>\n",
       "      <td>SP</td>\n",
       "    </tr>\n",
       "  </tbody>\n",
       "</table>\n",
       "</div>"
      ],
      "text/plain": [
       "                        customer_id                customer_unique_id  \\\n",
       "0  06b8999e2fba1a1fbc88172c00ba8bc7  861eff4711a542e4b93843c6dd7febb0   \n",
       "1  18955e83d337fd6b2def6b18a428ac77  290c77bc529b7ac935b93aa66c333dc3   \n",
       "2  4e7b3e00288586ebd08712fdd0374a03  060e732b5b29e8181a18229c7b0b2b5e   \n",
       "3  b2b6027bc5c5109e529d4dc6358b12c3  259dac757896d24d7702b9acbbff3f3c   \n",
       "4  4f2d8ab171c80ec8364f7c12e35b23ad  345ecd01c38d18a9036ed96c73b8d066   \n",
       "\n",
       "   customer_zip_code_prefix          customer_city customer_state  \n",
       "0                     14409                 franca             SP  \n",
       "1                      9790  sao bernardo do campo             SP  \n",
       "2                      1151              sao paulo             SP  \n",
       "3                      8775        mogi das cruzes             SP  \n",
       "4                     13056               campinas             SP  "
      ]
     },
     "metadata": {},
     "output_type": "display_data"
    },
    {
     "data": {
      "text/html": [
       "<div>\n",
       "<style scoped>\n",
       "    .dataframe tbody tr th:only-of-type {\n",
       "        vertical-align: middle;\n",
       "    }\n",
       "\n",
       "    .dataframe tbody tr th {\n",
       "        vertical-align: top;\n",
       "    }\n",
       "\n",
       "    .dataframe thead th {\n",
       "        text-align: right;\n",
       "    }\n",
       "</style>\n",
       "<table border=\"1\" class=\"dataframe\">\n",
       "  <thead>\n",
       "    <tr style=\"text-align: right;\">\n",
       "      <th></th>\n",
       "      <th>geolocation_zip_code_prefix</th>\n",
       "      <th>geolocation_lat</th>\n",
       "      <th>geolocation_lng</th>\n",
       "      <th>geolocation_city</th>\n",
       "      <th>geolocation_state</th>\n",
       "    </tr>\n",
       "  </thead>\n",
       "  <tbody>\n",
       "    <tr>\n",
       "      <th>0</th>\n",
       "      <td>1037</td>\n",
       "      <td>-23.545621</td>\n",
       "      <td>-46.639292</td>\n",
       "      <td>sao paulo</td>\n",
       "      <td>SP</td>\n",
       "    </tr>\n",
       "    <tr>\n",
       "      <th>1</th>\n",
       "      <td>1046</td>\n",
       "      <td>-23.546081</td>\n",
       "      <td>-46.644820</td>\n",
       "      <td>sao paulo</td>\n",
       "      <td>SP</td>\n",
       "    </tr>\n",
       "    <tr>\n",
       "      <th>2</th>\n",
       "      <td>1046</td>\n",
       "      <td>-23.546129</td>\n",
       "      <td>-46.642951</td>\n",
       "      <td>sao paulo</td>\n",
       "      <td>SP</td>\n",
       "    </tr>\n",
       "    <tr>\n",
       "      <th>3</th>\n",
       "      <td>1041</td>\n",
       "      <td>-23.544392</td>\n",
       "      <td>-46.639499</td>\n",
       "      <td>sao paulo</td>\n",
       "      <td>SP</td>\n",
       "    </tr>\n",
       "    <tr>\n",
       "      <th>4</th>\n",
       "      <td>1035</td>\n",
       "      <td>-23.541578</td>\n",
       "      <td>-46.641607</td>\n",
       "      <td>sao paulo</td>\n",
       "      <td>SP</td>\n",
       "    </tr>\n",
       "  </tbody>\n",
       "</table>\n",
       "</div>"
      ],
      "text/plain": [
       "   geolocation_zip_code_prefix  geolocation_lat  geolocation_lng  \\\n",
       "0                         1037       -23.545621       -46.639292   \n",
       "1                         1046       -23.546081       -46.644820   \n",
       "2                         1046       -23.546129       -46.642951   \n",
       "3                         1041       -23.544392       -46.639499   \n",
       "4                         1035       -23.541578       -46.641607   \n",
       "\n",
       "  geolocation_city geolocation_state  \n",
       "0        sao paulo                SP  \n",
       "1        sao paulo                SP  \n",
       "2        sao paulo                SP  \n",
       "3        sao paulo                SP  \n",
       "4        sao paulo                SP  "
      ]
     },
     "metadata": {},
     "output_type": "display_data"
    },
    {
     "data": {
      "text/html": [
       "<div>\n",
       "<style scoped>\n",
       "    .dataframe tbody tr th:only-of-type {\n",
       "        vertical-align: middle;\n",
       "    }\n",
       "\n",
       "    .dataframe tbody tr th {\n",
       "        vertical-align: top;\n",
       "    }\n",
       "\n",
       "    .dataframe thead th {\n",
       "        text-align: right;\n",
       "    }\n",
       "</style>\n",
       "<table border=\"1\" class=\"dataframe\">\n",
       "  <thead>\n",
       "    <tr style=\"text-align: right;\">\n",
       "      <th></th>\n",
       "      <th>order_id</th>\n",
       "      <th>customer_id</th>\n",
       "      <th>order_status</th>\n",
       "      <th>order_purchase_timestamp</th>\n",
       "      <th>order_approved_at</th>\n",
       "      <th>order_delivered_carrier_date</th>\n",
       "      <th>order_delivered_customer_date</th>\n",
       "      <th>order_estimated_delivery_date</th>\n",
       "    </tr>\n",
       "  </thead>\n",
       "  <tbody>\n",
       "    <tr>\n",
       "      <th>0</th>\n",
       "      <td>e481f51cbdc54678b7cc49136f2d6af7</td>\n",
       "      <td>9ef432eb6251297304e76186b10a928d</td>\n",
       "      <td>delivered</td>\n",
       "      <td>2017-10-02 10:56:33</td>\n",
       "      <td>2017-10-02 11:07:15</td>\n",
       "      <td>2017-10-04 19:55:00</td>\n",
       "      <td>2017-10-10 21:25:13</td>\n",
       "      <td>2017-10-18 00:00:00</td>\n",
       "    </tr>\n",
       "    <tr>\n",
       "      <th>1</th>\n",
       "      <td>53cdb2fc8bc7dce0b6741e2150273451</td>\n",
       "      <td>b0830fb4747a6c6d20dea0b8c802d7ef</td>\n",
       "      <td>delivered</td>\n",
       "      <td>2018-07-24 20:41:37</td>\n",
       "      <td>2018-07-26 03:24:27</td>\n",
       "      <td>2018-07-26 14:31:00</td>\n",
       "      <td>2018-08-07 15:27:45</td>\n",
       "      <td>2018-08-13 00:00:00</td>\n",
       "    </tr>\n",
       "    <tr>\n",
       "      <th>2</th>\n",
       "      <td>47770eb9100c2d0c44946d9cf07ec65d</td>\n",
       "      <td>41ce2a54c0b03bf3443c3d931a367089</td>\n",
       "      <td>delivered</td>\n",
       "      <td>2018-08-08 08:38:49</td>\n",
       "      <td>2018-08-08 08:55:23</td>\n",
       "      <td>2018-08-08 13:50:00</td>\n",
       "      <td>2018-08-17 18:06:29</td>\n",
       "      <td>2018-09-04 00:00:00</td>\n",
       "    </tr>\n",
       "    <tr>\n",
       "      <th>3</th>\n",
       "      <td>949d5b44dbf5de918fe9c16f97b45f8a</td>\n",
       "      <td>f88197465ea7920adcdbec7375364d82</td>\n",
       "      <td>delivered</td>\n",
       "      <td>2017-11-18 19:28:06</td>\n",
       "      <td>2017-11-18 19:45:59</td>\n",
       "      <td>2017-11-22 13:39:59</td>\n",
       "      <td>2017-12-02 00:28:42</td>\n",
       "      <td>2017-12-15 00:00:00</td>\n",
       "    </tr>\n",
       "    <tr>\n",
       "      <th>4</th>\n",
       "      <td>ad21c59c0840e6cb83a9ceb5573f8159</td>\n",
       "      <td>8ab97904e6daea8866dbdbc4fb7aad2c</td>\n",
       "      <td>delivered</td>\n",
       "      <td>2018-02-13 21:18:39</td>\n",
       "      <td>2018-02-13 22:20:29</td>\n",
       "      <td>2018-02-14 19:46:34</td>\n",
       "      <td>2018-02-16 18:17:02</td>\n",
       "      <td>2018-02-26 00:00:00</td>\n",
       "    </tr>\n",
       "  </tbody>\n",
       "</table>\n",
       "</div>"
      ],
      "text/plain": [
       "                           order_id                       customer_id  \\\n",
       "0  e481f51cbdc54678b7cc49136f2d6af7  9ef432eb6251297304e76186b10a928d   \n",
       "1  53cdb2fc8bc7dce0b6741e2150273451  b0830fb4747a6c6d20dea0b8c802d7ef   \n",
       "2  47770eb9100c2d0c44946d9cf07ec65d  41ce2a54c0b03bf3443c3d931a367089   \n",
       "3  949d5b44dbf5de918fe9c16f97b45f8a  f88197465ea7920adcdbec7375364d82   \n",
       "4  ad21c59c0840e6cb83a9ceb5573f8159  8ab97904e6daea8866dbdbc4fb7aad2c   \n",
       "\n",
       "  order_status order_purchase_timestamp    order_approved_at  \\\n",
       "0    delivered      2017-10-02 10:56:33  2017-10-02 11:07:15   \n",
       "1    delivered      2018-07-24 20:41:37  2018-07-26 03:24:27   \n",
       "2    delivered      2018-08-08 08:38:49  2018-08-08 08:55:23   \n",
       "3    delivered      2017-11-18 19:28:06  2017-11-18 19:45:59   \n",
       "4    delivered      2018-02-13 21:18:39  2018-02-13 22:20:29   \n",
       "\n",
       "  order_delivered_carrier_date order_delivered_customer_date  \\\n",
       "0          2017-10-04 19:55:00           2017-10-10 21:25:13   \n",
       "1          2018-07-26 14:31:00           2018-08-07 15:27:45   \n",
       "2          2018-08-08 13:50:00           2018-08-17 18:06:29   \n",
       "3          2017-11-22 13:39:59           2017-12-02 00:28:42   \n",
       "4          2018-02-14 19:46:34           2018-02-16 18:17:02   \n",
       "\n",
       "  order_estimated_delivery_date  \n",
       "0           2017-10-18 00:00:00  \n",
       "1           2018-08-13 00:00:00  \n",
       "2           2018-09-04 00:00:00  \n",
       "3           2017-12-15 00:00:00  \n",
       "4           2018-02-26 00:00:00  "
      ]
     },
     "metadata": {},
     "output_type": "display_data"
    },
    {
     "data": {
      "text/html": [
       "<div>\n",
       "<style scoped>\n",
       "    .dataframe tbody tr th:only-of-type {\n",
       "        vertical-align: middle;\n",
       "    }\n",
       "\n",
       "    .dataframe tbody tr th {\n",
       "        vertical-align: top;\n",
       "    }\n",
       "\n",
       "    .dataframe thead th {\n",
       "        text-align: right;\n",
       "    }\n",
       "</style>\n",
       "<table border=\"1\" class=\"dataframe\">\n",
       "  <thead>\n",
       "    <tr style=\"text-align: right;\">\n",
       "      <th></th>\n",
       "      <th>order_id</th>\n",
       "      <th>order_item_id</th>\n",
       "      <th>product_id</th>\n",
       "      <th>seller_id</th>\n",
       "      <th>shipping_limit_date</th>\n",
       "      <th>price</th>\n",
       "      <th>freight_value</th>\n",
       "    </tr>\n",
       "  </thead>\n",
       "  <tbody>\n",
       "    <tr>\n",
       "      <th>0</th>\n",
       "      <td>00010242fe8c5a6d1ba2dd792cb16214</td>\n",
       "      <td>1</td>\n",
       "      <td>4244733e06e7ecb4970a6e2683c13e61</td>\n",
       "      <td>48436dade18ac8b2bce089ec2a041202</td>\n",
       "      <td>2017-09-19 09:45:35</td>\n",
       "      <td>58.90</td>\n",
       "      <td>13.29</td>\n",
       "    </tr>\n",
       "    <tr>\n",
       "      <th>1</th>\n",
       "      <td>00018f77f2f0320c557190d7a144bdd3</td>\n",
       "      <td>1</td>\n",
       "      <td>e5f2d52b802189ee658865ca93d83a8f</td>\n",
       "      <td>dd7ddc04e1b6c2c614352b383efe2d36</td>\n",
       "      <td>2017-05-03 11:05:13</td>\n",
       "      <td>239.90</td>\n",
       "      <td>19.93</td>\n",
       "    </tr>\n",
       "    <tr>\n",
       "      <th>2</th>\n",
       "      <td>000229ec398224ef6ca0657da4fc703e</td>\n",
       "      <td>1</td>\n",
       "      <td>c777355d18b72b67abbeef9df44fd0fd</td>\n",
       "      <td>5b51032eddd242adc84c38acab88f23d</td>\n",
       "      <td>2018-01-18 14:48:30</td>\n",
       "      <td>199.00</td>\n",
       "      <td>17.87</td>\n",
       "    </tr>\n",
       "    <tr>\n",
       "      <th>3</th>\n",
       "      <td>00024acbcdf0a6daa1e931b038114c75</td>\n",
       "      <td>1</td>\n",
       "      <td>7634da152a4610f1595efa32f14722fc</td>\n",
       "      <td>9d7a1d34a5052409006425275ba1c2b4</td>\n",
       "      <td>2018-08-15 10:10:18</td>\n",
       "      <td>12.99</td>\n",
       "      <td>12.79</td>\n",
       "    </tr>\n",
       "    <tr>\n",
       "      <th>4</th>\n",
       "      <td>00042b26cf59d7ce69dfabb4e55b4fd9</td>\n",
       "      <td>1</td>\n",
       "      <td>ac6c3623068f30de03045865e4e10089</td>\n",
       "      <td>df560393f3a51e74553ab94004ba5c87</td>\n",
       "      <td>2017-02-13 13:57:51</td>\n",
       "      <td>199.90</td>\n",
       "      <td>18.14</td>\n",
       "    </tr>\n",
       "  </tbody>\n",
       "</table>\n",
       "</div>"
      ],
      "text/plain": [
       "                           order_id  order_item_id  \\\n",
       "0  00010242fe8c5a6d1ba2dd792cb16214              1   \n",
       "1  00018f77f2f0320c557190d7a144bdd3              1   \n",
       "2  000229ec398224ef6ca0657da4fc703e              1   \n",
       "3  00024acbcdf0a6daa1e931b038114c75              1   \n",
       "4  00042b26cf59d7ce69dfabb4e55b4fd9              1   \n",
       "\n",
       "                         product_id                         seller_id  \\\n",
       "0  4244733e06e7ecb4970a6e2683c13e61  48436dade18ac8b2bce089ec2a041202   \n",
       "1  e5f2d52b802189ee658865ca93d83a8f  dd7ddc04e1b6c2c614352b383efe2d36   \n",
       "2  c777355d18b72b67abbeef9df44fd0fd  5b51032eddd242adc84c38acab88f23d   \n",
       "3  7634da152a4610f1595efa32f14722fc  9d7a1d34a5052409006425275ba1c2b4   \n",
       "4  ac6c3623068f30de03045865e4e10089  df560393f3a51e74553ab94004ba5c87   \n",
       "\n",
       "   shipping_limit_date   price  freight_value  \n",
       "0  2017-09-19 09:45:35   58.90          13.29  \n",
       "1  2017-05-03 11:05:13  239.90          19.93  \n",
       "2  2018-01-18 14:48:30  199.00          17.87  \n",
       "3  2018-08-15 10:10:18   12.99          12.79  \n",
       "4  2017-02-13 13:57:51  199.90          18.14  "
      ]
     },
     "metadata": {},
     "output_type": "display_data"
    },
    {
     "data": {
      "text/html": [
       "<div>\n",
       "<style scoped>\n",
       "    .dataframe tbody tr th:only-of-type {\n",
       "        vertical-align: middle;\n",
       "    }\n",
       "\n",
       "    .dataframe tbody tr th {\n",
       "        vertical-align: top;\n",
       "    }\n",
       "\n",
       "    .dataframe thead th {\n",
       "        text-align: right;\n",
       "    }\n",
       "</style>\n",
       "<table border=\"1\" class=\"dataframe\">\n",
       "  <thead>\n",
       "    <tr style=\"text-align: right;\">\n",
       "      <th></th>\n",
       "      <th>order_id</th>\n",
       "      <th>payment_sequential</th>\n",
       "      <th>payment_type</th>\n",
       "      <th>payment_installments</th>\n",
       "      <th>payment_value</th>\n",
       "    </tr>\n",
       "  </thead>\n",
       "  <tbody>\n",
       "    <tr>\n",
       "      <th>0</th>\n",
       "      <td>b81ef226f3fe1789b1e8b2acac839d17</td>\n",
       "      <td>1</td>\n",
       "      <td>credit_card</td>\n",
       "      <td>8</td>\n",
       "      <td>99.33</td>\n",
       "    </tr>\n",
       "    <tr>\n",
       "      <th>1</th>\n",
       "      <td>a9810da82917af2d9aefd1278f1dcfa0</td>\n",
       "      <td>1</td>\n",
       "      <td>credit_card</td>\n",
       "      <td>1</td>\n",
       "      <td>24.39</td>\n",
       "    </tr>\n",
       "    <tr>\n",
       "      <th>2</th>\n",
       "      <td>25e8ea4e93396b6fa0d3dd708e76c1bd</td>\n",
       "      <td>1</td>\n",
       "      <td>credit_card</td>\n",
       "      <td>1</td>\n",
       "      <td>65.71</td>\n",
       "    </tr>\n",
       "    <tr>\n",
       "      <th>3</th>\n",
       "      <td>ba78997921bbcdc1373bb41e913ab953</td>\n",
       "      <td>1</td>\n",
       "      <td>credit_card</td>\n",
       "      <td>8</td>\n",
       "      <td>107.78</td>\n",
       "    </tr>\n",
       "    <tr>\n",
       "      <th>4</th>\n",
       "      <td>42fdf880ba16b47b59251dd489d4441a</td>\n",
       "      <td>1</td>\n",
       "      <td>credit_card</td>\n",
       "      <td>2</td>\n",
       "      <td>128.45</td>\n",
       "    </tr>\n",
       "  </tbody>\n",
       "</table>\n",
       "</div>"
      ],
      "text/plain": [
       "                           order_id  payment_sequential payment_type  \\\n",
       "0  b81ef226f3fe1789b1e8b2acac839d17                   1  credit_card   \n",
       "1  a9810da82917af2d9aefd1278f1dcfa0                   1  credit_card   \n",
       "2  25e8ea4e93396b6fa0d3dd708e76c1bd                   1  credit_card   \n",
       "3  ba78997921bbcdc1373bb41e913ab953                   1  credit_card   \n",
       "4  42fdf880ba16b47b59251dd489d4441a                   1  credit_card   \n",
       "\n",
       "   payment_installments  payment_value  \n",
       "0                     8          99.33  \n",
       "1                     1          24.39  \n",
       "2                     1          65.71  \n",
       "3                     8         107.78  \n",
       "4                     2         128.45  "
      ]
     },
     "metadata": {},
     "output_type": "display_data"
    },
    {
     "data": {
      "text/html": [
       "<div>\n",
       "<style scoped>\n",
       "    .dataframe tbody tr th:only-of-type {\n",
       "        vertical-align: middle;\n",
       "    }\n",
       "\n",
       "    .dataframe tbody tr th {\n",
       "        vertical-align: top;\n",
       "    }\n",
       "\n",
       "    .dataframe thead th {\n",
       "        text-align: right;\n",
       "    }\n",
       "</style>\n",
       "<table border=\"1\" class=\"dataframe\">\n",
       "  <thead>\n",
       "    <tr style=\"text-align: right;\">\n",
       "      <th></th>\n",
       "      <th>review_id</th>\n",
       "      <th>order_id</th>\n",
       "      <th>review_score</th>\n",
       "      <th>review_comment_title</th>\n",
       "      <th>review_comment_message</th>\n",
       "      <th>review_creation_date</th>\n",
       "      <th>review_answer_timestamp</th>\n",
       "    </tr>\n",
       "  </thead>\n",
       "  <tbody>\n",
       "    <tr>\n",
       "      <th>0</th>\n",
       "      <td>7bc2406110b926393aa56f80a40eba40</td>\n",
       "      <td>73fc7af87114b39712e6da79b0a377eb</td>\n",
       "      <td>4</td>\n",
       "      <td>NaN</td>\n",
       "      <td>NaN</td>\n",
       "      <td>2018-01-18 00:00:00</td>\n",
       "      <td>2018-01-18 21:46:59</td>\n",
       "    </tr>\n",
       "    <tr>\n",
       "      <th>1</th>\n",
       "      <td>80e641a11e56f04c1ad469d5645fdfde</td>\n",
       "      <td>a548910a1c6147796b98fdf73dbeba33</td>\n",
       "      <td>5</td>\n",
       "      <td>NaN</td>\n",
       "      <td>NaN</td>\n",
       "      <td>2018-03-10 00:00:00</td>\n",
       "      <td>2018-03-11 03:05:13</td>\n",
       "    </tr>\n",
       "    <tr>\n",
       "      <th>2</th>\n",
       "      <td>228ce5500dc1d8e020d8d1322874b6f0</td>\n",
       "      <td>f9e4b658b201a9f2ecdecbb34bed034b</td>\n",
       "      <td>5</td>\n",
       "      <td>NaN</td>\n",
       "      <td>NaN</td>\n",
       "      <td>2018-02-17 00:00:00</td>\n",
       "      <td>2018-02-18 14:36:24</td>\n",
       "    </tr>\n",
       "    <tr>\n",
       "      <th>3</th>\n",
       "      <td>e64fb393e7b32834bb789ff8bb30750e</td>\n",
       "      <td>658677c97b385a9be170737859d3511b</td>\n",
       "      <td>5</td>\n",
       "      <td>NaN</td>\n",
       "      <td>Recebi bem antes do prazo estipulado.</td>\n",
       "      <td>2017-04-21 00:00:00</td>\n",
       "      <td>2017-04-21 22:02:06</td>\n",
       "    </tr>\n",
       "    <tr>\n",
       "      <th>4</th>\n",
       "      <td>f7c4243c7fe1938f181bec41a392bdeb</td>\n",
       "      <td>8e6bfb81e283fa7e4f11123a3fb894f1</td>\n",
       "      <td>5</td>\n",
       "      <td>NaN</td>\n",
       "      <td>Parabéns lojas lannister adorei comprar pela I...</td>\n",
       "      <td>2018-03-01 00:00:00</td>\n",
       "      <td>2018-03-02 10:26:53</td>\n",
       "    </tr>\n",
       "  </tbody>\n",
       "</table>\n",
       "</div>"
      ],
      "text/plain": [
       "                          review_id                          order_id  \\\n",
       "0  7bc2406110b926393aa56f80a40eba40  73fc7af87114b39712e6da79b0a377eb   \n",
       "1  80e641a11e56f04c1ad469d5645fdfde  a548910a1c6147796b98fdf73dbeba33   \n",
       "2  228ce5500dc1d8e020d8d1322874b6f0  f9e4b658b201a9f2ecdecbb34bed034b   \n",
       "3  e64fb393e7b32834bb789ff8bb30750e  658677c97b385a9be170737859d3511b   \n",
       "4  f7c4243c7fe1938f181bec41a392bdeb  8e6bfb81e283fa7e4f11123a3fb894f1   \n",
       "\n",
       "   review_score review_comment_title  \\\n",
       "0             4                  NaN   \n",
       "1             5                  NaN   \n",
       "2             5                  NaN   \n",
       "3             5                  NaN   \n",
       "4             5                  NaN   \n",
       "\n",
       "                              review_comment_message review_creation_date  \\\n",
       "0                                                NaN  2018-01-18 00:00:00   \n",
       "1                                                NaN  2018-03-10 00:00:00   \n",
       "2                                                NaN  2018-02-17 00:00:00   \n",
       "3              Recebi bem antes do prazo estipulado.  2017-04-21 00:00:00   \n",
       "4  Parabéns lojas lannister adorei comprar pela I...  2018-03-01 00:00:00   \n",
       "\n",
       "  review_answer_timestamp  \n",
       "0     2018-01-18 21:46:59  \n",
       "1     2018-03-11 03:05:13  \n",
       "2     2018-02-18 14:36:24  \n",
       "3     2017-04-21 22:02:06  \n",
       "4     2018-03-02 10:26:53  "
      ]
     },
     "metadata": {},
     "output_type": "display_data"
    },
    {
     "data": {
      "text/html": [
       "<div>\n",
       "<style scoped>\n",
       "    .dataframe tbody tr th:only-of-type {\n",
       "        vertical-align: middle;\n",
       "    }\n",
       "\n",
       "    .dataframe tbody tr th {\n",
       "        vertical-align: top;\n",
       "    }\n",
       "\n",
       "    .dataframe thead th {\n",
       "        text-align: right;\n",
       "    }\n",
       "</style>\n",
       "<table border=\"1\" class=\"dataframe\">\n",
       "  <thead>\n",
       "    <tr style=\"text-align: right;\">\n",
       "      <th></th>\n",
       "      <th>product_id</th>\n",
       "      <th>product_category_name</th>\n",
       "      <th>product_name_lenght</th>\n",
       "      <th>product_description_lenght</th>\n",
       "      <th>product_photos_qty</th>\n",
       "      <th>product_weight_g</th>\n",
       "      <th>product_length_cm</th>\n",
       "      <th>product_height_cm</th>\n",
       "      <th>product_width_cm</th>\n",
       "    </tr>\n",
       "  </thead>\n",
       "  <tbody>\n",
       "    <tr>\n",
       "      <th>0</th>\n",
       "      <td>1e9e8ef04dbcff4541ed26657ea517e5</td>\n",
       "      <td>perfumaria</td>\n",
       "      <td>40.0</td>\n",
       "      <td>287.0</td>\n",
       "      <td>1.0</td>\n",
       "      <td>225.0</td>\n",
       "      <td>16.0</td>\n",
       "      <td>10.0</td>\n",
       "      <td>14.0</td>\n",
       "    </tr>\n",
       "    <tr>\n",
       "      <th>1</th>\n",
       "      <td>3aa071139cb16b67ca9e5dea641aaa2f</td>\n",
       "      <td>artes</td>\n",
       "      <td>44.0</td>\n",
       "      <td>276.0</td>\n",
       "      <td>1.0</td>\n",
       "      <td>1000.0</td>\n",
       "      <td>30.0</td>\n",
       "      <td>18.0</td>\n",
       "      <td>20.0</td>\n",
       "    </tr>\n",
       "    <tr>\n",
       "      <th>2</th>\n",
       "      <td>96bd76ec8810374ed1b65e291975717f</td>\n",
       "      <td>esporte_lazer</td>\n",
       "      <td>46.0</td>\n",
       "      <td>250.0</td>\n",
       "      <td>1.0</td>\n",
       "      <td>154.0</td>\n",
       "      <td>18.0</td>\n",
       "      <td>9.0</td>\n",
       "      <td>15.0</td>\n",
       "    </tr>\n",
       "    <tr>\n",
       "      <th>3</th>\n",
       "      <td>cef67bcfe19066a932b7673e239eb23d</td>\n",
       "      <td>bebes</td>\n",
       "      <td>27.0</td>\n",
       "      <td>261.0</td>\n",
       "      <td>1.0</td>\n",
       "      <td>371.0</td>\n",
       "      <td>26.0</td>\n",
       "      <td>4.0</td>\n",
       "      <td>26.0</td>\n",
       "    </tr>\n",
       "    <tr>\n",
       "      <th>4</th>\n",
       "      <td>9dc1a7de274444849c219cff195d0b71</td>\n",
       "      <td>utilidades_domesticas</td>\n",
       "      <td>37.0</td>\n",
       "      <td>402.0</td>\n",
       "      <td>4.0</td>\n",
       "      <td>625.0</td>\n",
       "      <td>20.0</td>\n",
       "      <td>17.0</td>\n",
       "      <td>13.0</td>\n",
       "    </tr>\n",
       "  </tbody>\n",
       "</table>\n",
       "</div>"
      ],
      "text/plain": [
       "                         product_id  product_category_name  \\\n",
       "0  1e9e8ef04dbcff4541ed26657ea517e5             perfumaria   \n",
       "1  3aa071139cb16b67ca9e5dea641aaa2f                  artes   \n",
       "2  96bd76ec8810374ed1b65e291975717f          esporte_lazer   \n",
       "3  cef67bcfe19066a932b7673e239eb23d                  bebes   \n",
       "4  9dc1a7de274444849c219cff195d0b71  utilidades_domesticas   \n",
       "\n",
       "   product_name_lenght  product_description_lenght  product_photos_qty  \\\n",
       "0                 40.0                       287.0                 1.0   \n",
       "1                 44.0                       276.0                 1.0   \n",
       "2                 46.0                       250.0                 1.0   \n",
       "3                 27.0                       261.0                 1.0   \n",
       "4                 37.0                       402.0                 4.0   \n",
       "\n",
       "   product_weight_g  product_length_cm  product_height_cm  product_width_cm  \n",
       "0             225.0               16.0               10.0              14.0  \n",
       "1            1000.0               30.0               18.0              20.0  \n",
       "2             154.0               18.0                9.0              15.0  \n",
       "3             371.0               26.0                4.0              26.0  \n",
       "4             625.0               20.0               17.0              13.0  "
      ]
     },
     "metadata": {},
     "output_type": "display_data"
    },
    {
     "data": {
      "text/html": [
       "<div>\n",
       "<style scoped>\n",
       "    .dataframe tbody tr th:only-of-type {\n",
       "        vertical-align: middle;\n",
       "    }\n",
       "\n",
       "    .dataframe tbody tr th {\n",
       "        vertical-align: top;\n",
       "    }\n",
       "\n",
       "    .dataframe thead th {\n",
       "        text-align: right;\n",
       "    }\n",
       "</style>\n",
       "<table border=\"1\" class=\"dataframe\">\n",
       "  <thead>\n",
       "    <tr style=\"text-align: right;\">\n",
       "      <th></th>\n",
       "      <th>seller_id</th>\n",
       "      <th>seller_zip_code_prefix</th>\n",
       "      <th>seller_city</th>\n",
       "      <th>seller_state</th>\n",
       "    </tr>\n",
       "  </thead>\n",
       "  <tbody>\n",
       "    <tr>\n",
       "      <th>0</th>\n",
       "      <td>3442f8959a84dea7ee197c632cb2df15</td>\n",
       "      <td>13023</td>\n",
       "      <td>campinas</td>\n",
       "      <td>SP</td>\n",
       "    </tr>\n",
       "    <tr>\n",
       "      <th>1</th>\n",
       "      <td>d1b65fc7debc3361ea86b5f14c68d2e2</td>\n",
       "      <td>13844</td>\n",
       "      <td>mogi guacu</td>\n",
       "      <td>SP</td>\n",
       "    </tr>\n",
       "    <tr>\n",
       "      <th>2</th>\n",
       "      <td>ce3ad9de960102d0677a81f5d0bb7b2d</td>\n",
       "      <td>20031</td>\n",
       "      <td>rio de janeiro</td>\n",
       "      <td>RJ</td>\n",
       "    </tr>\n",
       "    <tr>\n",
       "      <th>3</th>\n",
       "      <td>c0f3eea2e14555b6faeea3dd58c1b1c3</td>\n",
       "      <td>4195</td>\n",
       "      <td>sao paulo</td>\n",
       "      <td>SP</td>\n",
       "    </tr>\n",
       "    <tr>\n",
       "      <th>4</th>\n",
       "      <td>51a04a8a6bdcb23deccc82b0b80742cf</td>\n",
       "      <td>12914</td>\n",
       "      <td>braganca paulista</td>\n",
       "      <td>SP</td>\n",
       "    </tr>\n",
       "  </tbody>\n",
       "</table>\n",
       "</div>"
      ],
      "text/plain": [
       "                          seller_id  seller_zip_code_prefix  \\\n",
       "0  3442f8959a84dea7ee197c632cb2df15                   13023   \n",
       "1  d1b65fc7debc3361ea86b5f14c68d2e2                   13844   \n",
       "2  ce3ad9de960102d0677a81f5d0bb7b2d                   20031   \n",
       "3  c0f3eea2e14555b6faeea3dd58c1b1c3                    4195   \n",
       "4  51a04a8a6bdcb23deccc82b0b80742cf                   12914   \n",
       "\n",
       "         seller_city seller_state  \n",
       "0           campinas           SP  \n",
       "1         mogi guacu           SP  \n",
       "2     rio de janeiro           RJ  \n",
       "3          sao paulo           SP  \n",
       "4  braganca paulista           SP  "
      ]
     },
     "metadata": {},
     "output_type": "display_data"
    }
   ],
   "source": [
    "#Looping using the display function imported above, because Jupyter doesnt print in tabular formats(true for every print)\n",
    "for i in df_list:\n",
    "    display(i.head(5))"
   ]
  },
  {
   "cell_type": "markdown",
   "metadata": {},
   "source": [
    "### Finding Attributes of each table with loops"
   ]
  },
  {
   "cell_type": "code",
   "execution_count": 39,
   "metadata": {
    "scrolled": true
   },
   "outputs": [
    {
     "data": {
      "text/html": [
       "<style  type=\"text/css\" >\n",
       "    #T_acb1964a_37d2_11eb_9af1_98e7f430c3cbrow0_col1 {\n",
       "            background-color:  #f3d0d0;\n",
       "            color:  #000000;\n",
       "        }    #T_acb1964a_37d2_11eb_9af1_98e7f430c3cbrow0_col2 {\n",
       "            background-color:  #e6b8b8;\n",
       "            color:  #000000;\n",
       "        }    #T_acb1964a_37d2_11eb_9af1_98e7f430c3cbrow0_col3 {\n",
       "            background-color:  #ffe5e5;\n",
       "            color:  #000000;\n",
       "        }    #T_acb1964a_37d2_11eb_9af1_98e7f430c3cbrow0_col4 {\n",
       "            background-color:  #ffe5e5;\n",
       "            color:  #000000;\n",
       "        }    #T_acb1964a_37d2_11eb_9af1_98e7f430c3cbrow1_col1 {\n",
       "            background-color:  #800000;\n",
       "            color:  #f1f1f1;\n",
       "        }    #T_acb1964a_37d2_11eb_9af1_98e7f430c3cbrow1_col2 {\n",
       "            background-color:  #e6b8b8;\n",
       "            color:  #000000;\n",
       "        }    #T_acb1964a_37d2_11eb_9af1_98e7f430c3cbrow1_col3 {\n",
       "            background-color:  #ffe5e5;\n",
       "            color:  #000000;\n",
       "        }    #T_acb1964a_37d2_11eb_9af1_98e7f430c3cbrow1_col4 {\n",
       "            background-color:  #ffe5e5;\n",
       "            color:  #000000;\n",
       "        }    #T_acb1964a_37d2_11eb_9af1_98e7f430c3cbrow2_col1 {\n",
       "            background-color:  #f3d0d0;\n",
       "            color:  #000000;\n",
       "        }    #T_acb1964a_37d2_11eb_9af1_98e7f430c3cbrow2_col2 {\n",
       "            background-color:  #992e2e;\n",
       "            color:  #f1f1f1;\n",
       "        }    #T_acb1964a_37d2_11eb_9af1_98e7f430c3cbrow2_col3 {\n",
       "            background-color:  #fbdede;\n",
       "            color:  #000000;\n",
       "        }    #T_acb1964a_37d2_11eb_9af1_98e7f430c3cbrow2_col4 {\n",
       "            background-color:  #cf8f8f;\n",
       "            color:  #000000;\n",
       "        }    #T_acb1964a_37d2_11eb_9af1_98e7f430c3cbrow3_col1 {\n",
       "            background-color:  #f1cccc;\n",
       "            color:  #000000;\n",
       "        }    #T_acb1964a_37d2_11eb_9af1_98e7f430c3cbrow3_col2 {\n",
       "            background-color:  #b35c5c;\n",
       "            color:  #000000;\n",
       "        }    #T_acb1964a_37d2_11eb_9af1_98e7f430c3cbrow3_col3 {\n",
       "            background-color:  #ffe5e5;\n",
       "            color:  #000000;\n",
       "        }    #T_acb1964a_37d2_11eb_9af1_98e7f430c3cbrow3_col4 {\n",
       "            background-color:  #ffe5e5;\n",
       "            color:  #000000;\n",
       "        }    #T_acb1964a_37d2_11eb_9af1_98e7f430c3cbrow4_col1 {\n",
       "            background-color:  #f3cfcf;\n",
       "            color:  #000000;\n",
       "        }    #T_acb1964a_37d2_11eb_9af1_98e7f430c3cbrow4_col2 {\n",
       "            background-color:  #e6b8b8;\n",
       "            color:  #000000;\n",
       "        }    #T_acb1964a_37d2_11eb_9af1_98e7f430c3cbrow4_col3 {\n",
       "            background-color:  #ffe5e5;\n",
       "            color:  #000000;\n",
       "        }    #T_acb1964a_37d2_11eb_9af1_98e7f430c3cbrow4_col4 {\n",
       "            background-color:  #ffe5e5;\n",
       "            color:  #000000;\n",
       "        }    #T_acb1964a_37d2_11eb_9af1_98e7f430c3cbrow5_col1 {\n",
       "            background-color:  #f3d0d0;\n",
       "            color:  #000000;\n",
       "        }    #T_acb1964a_37d2_11eb_9af1_98e7f430c3cbrow5_col2 {\n",
       "            background-color:  #b35c5c;\n",
       "            color:  #000000;\n",
       "        }    #T_acb1964a_37d2_11eb_9af1_98e7f430c3cbrow5_col3 {\n",
       "            background-color:  #800000;\n",
       "            color:  #f1f1f1;\n",
       "        }    #T_acb1964a_37d2_11eb_9af1_98e7f430c3cbrow5_col4 {\n",
       "            background-color:  #dfacac;\n",
       "            color:  #000000;\n",
       "        }    #T_acb1964a_37d2_11eb_9af1_98e7f430c3cbrow6_col1 {\n",
       "            background-color:  #fcdfdf;\n",
       "            color:  #000000;\n",
       "        }    #T_acb1964a_37d2_11eb_9af1_98e7f430c3cbrow6_col2 {\n",
       "            background-color:  #800000;\n",
       "            color:  #f1f1f1;\n",
       "        }    #T_acb1964a_37d2_11eb_9af1_98e7f430c3cbrow6_col3 {\n",
       "            background-color:  #fde2e2;\n",
       "            color:  #000000;\n",
       "        }    #T_acb1964a_37d2_11eb_9af1_98e7f430c3cbrow6_col4 {\n",
       "            background-color:  #800000;\n",
       "            color:  #f1f1f1;\n",
       "        }    #T_acb1964a_37d2_11eb_9af1_98e7f430c3cbrow7_col1 {\n",
       "            background-color:  #ffe5e5;\n",
       "            color:  #000000;\n",
       "        }    #T_acb1964a_37d2_11eb_9af1_98e7f430c3cbrow7_col2 {\n",
       "            background-color:  #ffe5e5;\n",
       "            color:  #000000;\n",
       "        }    #T_acb1964a_37d2_11eb_9af1_98e7f430c3cbrow7_col3 {\n",
       "            background-color:  #ffe5e5;\n",
       "            color:  #000000;\n",
       "        }    #T_acb1964a_37d2_11eb_9af1_98e7f430c3cbrow7_col4 {\n",
       "            background-color:  #ffe5e5;\n",
       "            color:  #000000;\n",
       "        }</style><table id=\"T_acb1964a_37d2_11eb_9af1_98e7f430c3cb\" ><thead>    <tr>        <th class=\"blank level0\" ></th>        <th class=\"col_heading level0 col0\" >Dataframe</th>        <th class=\"col_heading level0 col1\" >Rows</th>        <th class=\"col_heading level0 col2\" >Columns</th>        <th class=\"col_heading level0 col3\" >Null Value Count</th>        <th class=\"col_heading level0 col4\" >Null Columns</th>        <th class=\"col_heading level0 col5\" >Null Columns Name</th>    </tr></thead><tbody>\n",
       "                <tr>\n",
       "                        <th id=\"T_acb1964a_37d2_11eb_9af1_98e7f430c3cblevel0_row0\" class=\"row_heading level0 row0\" >0</th>\n",
       "                        <td id=\"T_acb1964a_37d2_11eb_9af1_98e7f430c3cbrow0_col0\" class=\"data row0 col0\" >customer</td>\n",
       "                        <td id=\"T_acb1964a_37d2_11eb_9af1_98e7f430c3cbrow0_col1\" class=\"data row0 col1\" >99441</td>\n",
       "                        <td id=\"T_acb1964a_37d2_11eb_9af1_98e7f430c3cbrow0_col2\" class=\"data row0 col2\" >5</td>\n",
       "                        <td id=\"T_acb1964a_37d2_11eb_9af1_98e7f430c3cbrow0_col3\" class=\"data row0 col3\" >0</td>\n",
       "                        <td id=\"T_acb1964a_37d2_11eb_9af1_98e7f430c3cbrow0_col4\" class=\"data row0 col4\" >0</td>\n",
       "                        <td id=\"T_acb1964a_37d2_11eb_9af1_98e7f430c3cbrow0_col5\" class=\"data row0 col5\" ></td>\n",
       "            </tr>\n",
       "            <tr>\n",
       "                        <th id=\"T_acb1964a_37d2_11eb_9af1_98e7f430c3cblevel0_row1\" class=\"row_heading level0 row1\" >1</th>\n",
       "                        <td id=\"T_acb1964a_37d2_11eb_9af1_98e7f430c3cbrow1_col0\" class=\"data row1 col0\" >geolocation</td>\n",
       "                        <td id=\"T_acb1964a_37d2_11eb_9af1_98e7f430c3cbrow1_col1\" class=\"data row1 col1\" >1000163</td>\n",
       "                        <td id=\"T_acb1964a_37d2_11eb_9af1_98e7f430c3cbrow1_col2\" class=\"data row1 col2\" >5</td>\n",
       "                        <td id=\"T_acb1964a_37d2_11eb_9af1_98e7f430c3cbrow1_col3\" class=\"data row1 col3\" >0</td>\n",
       "                        <td id=\"T_acb1964a_37d2_11eb_9af1_98e7f430c3cbrow1_col4\" class=\"data row1 col4\" >0</td>\n",
       "                        <td id=\"T_acb1964a_37d2_11eb_9af1_98e7f430c3cbrow1_col5\" class=\"data row1 col5\" ></td>\n",
       "            </tr>\n",
       "            <tr>\n",
       "                        <th id=\"T_acb1964a_37d2_11eb_9af1_98e7f430c3cblevel0_row2\" class=\"row_heading level0 row2\" >2</th>\n",
       "                        <td id=\"T_acb1964a_37d2_11eb_9af1_98e7f430c3cbrow2_col0\" class=\"data row2 col0\" >orders</td>\n",
       "                        <td id=\"T_acb1964a_37d2_11eb_9af1_98e7f430c3cbrow2_col1\" class=\"data row2 col1\" >99441</td>\n",
       "                        <td id=\"T_acb1964a_37d2_11eb_9af1_98e7f430c3cbrow2_col2\" class=\"data row2 col2\" >8</td>\n",
       "                        <td id=\"T_acb1964a_37d2_11eb_9af1_98e7f430c3cbrow2_col3\" class=\"data row2 col3\" >4908</td>\n",
       "                        <td id=\"T_acb1964a_37d2_11eb_9af1_98e7f430c3cbrow2_col4\" class=\"data row2 col4\" >3</td>\n",
       "                        <td id=\"T_acb1964a_37d2_11eb_9af1_98e7f430c3cbrow2_col5\" class=\"data row2 col5\" >order_approved_at, order_delivered_carrier_date, order_delivered_customer_date</td>\n",
       "            </tr>\n",
       "            <tr>\n",
       "                        <th id=\"T_acb1964a_37d2_11eb_9af1_98e7f430c3cblevel0_row3\" class=\"row_heading level0 row3\" >3</th>\n",
       "                        <td id=\"T_acb1964a_37d2_11eb_9af1_98e7f430c3cbrow3_col0\" class=\"data row3 col0\" >order_items</td>\n",
       "                        <td id=\"T_acb1964a_37d2_11eb_9af1_98e7f430c3cbrow3_col1\" class=\"data row3 col1\" >112650</td>\n",
       "                        <td id=\"T_acb1964a_37d2_11eb_9af1_98e7f430c3cbrow3_col2\" class=\"data row3 col2\" >7</td>\n",
       "                        <td id=\"T_acb1964a_37d2_11eb_9af1_98e7f430c3cbrow3_col3\" class=\"data row3 col3\" >0</td>\n",
       "                        <td id=\"T_acb1964a_37d2_11eb_9af1_98e7f430c3cbrow3_col4\" class=\"data row3 col4\" >0</td>\n",
       "                        <td id=\"T_acb1964a_37d2_11eb_9af1_98e7f430c3cbrow3_col5\" class=\"data row3 col5\" ></td>\n",
       "            </tr>\n",
       "            <tr>\n",
       "                        <th id=\"T_acb1964a_37d2_11eb_9af1_98e7f430c3cblevel0_row4\" class=\"row_heading level0 row4\" >4</th>\n",
       "                        <td id=\"T_acb1964a_37d2_11eb_9af1_98e7f430c3cbrow4_col0\" class=\"data row4 col0\" >order_payments</td>\n",
       "                        <td id=\"T_acb1964a_37d2_11eb_9af1_98e7f430c3cbrow4_col1\" class=\"data row4 col1\" >103886</td>\n",
       "                        <td id=\"T_acb1964a_37d2_11eb_9af1_98e7f430c3cbrow4_col2\" class=\"data row4 col2\" >5</td>\n",
       "                        <td id=\"T_acb1964a_37d2_11eb_9af1_98e7f430c3cbrow4_col3\" class=\"data row4 col3\" >0</td>\n",
       "                        <td id=\"T_acb1964a_37d2_11eb_9af1_98e7f430c3cbrow4_col4\" class=\"data row4 col4\" >0</td>\n",
       "                        <td id=\"T_acb1964a_37d2_11eb_9af1_98e7f430c3cbrow4_col5\" class=\"data row4 col5\" ></td>\n",
       "            </tr>\n",
       "            <tr>\n",
       "                        <th id=\"T_acb1964a_37d2_11eb_9af1_98e7f430c3cblevel0_row5\" class=\"row_heading level0 row5\" >5</th>\n",
       "                        <td id=\"T_acb1964a_37d2_11eb_9af1_98e7f430c3cbrow5_col0\" class=\"data row5 col0\" >order_reviews</td>\n",
       "                        <td id=\"T_acb1964a_37d2_11eb_9af1_98e7f430c3cbrow5_col1\" class=\"data row5 col1\" >100000</td>\n",
       "                        <td id=\"T_acb1964a_37d2_11eb_9af1_98e7f430c3cbrow5_col2\" class=\"data row5 col2\" >7</td>\n",
       "                        <td id=\"T_acb1964a_37d2_11eb_9af1_98e7f430c3cbrow5_col3\" class=\"data row5 col3\" >146532</td>\n",
       "                        <td id=\"T_acb1964a_37d2_11eb_9af1_98e7f430c3cbrow5_col4\" class=\"data row5 col4\" >2</td>\n",
       "                        <td id=\"T_acb1964a_37d2_11eb_9af1_98e7f430c3cbrow5_col5\" class=\"data row5 col5\" >review_comment_title, review_comment_message</td>\n",
       "            </tr>\n",
       "            <tr>\n",
       "                        <th id=\"T_acb1964a_37d2_11eb_9af1_98e7f430c3cblevel0_row6\" class=\"row_heading level0 row6\" >6</th>\n",
       "                        <td id=\"T_acb1964a_37d2_11eb_9af1_98e7f430c3cbrow6_col0\" class=\"data row6 col0\" >products</td>\n",
       "                        <td id=\"T_acb1964a_37d2_11eb_9af1_98e7f430c3cbrow6_col1\" class=\"data row6 col1\" >32951</td>\n",
       "                        <td id=\"T_acb1964a_37d2_11eb_9af1_98e7f430c3cbrow6_col2\" class=\"data row6 col2\" >9</td>\n",
       "                        <td id=\"T_acb1964a_37d2_11eb_9af1_98e7f430c3cbrow6_col3\" class=\"data row6 col3\" >2448</td>\n",
       "                        <td id=\"T_acb1964a_37d2_11eb_9af1_98e7f430c3cbrow6_col4\" class=\"data row6 col4\" >8</td>\n",
       "                        <td id=\"T_acb1964a_37d2_11eb_9af1_98e7f430c3cbrow6_col5\" class=\"data row6 col5\" >product_category_name, product_name_lenght, product_description_lenght, product_photos_qty, product_weight_g, product_length_cm, product_height_cm, product_width_cm</td>\n",
       "            </tr>\n",
       "            <tr>\n",
       "                        <th id=\"T_acb1964a_37d2_11eb_9af1_98e7f430c3cblevel0_row7\" class=\"row_heading level0 row7\" >7</th>\n",
       "                        <td id=\"T_acb1964a_37d2_11eb_9af1_98e7f430c3cbrow7_col0\" class=\"data row7 col0\" >sellers</td>\n",
       "                        <td id=\"T_acb1964a_37d2_11eb_9af1_98e7f430c3cbrow7_col1\" class=\"data row7 col1\" >3095</td>\n",
       "                        <td id=\"T_acb1964a_37d2_11eb_9af1_98e7f430c3cbrow7_col2\" class=\"data row7 col2\" >4</td>\n",
       "                        <td id=\"T_acb1964a_37d2_11eb_9af1_98e7f430c3cbrow7_col3\" class=\"data row7 col3\" >0</td>\n",
       "                        <td id=\"T_acb1964a_37d2_11eb_9af1_98e7f430c3cbrow7_col4\" class=\"data row7 col4\" >0</td>\n",
       "                        <td id=\"T_acb1964a_37d2_11eb_9af1_98e7f430c3cbrow7_col5\" class=\"data row7 col5\" ></td>\n",
       "            </tr>\n",
       "    </tbody></table>"
      ],
      "text/plain": [
       "<pandas.io.formats.style.Styler at 0x23e8c640688>"
      ]
     },
     "execution_count": 39,
     "metadata": {},
     "output_type": "execute_result"
    }
   ],
   "source": [
    "#Finding Attributes of each table with loops\n",
    "df_names = ['customer','geolocation','orders','order_items','order_payments','order_reviews','products','sellers']\n",
    "df_info_table = pd.DataFrame({}) # Creating an Empty Dataframe\n",
    "df_info_table['Dataframe'] = df_names # Creating a Column with Dataframe(WIll work as in index)\n",
    "df_info_table['Rows'] = [df.shape[0] for df in df_list] #List Comprehension\n",
    "df_info_table['Columns'] = [df.shape[1] for df in df_list]\n",
    "df_info_table['Null Value Count'] = [df.isnull().sum().sum() for df in df_list]\n",
    "df_info_table['Null Columns'] = [len([col for col, null in df.isnull().sum().items() if null > 0]) for df in df_list]\n",
    "df_info_table['Null Columns Name'] = [', '.join([col for col, null in df.isnull().sum().items() if null > 0]) for df in df_list]\n",
    "\n",
    "\n",
    "#Chosing a Colour Paletter with Seaborn Library\n",
    "cm = sns.light_palette(\"maroon\", as_cmap=True)\n",
    "\n",
    "#Mapping the style to the dataframe\n",
    "df_info_table.style.background_gradient(cmap=cm)"
   ]
  },
  {
   "cell_type": "markdown",
   "metadata": {},
   "source": [
    "# Assessing The Columns of Dataframes"
   ]
  },
  {
   "cell_type": "markdown",
   "metadata": {},
   "source": [
    "### Assessing Cutomer Table"
   ]
  },
  {
   "cell_type": "code",
   "execution_count": 40,
   "metadata": {},
   "outputs": [
    {
     "data": {
      "text/plain": [
       "customer_id                 object\n",
       "customer_unique_id          object\n",
       "customer_zip_code_prefix     int64\n",
       "customer_city               object\n",
       "customer_state              object\n",
       "dtype: object"
      ]
     },
     "execution_count": 40,
     "metadata": {},
     "output_type": "execute_result"
    }
   ],
   "source": [
    "customer.dtypes"
   ]
  },
  {
   "cell_type": "code",
   "execution_count": 41,
   "metadata": {},
   "outputs": [
    {
     "data": {
      "text/plain": [
       "(96096, 99441)"
      ]
     },
     "execution_count": 41,
     "metadata": {},
     "output_type": "execute_result"
    }
   ],
   "source": [
    "#What is Customer Unique ID and Customer ID? We can Drop One of the Two Columns\n",
    "len(customer.customer_unique_id.unique()),len(customer.customer_id.unique())"
   ]
  },
  {
   "cell_type": "code",
   "execution_count": 42,
   "metadata": {},
   "outputs": [
    {
     "data": {
      "text/html": [
       "<div>\n",
       "<style scoped>\n",
       "    .dataframe tbody tr th:only-of-type {\n",
       "        vertical-align: middle;\n",
       "    }\n",
       "\n",
       "    .dataframe tbody tr th {\n",
       "        vertical-align: top;\n",
       "    }\n",
       "\n",
       "    .dataframe thead th {\n",
       "        text-align: right;\n",
       "    }\n",
       "</style>\n",
       "<table border=\"1\" class=\"dataframe\">\n",
       "  <thead>\n",
       "    <tr style=\"text-align: right;\">\n",
       "      <th></th>\n",
       "      <th>customer_id</th>\n",
       "      <th>customer_zip_code_prefix</th>\n",
       "      <th>customer_city</th>\n",
       "      <th>customer_state</th>\n",
       "    </tr>\n",
       "  </thead>\n",
       "  <tbody>\n",
       "    <tr>\n",
       "      <th>0</th>\n",
       "      <td>06b8999e2fba1a1fbc88172c00ba8bc7</td>\n",
       "      <td>14409</td>\n",
       "      <td>franca</td>\n",
       "      <td>SP</td>\n",
       "    </tr>\n",
       "  </tbody>\n",
       "</table>\n",
       "</div>"
      ],
      "text/plain": [
       "                        customer_id  customer_zip_code_prefix customer_city  \\\n",
       "0  06b8999e2fba1a1fbc88172c00ba8bc7                     14409        franca   \n",
       "\n",
       "  customer_state  \n",
       "0             SP  "
      ]
     },
     "execution_count": 42,
     "metadata": {},
     "output_type": "execute_result"
    }
   ],
   "source": [
    "#Dropping \"customer_unique_id\"\n",
    "customer.drop(['customer_unique_id'],axis=1).head(1) #Axis = 1 drops the column"
   ]
  },
  {
   "cell_type": "markdown",
   "metadata": {},
   "source": [
    "### Assessing \"Orders\" Table"
   ]
  },
  {
   "cell_type": "code",
   "execution_count": 43,
   "metadata": {},
   "outputs": [
    {
     "data": {
      "text/plain": [
       "order_id                         object\n",
       "customer_id                      object\n",
       "order_status                     object\n",
       "order_purchase_timestamp         object\n",
       "order_approved_at                object\n",
       "order_delivered_carrier_date     object\n",
       "order_delivered_customer_date    object\n",
       "order_estimated_delivery_date    object\n",
       "dtype: object"
      ]
     },
     "execution_count": 43,
     "metadata": {},
     "output_type": "execute_result"
    }
   ],
   "source": [
    "orders.dtypes"
   ]
  },
  {
   "cell_type": "code",
   "execution_count": 44,
   "metadata": {},
   "outputs": [
    {
     "data": {
      "text/html": [
       "<div>\n",
       "<style scoped>\n",
       "    .dataframe tbody tr th:only-of-type {\n",
       "        vertical-align: middle;\n",
       "    }\n",
       "\n",
       "    .dataframe tbody tr th {\n",
       "        vertical-align: top;\n",
       "    }\n",
       "\n",
       "    .dataframe thead th {\n",
       "        text-align: right;\n",
       "    }\n",
       "</style>\n",
       "<table border=\"1\" class=\"dataframe\">\n",
       "  <thead>\n",
       "    <tr style=\"text-align: right;\">\n",
       "      <th></th>\n",
       "      <th>order_id</th>\n",
       "      <th>customer_id</th>\n",
       "      <th>order_status</th>\n",
       "      <th>order_purchase_timestamp</th>\n",
       "      <th>order_approved_at</th>\n",
       "      <th>order_delivered_carrier_date</th>\n",
       "      <th>order_delivered_customer_date</th>\n",
       "      <th>order_estimated_delivery_date</th>\n",
       "    </tr>\n",
       "  </thead>\n",
       "  <tbody>\n",
       "    <tr>\n",
       "      <th>0</th>\n",
       "      <td>e481f51cbdc54678b7cc49136f2d6af7</td>\n",
       "      <td>9ef432eb6251297304e76186b10a928d</td>\n",
       "      <td>delivered</td>\n",
       "      <td>2017-10-02 10:56:33</td>\n",
       "      <td>2017-10-02 11:07:15</td>\n",
       "      <td>2017-10-04 19:55:00</td>\n",
       "      <td>2017-10-10 21:25:13</td>\n",
       "      <td>2017-10-18 00:00:00</td>\n",
       "    </tr>\n",
       "  </tbody>\n",
       "</table>\n",
       "</div>"
      ],
      "text/plain": [
       "                           order_id                       customer_id  \\\n",
       "0  e481f51cbdc54678b7cc49136f2d6af7  9ef432eb6251297304e76186b10a928d   \n",
       "\n",
       "  order_status order_purchase_timestamp    order_approved_at  \\\n",
       "0    delivered      2017-10-02 10:56:33  2017-10-02 11:07:15   \n",
       "\n",
       "  order_delivered_carrier_date order_delivered_customer_date  \\\n",
       "0          2017-10-04 19:55:00           2017-10-10 21:25:13   \n",
       "\n",
       "  order_estimated_delivery_date  \n",
       "0           2017-10-18 00:00:00  "
      ]
     },
     "execution_count": 44,
     "metadata": {},
     "output_type": "execute_result"
    }
   ],
   "source": [
    "orders.head(1)"
   ]
  },
  {
   "cell_type": "code",
   "execution_count": 45,
   "metadata": {},
   "outputs": [
    {
     "data": {
      "text/plain": [
       "array(['delivered', 'invoiced', 'shipped', 'processing', 'unavailable',\n",
       "       'canceled', 'created', 'approved'], dtype=object)"
      ]
     },
     "execution_count": 45,
     "metadata": {},
     "output_type": "execute_result"
    }
   ],
   "source": [
    "orders.order_status.unique()"
   ]
  },
  {
   "cell_type": "code",
   "execution_count": 46,
   "metadata": {},
   "outputs": [
    {
     "data": {
      "text/plain": [
       "Index(['order_id', 'customer_id', 'order_status', 'order_purchase_timestamp',\n",
       "       'order_approved_at', 'order_delivered_carrier_date',\n",
       "       'order_delivered_customer_date', 'order_estimated_delivery_date'],\n",
       "      dtype='object')"
      ]
     },
     "execution_count": 46,
     "metadata": {},
     "output_type": "execute_result"
    }
   ],
   "source": [
    "#We see that all the date and time stamps have a time associated with it we wont need the time for this project, hence we remove them\n",
    "orders.columns"
   ]
  },
  {
   "cell_type": "code",
   "execution_count": 47,
   "metadata": {},
   "outputs": [],
   "source": [
    "orders['order_purchase_date']= pd.to_datetime(orders['order_purchase_timestamp']).dt.date\n",
    "orders['order_purchase_time']= pd.to_datetime(orders['order_purchase_timestamp']).dt.time\n",
    "orders['order_delivered_time'] = pd.to_datetime(orders['order_delivered_customer_date']).dt.time\n",
    "orders['order_delivered_date'] = pd.to_datetime(orders['order_delivered_customer_date']).dt.date\n",
    "orders['order_estimated_delivery_time'] = pd.to_datetime(orders['order_estimated_delivery_date']).dt.time\n",
    "orders['order_estimated_delivery_date'] = pd.to_datetime(orders['order_estimated_delivery_date']).dt.date\n",
    "orders['order_approved_at'] = pd.to_datetime(orders['order_approved_at'])"
   ]
  },
  {
   "cell_type": "code",
   "execution_count": 48,
   "metadata": {},
   "outputs": [],
   "source": [
    "orders['order_delivered_date'] = orders['order_delivered_date'].apply(pd.to_datetime)\n",
    "orders['order_purchase_date'] = orders['order_purchase_date'].apply(pd.to_datetime)"
   ]
  },
  {
   "cell_type": "code",
   "execution_count": 49,
   "metadata": {},
   "outputs": [
    {
     "data": {
      "text/html": [
       "<div>\n",
       "<style scoped>\n",
       "    .dataframe tbody tr th:only-of-type {\n",
       "        vertical-align: middle;\n",
       "    }\n",
       "\n",
       "    .dataframe tbody tr th {\n",
       "        vertical-align: top;\n",
       "    }\n",
       "\n",
       "    .dataframe thead th {\n",
       "        text-align: right;\n",
       "    }\n",
       "</style>\n",
       "<table border=\"1\" class=\"dataframe\">\n",
       "  <thead>\n",
       "    <tr style=\"text-align: right;\">\n",
       "      <th></th>\n",
       "      <th>order_id</th>\n",
       "      <th>customer_id</th>\n",
       "      <th>order_status</th>\n",
       "      <th>order_purchase_timestamp</th>\n",
       "      <th>order_approved_at</th>\n",
       "      <th>order_delivered_carrier_date</th>\n",
       "      <th>order_delivered_customer_date</th>\n",
       "      <th>order_estimated_delivery_date</th>\n",
       "      <th>order_purchase_date</th>\n",
       "      <th>order_purchase_time</th>\n",
       "      <th>order_delivered_time</th>\n",
       "      <th>order_delivered_date</th>\n",
       "      <th>order_estimated_delivery_time</th>\n",
       "    </tr>\n",
       "  </thead>\n",
       "  <tbody>\n",
       "    <tr>\n",
       "      <th>0</th>\n",
       "      <td>e481f51cbdc54678b7cc49136f2d6af7</td>\n",
       "      <td>9ef432eb6251297304e76186b10a928d</td>\n",
       "      <td>delivered</td>\n",
       "      <td>2017-10-02 10:56:33</td>\n",
       "      <td>2017-10-02 11:07:15</td>\n",
       "      <td>2017-10-04 19:55:00</td>\n",
       "      <td>2017-10-10 21:25:13</td>\n",
       "      <td>2017-10-18</td>\n",
       "      <td>2017-10-02</td>\n",
       "      <td>10:56:33</td>\n",
       "      <td>21:25:13</td>\n",
       "      <td>2017-10-10</td>\n",
       "      <td>00:00:00</td>\n",
       "    </tr>\n",
       "  </tbody>\n",
       "</table>\n",
       "</div>"
      ],
      "text/plain": [
       "                           order_id                       customer_id  \\\n",
       "0  e481f51cbdc54678b7cc49136f2d6af7  9ef432eb6251297304e76186b10a928d   \n",
       "\n",
       "  order_status order_purchase_timestamp   order_approved_at  \\\n",
       "0    delivered      2017-10-02 10:56:33 2017-10-02 11:07:15   \n",
       "\n",
       "  order_delivered_carrier_date order_delivered_customer_date  \\\n",
       "0          2017-10-04 19:55:00           2017-10-10 21:25:13   \n",
       "\n",
       "  order_estimated_delivery_date order_purchase_date order_purchase_time  \\\n",
       "0                    2017-10-18          2017-10-02            10:56:33   \n",
       "\n",
       "  order_delivered_time order_delivered_date order_estimated_delivery_time  \n",
       "0             21:25:13           2017-10-10                      00:00:00  "
      ]
     },
     "execution_count": 49,
     "metadata": {},
     "output_type": "execute_result"
    }
   ],
   "source": [
    "orders.head(1)"
   ]
  },
  {
   "cell_type": "code",
   "execution_count": 50,
   "metadata": {},
   "outputs": [
    {
     "data": {
      "text/plain": [
       "Index(['order_id', 'customer_id', 'order_status', 'order_purchase_timestamp',\n",
       "       'order_approved_at', 'order_delivered_carrier_date',\n",
       "       'order_delivered_customer_date', 'order_estimated_delivery_date',\n",
       "       'order_purchase_date', 'order_purchase_time', 'order_delivered_time',\n",
       "       'order_delivered_date', 'order_estimated_delivery_time'],\n",
       "      dtype='object')"
      ]
     },
     "execution_count": 50,
     "metadata": {},
     "output_type": "execute_result"
    }
   ],
   "source": [
    "orders.columns"
   ]
  },
  {
   "cell_type": "code",
   "execution_count": 51,
   "metadata": {},
   "outputs": [],
   "source": [
    "#order approve vs purchase"
   ]
  },
  {
   "cell_type": "code",
   "execution_count": 52,
   "metadata": {},
   "outputs": [],
   "source": [
    "orders=orders.drop(columns=['order_purchase_timestamp',\n",
    "       'order_approved_at',\n",
    "       'order_delivered_customer_date','order_purchase_time', 'order_delivered_time','order_estimated_delivery_time','order_delivered_carrier_date'])"
   ]
  },
  {
   "cell_type": "code",
   "execution_count": 53,
   "metadata": {},
   "outputs": [
    {
     "data": {
      "text/html": [
       "<div>\n",
       "<style scoped>\n",
       "    .dataframe tbody tr th:only-of-type {\n",
       "        vertical-align: middle;\n",
       "    }\n",
       "\n",
       "    .dataframe tbody tr th {\n",
       "        vertical-align: top;\n",
       "    }\n",
       "\n",
       "    .dataframe thead th {\n",
       "        text-align: right;\n",
       "    }\n",
       "</style>\n",
       "<table border=\"1\" class=\"dataframe\">\n",
       "  <thead>\n",
       "    <tr style=\"text-align: right;\">\n",
       "      <th></th>\n",
       "      <th>order_id</th>\n",
       "      <th>customer_id</th>\n",
       "      <th>order_status</th>\n",
       "      <th>order_estimated_delivery_date</th>\n",
       "      <th>order_purchase_date</th>\n",
       "      <th>order_delivered_date</th>\n",
       "    </tr>\n",
       "  </thead>\n",
       "  <tbody>\n",
       "    <tr>\n",
       "      <th>0</th>\n",
       "      <td>e481f51cbdc54678b7cc49136f2d6af7</td>\n",
       "      <td>9ef432eb6251297304e76186b10a928d</td>\n",
       "      <td>delivered</td>\n",
       "      <td>2017-10-18</td>\n",
       "      <td>2017-10-02</td>\n",
       "      <td>2017-10-10</td>\n",
       "    </tr>\n",
       "    <tr>\n",
       "      <th>1</th>\n",
       "      <td>53cdb2fc8bc7dce0b6741e2150273451</td>\n",
       "      <td>b0830fb4747a6c6d20dea0b8c802d7ef</td>\n",
       "      <td>delivered</td>\n",
       "      <td>2018-08-13</td>\n",
       "      <td>2018-07-24</td>\n",
       "      <td>2018-08-07</td>\n",
       "    </tr>\n",
       "    <tr>\n",
       "      <th>2</th>\n",
       "      <td>47770eb9100c2d0c44946d9cf07ec65d</td>\n",
       "      <td>41ce2a54c0b03bf3443c3d931a367089</td>\n",
       "      <td>delivered</td>\n",
       "      <td>2018-09-04</td>\n",
       "      <td>2018-08-08</td>\n",
       "      <td>2018-08-17</td>\n",
       "    </tr>\n",
       "    <tr>\n",
       "      <th>3</th>\n",
       "      <td>949d5b44dbf5de918fe9c16f97b45f8a</td>\n",
       "      <td>f88197465ea7920adcdbec7375364d82</td>\n",
       "      <td>delivered</td>\n",
       "      <td>2017-12-15</td>\n",
       "      <td>2017-11-18</td>\n",
       "      <td>2017-12-02</td>\n",
       "    </tr>\n",
       "    <tr>\n",
       "      <th>4</th>\n",
       "      <td>ad21c59c0840e6cb83a9ceb5573f8159</td>\n",
       "      <td>8ab97904e6daea8866dbdbc4fb7aad2c</td>\n",
       "      <td>delivered</td>\n",
       "      <td>2018-02-26</td>\n",
       "      <td>2018-02-13</td>\n",
       "      <td>2018-02-16</td>\n",
       "    </tr>\n",
       "  </tbody>\n",
       "</table>\n",
       "</div>"
      ],
      "text/plain": [
       "                           order_id                       customer_id  \\\n",
       "0  e481f51cbdc54678b7cc49136f2d6af7  9ef432eb6251297304e76186b10a928d   \n",
       "1  53cdb2fc8bc7dce0b6741e2150273451  b0830fb4747a6c6d20dea0b8c802d7ef   \n",
       "2  47770eb9100c2d0c44946d9cf07ec65d  41ce2a54c0b03bf3443c3d931a367089   \n",
       "3  949d5b44dbf5de918fe9c16f97b45f8a  f88197465ea7920adcdbec7375364d82   \n",
       "4  ad21c59c0840e6cb83a9ceb5573f8159  8ab97904e6daea8866dbdbc4fb7aad2c   \n",
       "\n",
       "  order_status order_estimated_delivery_date order_purchase_date  \\\n",
       "0    delivered                    2017-10-18          2017-10-02   \n",
       "1    delivered                    2018-08-13          2018-07-24   \n",
       "2    delivered                    2018-09-04          2018-08-08   \n",
       "3    delivered                    2017-12-15          2017-11-18   \n",
       "4    delivered                    2018-02-26          2018-02-13   \n",
       "\n",
       "  order_delivered_date  \n",
       "0           2017-10-10  \n",
       "1           2018-08-07  \n",
       "2           2018-08-17  \n",
       "3           2017-12-02  \n",
       "4           2018-02-16  "
      ]
     },
     "execution_count": 53,
     "metadata": {},
     "output_type": "execute_result"
    }
   ],
   "source": [
    "orders.head()"
   ]
  },
  {
   "cell_type": "markdown",
   "metadata": {},
   "source": [
    "### Assessing \"Order Items\" Dataframe"
   ]
  },
  {
   "cell_type": "code",
   "execution_count": 54,
   "metadata": {},
   "outputs": [
    {
     "data": {
      "text/plain": [
       "order_id                object\n",
       "order_item_id            int64\n",
       "product_id              object\n",
       "seller_id               object\n",
       "shipping_limit_date     object\n",
       "price                  float64\n",
       "freight_value          float64\n",
       "dtype: object"
      ]
     },
     "execution_count": 54,
     "metadata": {},
     "output_type": "execute_result"
    }
   ],
   "source": [
    "order_items.dtypes"
   ]
  },
  {
   "cell_type": "code",
   "execution_count": 55,
   "metadata": {},
   "outputs": [
    {
     "data": {
      "text/plain": [
       "Index(['order_id', 'order_item_id', 'product_id', 'seller_id',\n",
       "       'shipping_limit_date', 'price', 'freight_value'],\n",
       "      dtype='object')"
      ]
     },
     "execution_count": 55,
     "metadata": {},
     "output_type": "execute_result"
    }
   ],
   "source": [
    "order_items.columns"
   ]
  },
  {
   "cell_type": "code",
   "execution_count": 56,
   "metadata": {},
   "outputs": [],
   "source": [
    "order_items = order_items.drop(['shipping_limit_date'],axis=1)"
   ]
  },
  {
   "cell_type": "code",
   "execution_count": 57,
   "metadata": {},
   "outputs": [
    {
     "data": {
      "text/html": [
       "<div>\n",
       "<style scoped>\n",
       "    .dataframe tbody tr th:only-of-type {\n",
       "        vertical-align: middle;\n",
       "    }\n",
       "\n",
       "    .dataframe tbody tr th {\n",
       "        vertical-align: top;\n",
       "    }\n",
       "\n",
       "    .dataframe thead th {\n",
       "        text-align: right;\n",
       "    }\n",
       "</style>\n",
       "<table border=\"1\" class=\"dataframe\">\n",
       "  <thead>\n",
       "    <tr style=\"text-align: right;\">\n",
       "      <th></th>\n",
       "      <th>order_id</th>\n",
       "      <th>order_item_id</th>\n",
       "      <th>product_id</th>\n",
       "      <th>seller_id</th>\n",
       "      <th>price</th>\n",
       "      <th>freight_value</th>\n",
       "    </tr>\n",
       "  </thead>\n",
       "  <tbody>\n",
       "    <tr>\n",
       "      <th>0</th>\n",
       "      <td>00010242fe8c5a6d1ba2dd792cb16214</td>\n",
       "      <td>1</td>\n",
       "      <td>4244733e06e7ecb4970a6e2683c13e61</td>\n",
       "      <td>48436dade18ac8b2bce089ec2a041202</td>\n",
       "      <td>58.9</td>\n",
       "      <td>13.29</td>\n",
       "    </tr>\n",
       "  </tbody>\n",
       "</table>\n",
       "</div>"
      ],
      "text/plain": [
       "                           order_id  order_item_id  \\\n",
       "0  00010242fe8c5a6d1ba2dd792cb16214              1   \n",
       "\n",
       "                         product_id                         seller_id  price  \\\n",
       "0  4244733e06e7ecb4970a6e2683c13e61  48436dade18ac8b2bce089ec2a041202   58.9   \n",
       "\n",
       "   freight_value  \n",
       "0          13.29  "
      ]
     },
     "execution_count": 57,
     "metadata": {},
     "output_type": "execute_result"
    }
   ],
   "source": [
    "order_items.head(1)"
   ]
  },
  {
   "cell_type": "markdown",
   "metadata": {},
   "source": [
    "### Assessing \"Order Reviews\" Dataframe"
   ]
  },
  {
   "cell_type": "code",
   "execution_count": 58,
   "metadata": {},
   "outputs": [
    {
     "data": {
      "text/plain": [
       "review_id                  object\n",
       "order_id                   object\n",
       "review_score                int64\n",
       "review_comment_title       object\n",
       "review_comment_message     object\n",
       "review_creation_date       object\n",
       "review_answer_timestamp    object\n",
       "dtype: object"
      ]
     },
     "execution_count": 58,
     "metadata": {},
     "output_type": "execute_result"
    }
   ],
   "source": [
    "order_reviews.dtypes"
   ]
  },
  {
   "cell_type": "code",
   "execution_count": 59,
   "metadata": {},
   "outputs": [],
   "source": [
    "#We only need the Review Score for this Project, Hence We Drop rest of the columns\n",
    "order_reviews = order_reviews.drop(columns=['review_comment_title','review_comment_message','review_creation_date','review_answer_timestamp'],axis=1)"
   ]
  },
  {
   "cell_type": "code",
   "execution_count": 60,
   "metadata": {},
   "outputs": [
    {
     "data": {
      "text/html": [
       "<div>\n",
       "<style scoped>\n",
       "    .dataframe tbody tr th:only-of-type {\n",
       "        vertical-align: middle;\n",
       "    }\n",
       "\n",
       "    .dataframe tbody tr th {\n",
       "        vertical-align: top;\n",
       "    }\n",
       "\n",
       "    .dataframe thead th {\n",
       "        text-align: right;\n",
       "    }\n",
       "</style>\n",
       "<table border=\"1\" class=\"dataframe\">\n",
       "  <thead>\n",
       "    <tr style=\"text-align: right;\">\n",
       "      <th></th>\n",
       "      <th>review_id</th>\n",
       "      <th>order_id</th>\n",
       "      <th>review_score</th>\n",
       "    </tr>\n",
       "  </thead>\n",
       "  <tbody>\n",
       "    <tr>\n",
       "      <th>0</th>\n",
       "      <td>7bc2406110b926393aa56f80a40eba40</td>\n",
       "      <td>73fc7af87114b39712e6da79b0a377eb</td>\n",
       "      <td>4</td>\n",
       "    </tr>\n",
       "  </tbody>\n",
       "</table>\n",
       "</div>"
      ],
      "text/plain": [
       "                          review_id                          order_id  \\\n",
       "0  7bc2406110b926393aa56f80a40eba40  73fc7af87114b39712e6da79b0a377eb   \n",
       "\n",
       "   review_score  \n",
       "0             4  "
      ]
     },
     "execution_count": 60,
     "metadata": {},
     "output_type": "execute_result"
    }
   ],
   "source": [
    "order_reviews.head(1)"
   ]
  },
  {
   "cell_type": "markdown",
   "metadata": {},
   "source": [
    "### Assessing \"Products\" Dataframe"
   ]
  },
  {
   "cell_type": "code",
   "execution_count": 61,
   "metadata": {},
   "outputs": [
    {
     "data": {
      "text/plain": [
       "product_id                     object\n",
       "product_category_name          object\n",
       "product_name_lenght           float64\n",
       "product_description_lenght    float64\n",
       "product_photos_qty            float64\n",
       "product_weight_g              float64\n",
       "product_length_cm             float64\n",
       "product_height_cm             float64\n",
       "product_width_cm              float64\n",
       "dtype: object"
      ]
     },
     "execution_count": 61,
     "metadata": {},
     "output_type": "execute_result"
    }
   ],
   "source": [
    "products.dtypes"
   ]
  },
  {
   "cell_type": "code",
   "execution_count": 62,
   "metadata": {},
   "outputs": [
    {
     "data": {
      "text/plain": [
       "Index(['product_id', 'product_category_name', 'product_name_lenght',\n",
       "       'product_description_lenght', 'product_photos_qty', 'product_weight_g',\n",
       "       'product_length_cm', 'product_height_cm', 'product_width_cm'],\n",
       "      dtype='object')"
      ]
     },
     "execution_count": 62,
     "metadata": {},
     "output_type": "execute_result"
    }
   ],
   "source": [
    "products.columns"
   ]
  },
  {
   "cell_type": "code",
   "execution_count": 63,
   "metadata": {},
   "outputs": [
    {
     "data": {
      "text/html": [
       "<div>\n",
       "<style scoped>\n",
       "    .dataframe tbody tr th:only-of-type {\n",
       "        vertical-align: middle;\n",
       "    }\n",
       "\n",
       "    .dataframe tbody tr th {\n",
       "        vertical-align: top;\n",
       "    }\n",
       "\n",
       "    .dataframe thead th {\n",
       "        text-align: right;\n",
       "    }\n",
       "</style>\n",
       "<table border=\"1\" class=\"dataframe\">\n",
       "  <thead>\n",
       "    <tr style=\"text-align: right;\">\n",
       "      <th></th>\n",
       "      <th>product_id</th>\n",
       "      <th>product_category_name</th>\n",
       "      <th>product_name_lenght</th>\n",
       "      <th>product_description_lenght</th>\n",
       "      <th>product_photos_qty</th>\n",
       "      <th>product_weight_g</th>\n",
       "      <th>product_length_cm</th>\n",
       "      <th>product_height_cm</th>\n",
       "      <th>product_width_cm</th>\n",
       "    </tr>\n",
       "  </thead>\n",
       "  <tbody>\n",
       "    <tr>\n",
       "      <th>0</th>\n",
       "      <td>1e9e8ef04dbcff4541ed26657ea517e5</td>\n",
       "      <td>perfumaria</td>\n",
       "      <td>40.0</td>\n",
       "      <td>287.0</td>\n",
       "      <td>1.0</td>\n",
       "      <td>225.0</td>\n",
       "      <td>16.0</td>\n",
       "      <td>10.0</td>\n",
       "      <td>14.0</td>\n",
       "    </tr>\n",
       "  </tbody>\n",
       "</table>\n",
       "</div>"
      ],
      "text/plain": [
       "                         product_id product_category_name  \\\n",
       "0  1e9e8ef04dbcff4541ed26657ea517e5            perfumaria   \n",
       "\n",
       "   product_name_lenght  product_description_lenght  product_photos_qty  \\\n",
       "0                 40.0                       287.0                 1.0   \n",
       "\n",
       "   product_weight_g  product_length_cm  product_height_cm  product_width_cm  \n",
       "0             225.0               16.0               10.0              14.0  "
      ]
     },
     "execution_count": 63,
     "metadata": {},
     "output_type": "execute_result"
    }
   ],
   "source": [
    "products.head(1)"
   ]
  },
  {
   "cell_type": "markdown",
   "metadata": {},
   "source": [
    "### Assessing \"Sellers\" Dataframe"
   ]
  },
  {
   "cell_type": "code",
   "execution_count": 64,
   "metadata": {},
   "outputs": [
    {
     "data": {
      "text/plain": [
       "seller_id                 object\n",
       "seller_zip_code_prefix     int64\n",
       "seller_city               object\n",
       "seller_state              object\n",
       "dtype: object"
      ]
     },
     "execution_count": 64,
     "metadata": {},
     "output_type": "execute_result"
    }
   ],
   "source": [
    "sellers.dtypes"
   ]
  },
  {
   "cell_type": "code",
   "execution_count": 65,
   "metadata": {},
   "outputs": [],
   "source": [
    "#####################################"
   ]
  },
  {
   "cell_type": "markdown",
   "metadata": {},
   "source": [
    "#Exporting\n",
    "\n",
    "customer.to_csv(r'C:\\Users\\Suyash\\BALC Project\\Cleaned\\customer.csv')\n",
    "geolocation.to_csv(r'C:\\Users\\Suyash\\BALC Project\\Cleaned\\geolocation.csv')\n",
    "orders.to_csv(r'C:\\Users\\Suyash\\BALC Project\\Cleaned\\orders.csv')\n",
    "order_items.to_csv(r'C:\\Users\\Suyash\\BALC Project\\Cleaned\\order_items.csv')\n",
    "order_payments.to_csv(r'C:\\Users\\Suyash\\BALC Project\\Cleaned\\order_payments.csv')\n",
    "order_reviews.to_csv(r'C:\\Users\\Suyash\\BALC Project\\Cleaned\\order_reviews.csv')\n",
    "products.to_csv(r'C:\\Users\\Suyash\\BALC Project\\Cleaned\\products.csv')\n",
    "sellers.to_csv(r'C:\\Users\\Suyash\\BALC Project\\Cleaned\\sellers.csv')"
   ]
  },
  {
   "cell_type": "code",
   "execution_count": 66,
   "metadata": {},
   "outputs": [],
   "source": [
    "########################################"
   ]
  },
  {
   "cell_type": "code",
   "execution_count": 68,
   "metadata": {},
   "outputs": [
    {
     "data": {
      "text/html": [
       "<div>\n",
       "<style scoped>\n",
       "    .dataframe tbody tr th:only-of-type {\n",
       "        vertical-align: middle;\n",
       "    }\n",
       "\n",
       "    .dataframe tbody tr th {\n",
       "        vertical-align: top;\n",
       "    }\n",
       "\n",
       "    .dataframe thead th {\n",
       "        text-align: right;\n",
       "    }\n",
       "</style>\n",
       "<table border=\"1\" class=\"dataframe\">\n",
       "  <thead>\n",
       "    <tr style=\"text-align: right;\">\n",
       "      <th></th>\n",
       "      <th>customer_id</th>\n",
       "      <th>customer_unique_id</th>\n",
       "      <th>customer_zip_code_prefix</th>\n",
       "      <th>customer_city</th>\n",
       "      <th>customer_state</th>\n",
       "      <th>order_id</th>\n",
       "      <th>order_status</th>\n",
       "      <th>order_estimated_delivery_date</th>\n",
       "      <th>order_purchase_date</th>\n",
       "      <th>order_delivered_date</th>\n",
       "      <th>...</th>\n",
       "      <th>product_description_lenght</th>\n",
       "      <th>product_photos_qty</th>\n",
       "      <th>product_weight_g</th>\n",
       "      <th>product_length_cm</th>\n",
       "      <th>product_height_cm</th>\n",
       "      <th>product_width_cm</th>\n",
       "      <th>seller_zip_code_prefix</th>\n",
       "      <th>seller_city</th>\n",
       "      <th>seller_state</th>\n",
       "      <th>product_category_name_english</th>\n",
       "    </tr>\n",
       "  </thead>\n",
       "  <tbody>\n",
       "    <tr>\n",
       "      <th>0</th>\n",
       "      <td>06b8999e2fba1a1fbc88172c00ba8bc7</td>\n",
       "      <td>861eff4711a542e4b93843c6dd7febb0</td>\n",
       "      <td>14409</td>\n",
       "      <td>franca</td>\n",
       "      <td>SP</td>\n",
       "      <td>00e7ee1b050b8499577073aeb2a297a1</td>\n",
       "      <td>delivered</td>\n",
       "      <td>2017-06-05</td>\n",
       "      <td>2017-05-16</td>\n",
       "      <td>2017-05-25</td>\n",
       "      <td>...</td>\n",
       "      <td>1141.0</td>\n",
       "      <td>1.0</td>\n",
       "      <td>8683.0</td>\n",
       "      <td>54.0</td>\n",
       "      <td>64.0</td>\n",
       "      <td>31.0</td>\n",
       "      <td>8577</td>\n",
       "      <td>itaquaquecetuba</td>\n",
       "      <td>SP</td>\n",
       "      <td>office_furniture</td>\n",
       "    </tr>\n",
       "    <tr>\n",
       "      <th>1</th>\n",
       "      <td>8912fc0c3bbf1e2fbf35819e21706718</td>\n",
       "      <td>9eae34bbd3a474ec5d07949ca7de67c0</td>\n",
       "      <td>68030</td>\n",
       "      <td>santarem</td>\n",
       "      <td>PA</td>\n",
       "      <td>c1d2b34febe9cd269e378117d6681172</td>\n",
       "      <td>delivered</td>\n",
       "      <td>2017-12-19</td>\n",
       "      <td>2017-11-09</td>\n",
       "      <td>2017-11-28</td>\n",
       "      <td>...</td>\n",
       "      <td>1141.0</td>\n",
       "      <td>1.0</td>\n",
       "      <td>8683.0</td>\n",
       "      <td>54.0</td>\n",
       "      <td>64.0</td>\n",
       "      <td>31.0</td>\n",
       "      <td>8577</td>\n",
       "      <td>itaquaquecetuba</td>\n",
       "      <td>SP</td>\n",
       "      <td>office_furniture</td>\n",
       "    </tr>\n",
       "    <tr>\n",
       "      <th>2</th>\n",
       "      <td>8912fc0c3bbf1e2fbf35819e21706718</td>\n",
       "      <td>9eae34bbd3a474ec5d07949ca7de67c0</td>\n",
       "      <td>68030</td>\n",
       "      <td>santarem</td>\n",
       "      <td>PA</td>\n",
       "      <td>c1d2b34febe9cd269e378117d6681172</td>\n",
       "      <td>delivered</td>\n",
       "      <td>2017-12-19</td>\n",
       "      <td>2017-11-09</td>\n",
       "      <td>2017-11-28</td>\n",
       "      <td>...</td>\n",
       "      <td>1141.0</td>\n",
       "      <td>1.0</td>\n",
       "      <td>8683.0</td>\n",
       "      <td>54.0</td>\n",
       "      <td>64.0</td>\n",
       "      <td>31.0</td>\n",
       "      <td>8577</td>\n",
       "      <td>itaquaquecetuba</td>\n",
       "      <td>SP</td>\n",
       "      <td>office_furniture</td>\n",
       "    </tr>\n",
       "    <tr>\n",
       "      <th>3</th>\n",
       "      <td>f0ac8e5a239118859b1734e1087cbb1f</td>\n",
       "      <td>3c799d181c34d51f6d44bbbc563024db</td>\n",
       "      <td>92480</td>\n",
       "      <td>nova santa rita</td>\n",
       "      <td>RS</td>\n",
       "      <td>b1a5d5365d330d10485e0203d54ab9e8</td>\n",
       "      <td>delivered</td>\n",
       "      <td>2017-06-12</td>\n",
       "      <td>2017-05-07</td>\n",
       "      <td>2017-05-26</td>\n",
       "      <td>...</td>\n",
       "      <td>1141.0</td>\n",
       "      <td>1.0</td>\n",
       "      <td>8683.0</td>\n",
       "      <td>54.0</td>\n",
       "      <td>64.0</td>\n",
       "      <td>31.0</td>\n",
       "      <td>8577</td>\n",
       "      <td>itaquaquecetuba</td>\n",
       "      <td>SP</td>\n",
       "      <td>office_furniture</td>\n",
       "    </tr>\n",
       "    <tr>\n",
       "      <th>4</th>\n",
       "      <td>6bc8d08963a135220ed6c6d098831f84</td>\n",
       "      <td>23397e992b09769faf5e66f9e171a241</td>\n",
       "      <td>25931</td>\n",
       "      <td>mage</td>\n",
       "      <td>RJ</td>\n",
       "      <td>2e604b3614664aa66867856dba7e61b7</td>\n",
       "      <td>delivered</td>\n",
       "      <td>2018-03-22</td>\n",
       "      <td>2018-02-03</td>\n",
       "      <td>2018-02-28</td>\n",
       "      <td>...</td>\n",
       "      <td>1141.0</td>\n",
       "      <td>1.0</td>\n",
       "      <td>8683.0</td>\n",
       "      <td>54.0</td>\n",
       "      <td>64.0</td>\n",
       "      <td>31.0</td>\n",
       "      <td>8577</td>\n",
       "      <td>itaquaquecetuba</td>\n",
       "      <td>SP</td>\n",
       "      <td>office_furniture</td>\n",
       "    </tr>\n",
       "    <tr>\n",
       "      <th>...</th>\n",
       "      <td>...</td>\n",
       "      <td>...</td>\n",
       "      <td>...</td>\n",
       "      <td>...</td>\n",
       "      <td>...</td>\n",
       "      <td>...</td>\n",
       "      <td>...</td>\n",
       "      <td>...</td>\n",
       "      <td>...</td>\n",
       "      <td>...</td>\n",
       "      <td>...</td>\n",
       "      <td>...</td>\n",
       "      <td>...</td>\n",
       "      <td>...</td>\n",
       "      <td>...</td>\n",
       "      <td>...</td>\n",
       "      <td>...</td>\n",
       "      <td>...</td>\n",
       "      <td>...</td>\n",
       "      <td>...</td>\n",
       "      <td>...</td>\n",
       "    </tr>\n",
       "    <tr>\n",
       "      <th>116576</th>\n",
       "      <td>0fbd856ba1d4961786fb54bd448eb7fe</td>\n",
       "      <td>96328ac15f58fbb232fe14b182103382</td>\n",
       "      <td>89675</td>\n",
       "      <td>vargem bonita</td>\n",
       "      <td>SC</td>\n",
       "      <td>937592924b66482b823ee7ecd185d0ff</td>\n",
       "      <td>delivered</td>\n",
       "      <td>2018-04-18</td>\n",
       "      <td>2018-03-31</td>\n",
       "      <td>2018-04-06</td>\n",
       "      <td>...</td>\n",
       "      <td>284.0</td>\n",
       "      <td>2.0</td>\n",
       "      <td>12500.0</td>\n",
       "      <td>83.0</td>\n",
       "      <td>21.0</td>\n",
       "      <td>43.0</td>\n",
       "      <td>89701</td>\n",
       "      <td>concordia</td>\n",
       "      <td>SC</td>\n",
       "      <td>la_cuisine</td>\n",
       "    </tr>\n",
       "    <tr>\n",
       "      <th>116577</th>\n",
       "      <td>98a1b4f80dd0ccb7d1ae5a75ba5c904e</td>\n",
       "      <td>bf5ed75fca98e8f79c49e9a5bf7690e1</td>\n",
       "      <td>13480</td>\n",
       "      <td>limeira</td>\n",
       "      <td>SP</td>\n",
       "      <td>28915ae2a90c218f0c2b7f8e0fb280e0</td>\n",
       "      <td>delivered</td>\n",
       "      <td>2017-05-04</td>\n",
       "      <td>2017-04-09</td>\n",
       "      <td>2017-04-18</td>\n",
       "      <td>...</td>\n",
       "      <td>194.0</td>\n",
       "      <td>1.0</td>\n",
       "      <td>450.0</td>\n",
       "      <td>31.0</td>\n",
       "      <td>10.0</td>\n",
       "      <td>18.0</td>\n",
       "      <td>89701</td>\n",
       "      <td>concordia</td>\n",
       "      <td>SC</td>\n",
       "      <td>la_cuisine</td>\n",
       "    </tr>\n",
       "    <tr>\n",
       "      <th>116578</th>\n",
       "      <td>aa0533eb31ed3be79086f11bb2bec430</td>\n",
       "      <td>a490d5875edefe9bb8f5101ec2f6b56f</td>\n",
       "      <td>13870</td>\n",
       "      <td>sao joao da boa vista</td>\n",
       "      <td>SP</td>\n",
       "      <td>e22a3e8048469ea68906f666d446c25c</td>\n",
       "      <td>delivered</td>\n",
       "      <td>2017-09-19</td>\n",
       "      <td>2017-08-28</td>\n",
       "      <td>2017-09-05</td>\n",
       "      <td>...</td>\n",
       "      <td>731.0</td>\n",
       "      <td>1.0</td>\n",
       "      <td>2200.0</td>\n",
       "      <td>84.0</td>\n",
       "      <td>12.0</td>\n",
       "      <td>15.0</td>\n",
       "      <td>89701</td>\n",
       "      <td>concordia</td>\n",
       "      <td>SC</td>\n",
       "      <td>la_cuisine</td>\n",
       "    </tr>\n",
       "    <tr>\n",
       "      <th>116579</th>\n",
       "      <td>d11524bb77c28efad04e4467eac8a660</td>\n",
       "      <td>6968d41eb700f1ea39424e04b854bf7e</td>\n",
       "      <td>30130</td>\n",
       "      <td>belo horizonte</td>\n",
       "      <td>MG</td>\n",
       "      <td>1ce0acf125f1bcd636276dd213363196</td>\n",
       "      <td>delivered</td>\n",
       "      <td>2017-08-28</td>\n",
       "      <td>2017-07-31</td>\n",
       "      <td>2017-08-09</td>\n",
       "      <td>...</td>\n",
       "      <td>429.0</td>\n",
       "      <td>1.0</td>\n",
       "      <td>2700.0</td>\n",
       "      <td>85.0</td>\n",
       "      <td>7.0</td>\n",
       "      <td>40.0</td>\n",
       "      <td>89701</td>\n",
       "      <td>concordia</td>\n",
       "      <td>SC</td>\n",
       "      <td>la_cuisine</td>\n",
       "    </tr>\n",
       "    <tr>\n",
       "      <th>116580</th>\n",
       "      <td>d11524bb77c28efad04e4467eac8a660</td>\n",
       "      <td>6968d41eb700f1ea39424e04b854bf7e</td>\n",
       "      <td>30130</td>\n",
       "      <td>belo horizonte</td>\n",
       "      <td>MG</td>\n",
       "      <td>1ce0acf125f1bcd636276dd213363196</td>\n",
       "      <td>delivered</td>\n",
       "      <td>2017-08-28</td>\n",
       "      <td>2017-07-31</td>\n",
       "      <td>2017-08-09</td>\n",
       "      <td>...</td>\n",
       "      <td>429.0</td>\n",
       "      <td>1.0</td>\n",
       "      <td>2700.0</td>\n",
       "      <td>85.0</td>\n",
       "      <td>7.0</td>\n",
       "      <td>40.0</td>\n",
       "      <td>89701</td>\n",
       "      <td>concordia</td>\n",
       "      <td>SC</td>\n",
       "      <td>la_cuisine</td>\n",
       "    </tr>\n",
       "  </tbody>\n",
       "</table>\n",
       "<p>114065 rows × 33 columns</p>\n",
       "</div>"
      ],
      "text/plain": [
       "                             customer_id                customer_unique_id  \\\n",
       "0       06b8999e2fba1a1fbc88172c00ba8bc7  861eff4711a542e4b93843c6dd7febb0   \n",
       "1       8912fc0c3bbf1e2fbf35819e21706718  9eae34bbd3a474ec5d07949ca7de67c0   \n",
       "2       8912fc0c3bbf1e2fbf35819e21706718  9eae34bbd3a474ec5d07949ca7de67c0   \n",
       "3       f0ac8e5a239118859b1734e1087cbb1f  3c799d181c34d51f6d44bbbc563024db   \n",
       "4       6bc8d08963a135220ed6c6d098831f84  23397e992b09769faf5e66f9e171a241   \n",
       "...                                  ...                               ...   \n",
       "116576  0fbd856ba1d4961786fb54bd448eb7fe  96328ac15f58fbb232fe14b182103382   \n",
       "116577  98a1b4f80dd0ccb7d1ae5a75ba5c904e  bf5ed75fca98e8f79c49e9a5bf7690e1   \n",
       "116578  aa0533eb31ed3be79086f11bb2bec430  a490d5875edefe9bb8f5101ec2f6b56f   \n",
       "116579  d11524bb77c28efad04e4467eac8a660  6968d41eb700f1ea39424e04b854bf7e   \n",
       "116580  d11524bb77c28efad04e4467eac8a660  6968d41eb700f1ea39424e04b854bf7e   \n",
       "\n",
       "        customer_zip_code_prefix          customer_city customer_state  \\\n",
       "0                          14409                 franca             SP   \n",
       "1                          68030               santarem             PA   \n",
       "2                          68030               santarem             PA   \n",
       "3                          92480        nova santa rita             RS   \n",
       "4                          25931                   mage             RJ   \n",
       "...                          ...                    ...            ...   \n",
       "116576                     89675          vargem bonita             SC   \n",
       "116577                     13480                limeira             SP   \n",
       "116578                     13870  sao joao da boa vista             SP   \n",
       "116579                     30130         belo horizonte             MG   \n",
       "116580                     30130         belo horizonte             MG   \n",
       "\n",
       "                                order_id order_status  \\\n",
       "0       00e7ee1b050b8499577073aeb2a297a1    delivered   \n",
       "1       c1d2b34febe9cd269e378117d6681172    delivered   \n",
       "2       c1d2b34febe9cd269e378117d6681172    delivered   \n",
       "3       b1a5d5365d330d10485e0203d54ab9e8    delivered   \n",
       "4       2e604b3614664aa66867856dba7e61b7    delivered   \n",
       "...                                  ...          ...   \n",
       "116576  937592924b66482b823ee7ecd185d0ff    delivered   \n",
       "116577  28915ae2a90c218f0c2b7f8e0fb280e0    delivered   \n",
       "116578  e22a3e8048469ea68906f666d446c25c    delivered   \n",
       "116579  1ce0acf125f1bcd636276dd213363196    delivered   \n",
       "116580  1ce0acf125f1bcd636276dd213363196    delivered   \n",
       "\n",
       "       order_estimated_delivery_date order_purchase_date order_delivered_date  \\\n",
       "0                         2017-06-05          2017-05-16           2017-05-25   \n",
       "1                         2017-12-19          2017-11-09           2017-11-28   \n",
       "2                         2017-12-19          2017-11-09           2017-11-28   \n",
       "3                         2017-06-12          2017-05-07           2017-05-26   \n",
       "4                         2018-03-22          2018-02-03           2018-02-28   \n",
       "...                              ...                 ...                  ...   \n",
       "116576                    2018-04-18          2018-03-31           2018-04-06   \n",
       "116577                    2017-05-04          2017-04-09           2017-04-18   \n",
       "116578                    2017-09-19          2017-08-28           2017-09-05   \n",
       "116579                    2017-08-28          2017-07-31           2017-08-09   \n",
       "116580                    2017-08-28          2017-07-31           2017-08-09   \n",
       "\n",
       "        ...  product_description_lenght product_photos_qty product_weight_g  \\\n",
       "0       ...                      1141.0                1.0           8683.0   \n",
       "1       ...                      1141.0                1.0           8683.0   \n",
       "2       ...                      1141.0                1.0           8683.0   \n",
       "3       ...                      1141.0                1.0           8683.0   \n",
       "4       ...                      1141.0                1.0           8683.0   \n",
       "...     ...                         ...                ...              ...   \n",
       "116576  ...                       284.0                2.0          12500.0   \n",
       "116577  ...                       194.0                1.0            450.0   \n",
       "116578  ...                       731.0                1.0           2200.0   \n",
       "116579  ...                       429.0                1.0           2700.0   \n",
       "116580  ...                       429.0                1.0           2700.0   \n",
       "\n",
       "        product_length_cm  product_height_cm  product_width_cm  \\\n",
       "0                    54.0               64.0              31.0   \n",
       "1                    54.0               64.0              31.0   \n",
       "2                    54.0               64.0              31.0   \n",
       "3                    54.0               64.0              31.0   \n",
       "4                    54.0               64.0              31.0   \n",
       "...                   ...                ...               ...   \n",
       "116576               83.0               21.0              43.0   \n",
       "116577               31.0               10.0              18.0   \n",
       "116578               84.0               12.0              15.0   \n",
       "116579               85.0                7.0              40.0   \n",
       "116580               85.0                7.0              40.0   \n",
       "\n",
       "       seller_zip_code_prefix      seller_city  seller_state  \\\n",
       "0                        8577  itaquaquecetuba            SP   \n",
       "1                        8577  itaquaquecetuba            SP   \n",
       "2                        8577  itaquaquecetuba            SP   \n",
       "3                        8577  itaquaquecetuba            SP   \n",
       "4                        8577  itaquaquecetuba            SP   \n",
       "...                       ...              ...           ...   \n",
       "116576                  89701        concordia            SC   \n",
       "116577                  89701        concordia            SC   \n",
       "116578                  89701        concordia            SC   \n",
       "116579                  89701        concordia            SC   \n",
       "116580                  89701        concordia            SC   \n",
       "\n",
       "       product_category_name_english  \n",
       "0                   office_furniture  \n",
       "1                   office_furniture  \n",
       "2                   office_furniture  \n",
       "3                   office_furniture  \n",
       "4                   office_furniture  \n",
       "...                              ...  \n",
       "116576                    la_cuisine  \n",
       "116577                    la_cuisine  \n",
       "116578                    la_cuisine  \n",
       "116579                    la_cuisine  \n",
       "116580                    la_cuisine  \n",
       "\n",
       "[114065 rows x 33 columns]"
      ]
     },
     "execution_count": 68,
     "metadata": {},
     "output_type": "execute_result"
    }
   ],
   "source": [
    "final = pd.merge(customer, orders, on ='customer_id')\n",
    "final = pd.merge(final,order_items,on ='order_id')\n",
    "final = pd.merge(final,order_payments,on ='order_id')\n",
    "final = pd.merge(final,order_reviews,on ='order_id')\n",
    "final = pd.merge(final,products,on ='product_id')\n",
    "final = pd.merge(final,sellers,on ='seller_id')\n",
    "final = pd.merge(final,english_desc,on='product_category_name')\n",
    "final.dropna()\n",
    "#final.to_csv(r'C:\\Users\\Suyash\\BALC Project\\Cleaned\\final.csv')"
   ]
  },
  {
   "cell_type": "code",
   "execution_count": 69,
   "metadata": {},
   "outputs": [],
   "source": [
    "##########################################"
   ]
  },
  {
   "cell_type": "code",
   "execution_count": 70,
   "metadata": {},
   "outputs": [],
   "source": [
    "###################################################"
   ]
  },
  {
   "cell_type": "code",
   "execution_count": 71,
   "metadata": {},
   "outputs": [
    {
     "data": {
      "text/plain": [
       "Index(['customer_id', 'customer_unique_id', 'customer_zip_code_prefix',\n",
       "       'customer_city', 'customer_state', 'order_id', 'order_status',\n",
       "       'order_estimated_delivery_date', 'order_purchase_date',\n",
       "       'order_delivered_date', 'order_item_id', 'product_id', 'seller_id',\n",
       "       'price', 'freight_value', 'payment_sequential', 'payment_type',\n",
       "       'payment_installments', 'payment_value', 'review_id', 'review_score',\n",
       "       'product_category_name', 'product_name_lenght',\n",
       "       'product_description_lenght', 'product_photos_qty', 'product_weight_g',\n",
       "       'product_length_cm', 'product_height_cm', 'product_width_cm',\n",
       "       'seller_zip_code_prefix', 'seller_city', 'seller_state',\n",
       "       'product_category_name_english'],\n",
       "      dtype='object')"
      ]
     },
     "execution_count": 71,
     "metadata": {},
     "output_type": "execute_result"
    }
   ],
   "source": [
    "final.columns"
   ]
  },
  {
   "cell_type": "code",
   "execution_count": 83,
   "metadata": {},
   "outputs": [
    {
     "name": "stderr",
     "output_type": "stream",
     "text": [
      "C:\\Users\\sumit\\anaconda3\\lib\\site-packages\\pandas\\io\\formats\\style.py:1089: RuntimeWarning:\n",
      "\n",
      "All-NaN slice encountered\n",
      "\n",
      "C:\\Users\\sumit\\anaconda3\\lib\\site-packages\\pandas\\io\\formats\\style.py:1090: RuntimeWarning:\n",
      "\n",
      "All-NaN slice encountered\n",
      "\n",
      "C:\\Users\\sumit\\anaconda3\\lib\\site-packages\\matplotlib\\colors.py:527: RuntimeWarning:\n",
      "\n",
      "invalid value encountered in less\n",
      "\n"
     ]
    },
    {
     "data": {
      "text/html": [
       "<style  type=\"text/css\" >\n",
       "    #T_aa75f090_37d5_11eb_ad3e_98e7f430c3cbrow0_col1 {\n",
       "            background-color:  #ffe5e5;\n",
       "            color:  #000000;\n",
       "        }    #T_aa75f090_37d5_11eb_ad3e_98e7f430c3cbrow0_col2 {\n",
       "            background-color:  #ffe5e5;\n",
       "            color:  #000000;\n",
       "        }    #T_aa75f090_37d5_11eb_ad3e_98e7f430c3cbrow0_col3 {\n",
       "            background-color:  #ffe5e5;\n",
       "            color:  #000000;\n",
       "        }    #T_aa75f090_37d5_11eb_ad3e_98e7f430c3cbrow0_col4 {\n",
       "            background-color:  #ffe5e5;\n",
       "            color:  #000000;\n",
       "        }</style><table id=\"T_aa75f090_37d5_11eb_ad3e_98e7f430c3cb\" ><thead>    <tr>        <th class=\"blank level0\" ></th>        <th class=\"col_heading level0 col0\" >Dataframe</th>        <th class=\"col_heading level0 col1\" >Rows</th>        <th class=\"col_heading level0 col2\" >Columns</th>        <th class=\"col_heading level0 col3\" >Null Value Count</th>        <th class=\"col_heading level0 col4\" >Null Columns</th>        <th class=\"col_heading level0 col5\" >Null Columns Name</th>    </tr></thead><tbody>\n",
       "                <tr>\n",
       "                        <th id=\"T_aa75f090_37d5_11eb_ad3e_98e7f430c3cblevel0_row0\" class=\"row_heading level0 row0\" >0</th>\n",
       "                        <td id=\"T_aa75f090_37d5_11eb_ad3e_98e7f430c3cbrow0_col0\" class=\"data row0 col0\" >nan</td>\n",
       "                        <td id=\"T_aa75f090_37d5_11eb_ad3e_98e7f430c3cbrow0_col1\" class=\"data row0 col1\" >nan</td>\n",
       "                        <td id=\"T_aa75f090_37d5_11eb_ad3e_98e7f430c3cbrow0_col2\" class=\"data row0 col2\" >nan</td>\n",
       "                        <td id=\"T_aa75f090_37d5_11eb_ad3e_98e7f430c3cbrow0_col3\" class=\"data row0 col3\" >nan</td>\n",
       "                        <td id=\"T_aa75f090_37d5_11eb_ad3e_98e7f430c3cbrow0_col4\" class=\"data row0 col4\" >5</td>\n",
       "                        <td id=\"T_aa75f090_37d5_11eb_ad3e_98e7f430c3cbrow0_col5\" class=\"data row0 col5\" >order_delivered_date, product_weight_g, product_length_cm, product_height_cm, product_width_cm</td>\n",
       "            </tr>\n",
       "    </tbody></table>"
      ],
      "text/plain": [
       "<pandas.io.formats.style.Styler at 0x23ea515fec8>"
      ]
     },
     "execution_count": 83,
     "metadata": {},
     "output_type": "execute_result"
    }
   ],
   "source": [
    "df_info_table = pd.DataFrame({}) # Creating an Empty Dataframe\n",
    "df_info_table['Dataframe'] = 'Final' # Creating a Column with Dataframe(WIll work as in index)\n",
    "df_info_table['Rows'] = final.shape[0] #List Comprehension\n",
    "df_info_table['Columns'] = final.shape[1]\n",
    "df_info_table['Null Value Count'] = final.isnull().sum().sum()\n",
    "df_info_table['Null Columns'] = [len([col for col, null in final.isnull().sum().items() if null > 0])]\n",
    "df_info_table['Null Columns Name'] = [', '.join([col for col, null in final.isnull().sum().items() if null > 0])]\n",
    "\n",
    "\n",
    "#Chosing a Colour Paletter with Seaborn Library\n",
    "cm = sns.light_palette(\"maroon\", as_cmap=True)\n",
    "\n",
    "#Mapping the style to the dataframe\n",
    "df_info_table.style.background_gradient(cmap=cm)"
   ]
  },
  {
   "cell_type": "code",
   "execution_count": 73,
   "metadata": {},
   "outputs": [
    {
     "data": {
      "text/html": [
       "<div>\n",
       "<style scoped>\n",
       "    .dataframe tbody tr th:only-of-type {\n",
       "        vertical-align: middle;\n",
       "    }\n",
       "\n",
       "    .dataframe tbody tr th {\n",
       "        vertical-align: top;\n",
       "    }\n",
       "\n",
       "    .dataframe thead th {\n",
       "        text-align: right;\n",
       "    }\n",
       "</style>\n",
       "<table border=\"1\" class=\"dataframe\">\n",
       "  <thead>\n",
       "    <tr style=\"text-align: right;\">\n",
       "      <th></th>\n",
       "      <th>customer_id</th>\n",
       "      <th>customer_unique_id</th>\n",
       "      <th>customer_zip_code_prefix</th>\n",
       "      <th>customer_city</th>\n",
       "      <th>customer_state</th>\n",
       "      <th>order_id</th>\n",
       "      <th>order_status</th>\n",
       "      <th>order_estimated_delivery_date</th>\n",
       "      <th>order_purchase_date</th>\n",
       "      <th>order_delivered_date</th>\n",
       "      <th>...</th>\n",
       "      <th>product_description_lenght</th>\n",
       "      <th>product_photos_qty</th>\n",
       "      <th>product_weight_g</th>\n",
       "      <th>product_length_cm</th>\n",
       "      <th>product_height_cm</th>\n",
       "      <th>product_width_cm</th>\n",
       "      <th>seller_zip_code_prefix</th>\n",
       "      <th>seller_city</th>\n",
       "      <th>seller_state</th>\n",
       "      <th>product_category_name_english</th>\n",
       "    </tr>\n",
       "  </thead>\n",
       "  <tbody>\n",
       "    <tr>\n",
       "      <th>0</th>\n",
       "      <td>06b8999e2fba1a1fbc88172c00ba8bc7</td>\n",
       "      <td>861eff4711a542e4b93843c6dd7febb0</td>\n",
       "      <td>14409</td>\n",
       "      <td>franca</td>\n",
       "      <td>SP</td>\n",
       "      <td>00e7ee1b050b8499577073aeb2a297a1</td>\n",
       "      <td>delivered</td>\n",
       "      <td>2017-06-05</td>\n",
       "      <td>2017-05-16</td>\n",
       "      <td>2017-05-25</td>\n",
       "      <td>...</td>\n",
       "      <td>1141.0</td>\n",
       "      <td>1.0</td>\n",
       "      <td>8683.0</td>\n",
       "      <td>54.0</td>\n",
       "      <td>64.0</td>\n",
       "      <td>31.0</td>\n",
       "      <td>8577</td>\n",
       "      <td>itaquaquecetuba</td>\n",
       "      <td>SP</td>\n",
       "      <td>office_furniture</td>\n",
       "    </tr>\n",
       "    <tr>\n",
       "      <th>1</th>\n",
       "      <td>8912fc0c3bbf1e2fbf35819e21706718</td>\n",
       "      <td>9eae34bbd3a474ec5d07949ca7de67c0</td>\n",
       "      <td>68030</td>\n",
       "      <td>santarem</td>\n",
       "      <td>PA</td>\n",
       "      <td>c1d2b34febe9cd269e378117d6681172</td>\n",
       "      <td>delivered</td>\n",
       "      <td>2017-12-19</td>\n",
       "      <td>2017-11-09</td>\n",
       "      <td>2017-11-28</td>\n",
       "      <td>...</td>\n",
       "      <td>1141.0</td>\n",
       "      <td>1.0</td>\n",
       "      <td>8683.0</td>\n",
       "      <td>54.0</td>\n",
       "      <td>64.0</td>\n",
       "      <td>31.0</td>\n",
       "      <td>8577</td>\n",
       "      <td>itaquaquecetuba</td>\n",
       "      <td>SP</td>\n",
       "      <td>office_furniture</td>\n",
       "    </tr>\n",
       "    <tr>\n",
       "      <th>2</th>\n",
       "      <td>8912fc0c3bbf1e2fbf35819e21706718</td>\n",
       "      <td>9eae34bbd3a474ec5d07949ca7de67c0</td>\n",
       "      <td>68030</td>\n",
       "      <td>santarem</td>\n",
       "      <td>PA</td>\n",
       "      <td>c1d2b34febe9cd269e378117d6681172</td>\n",
       "      <td>delivered</td>\n",
       "      <td>2017-12-19</td>\n",
       "      <td>2017-11-09</td>\n",
       "      <td>2017-11-28</td>\n",
       "      <td>...</td>\n",
       "      <td>1141.0</td>\n",
       "      <td>1.0</td>\n",
       "      <td>8683.0</td>\n",
       "      <td>54.0</td>\n",
       "      <td>64.0</td>\n",
       "      <td>31.0</td>\n",
       "      <td>8577</td>\n",
       "      <td>itaquaquecetuba</td>\n",
       "      <td>SP</td>\n",
       "      <td>office_furniture</td>\n",
       "    </tr>\n",
       "    <tr>\n",
       "      <th>3</th>\n",
       "      <td>f0ac8e5a239118859b1734e1087cbb1f</td>\n",
       "      <td>3c799d181c34d51f6d44bbbc563024db</td>\n",
       "      <td>92480</td>\n",
       "      <td>nova santa rita</td>\n",
       "      <td>RS</td>\n",
       "      <td>b1a5d5365d330d10485e0203d54ab9e8</td>\n",
       "      <td>delivered</td>\n",
       "      <td>2017-06-12</td>\n",
       "      <td>2017-05-07</td>\n",
       "      <td>2017-05-26</td>\n",
       "      <td>...</td>\n",
       "      <td>1141.0</td>\n",
       "      <td>1.0</td>\n",
       "      <td>8683.0</td>\n",
       "      <td>54.0</td>\n",
       "      <td>64.0</td>\n",
       "      <td>31.0</td>\n",
       "      <td>8577</td>\n",
       "      <td>itaquaquecetuba</td>\n",
       "      <td>SP</td>\n",
       "      <td>office_furniture</td>\n",
       "    </tr>\n",
       "    <tr>\n",
       "      <th>4</th>\n",
       "      <td>6bc8d08963a135220ed6c6d098831f84</td>\n",
       "      <td>23397e992b09769faf5e66f9e171a241</td>\n",
       "      <td>25931</td>\n",
       "      <td>mage</td>\n",
       "      <td>RJ</td>\n",
       "      <td>2e604b3614664aa66867856dba7e61b7</td>\n",
       "      <td>delivered</td>\n",
       "      <td>2018-03-22</td>\n",
       "      <td>2018-02-03</td>\n",
       "      <td>2018-02-28</td>\n",
       "      <td>...</td>\n",
       "      <td>1141.0</td>\n",
       "      <td>1.0</td>\n",
       "      <td>8683.0</td>\n",
       "      <td>54.0</td>\n",
       "      <td>64.0</td>\n",
       "      <td>31.0</td>\n",
       "      <td>8577</td>\n",
       "      <td>itaquaquecetuba</td>\n",
       "      <td>SP</td>\n",
       "      <td>office_furniture</td>\n",
       "    </tr>\n",
       "  </tbody>\n",
       "</table>\n",
       "<p>5 rows × 33 columns</p>\n",
       "</div>"
      ],
      "text/plain": [
       "                        customer_id                customer_unique_id  \\\n",
       "0  06b8999e2fba1a1fbc88172c00ba8bc7  861eff4711a542e4b93843c6dd7febb0   \n",
       "1  8912fc0c3bbf1e2fbf35819e21706718  9eae34bbd3a474ec5d07949ca7de67c0   \n",
       "2  8912fc0c3bbf1e2fbf35819e21706718  9eae34bbd3a474ec5d07949ca7de67c0   \n",
       "3  f0ac8e5a239118859b1734e1087cbb1f  3c799d181c34d51f6d44bbbc563024db   \n",
       "4  6bc8d08963a135220ed6c6d098831f84  23397e992b09769faf5e66f9e171a241   \n",
       "\n",
       "   customer_zip_code_prefix    customer_city customer_state  \\\n",
       "0                     14409           franca             SP   \n",
       "1                     68030         santarem             PA   \n",
       "2                     68030         santarem             PA   \n",
       "3                     92480  nova santa rita             RS   \n",
       "4                     25931             mage             RJ   \n",
       "\n",
       "                           order_id order_status  \\\n",
       "0  00e7ee1b050b8499577073aeb2a297a1    delivered   \n",
       "1  c1d2b34febe9cd269e378117d6681172    delivered   \n",
       "2  c1d2b34febe9cd269e378117d6681172    delivered   \n",
       "3  b1a5d5365d330d10485e0203d54ab9e8    delivered   \n",
       "4  2e604b3614664aa66867856dba7e61b7    delivered   \n",
       "\n",
       "  order_estimated_delivery_date order_purchase_date order_delivered_date  ...  \\\n",
       "0                    2017-06-05          2017-05-16           2017-05-25  ...   \n",
       "1                    2017-12-19          2017-11-09           2017-11-28  ...   \n",
       "2                    2017-12-19          2017-11-09           2017-11-28  ...   \n",
       "3                    2017-06-12          2017-05-07           2017-05-26  ...   \n",
       "4                    2018-03-22          2018-02-03           2018-02-28  ...   \n",
       "\n",
       "   product_description_lenght product_photos_qty product_weight_g  \\\n",
       "0                      1141.0                1.0           8683.0   \n",
       "1                      1141.0                1.0           8683.0   \n",
       "2                      1141.0                1.0           8683.0   \n",
       "3                      1141.0                1.0           8683.0   \n",
       "4                      1141.0                1.0           8683.0   \n",
       "\n",
       "   product_length_cm  product_height_cm  product_width_cm  \\\n",
       "0               54.0               64.0              31.0   \n",
       "1               54.0               64.0              31.0   \n",
       "2               54.0               64.0              31.0   \n",
       "3               54.0               64.0              31.0   \n",
       "4               54.0               64.0              31.0   \n",
       "\n",
       "  seller_zip_code_prefix      seller_city  seller_state  \\\n",
       "0                   8577  itaquaquecetuba            SP   \n",
       "1                   8577  itaquaquecetuba            SP   \n",
       "2                   8577  itaquaquecetuba            SP   \n",
       "3                   8577  itaquaquecetuba            SP   \n",
       "4                   8577  itaquaquecetuba            SP   \n",
       "\n",
       "  product_category_name_english  \n",
       "0              office_furniture  \n",
       "1              office_furniture  \n",
       "2              office_furniture  \n",
       "3              office_furniture  \n",
       "4              office_furniture  \n",
       "\n",
       "[5 rows x 33 columns]"
      ]
     },
     "execution_count": 73,
     "metadata": {},
     "output_type": "execute_result"
    }
   ],
   "source": [
    "final.head()"
   ]
  },
  {
   "cell_type": "code",
   "execution_count": 74,
   "metadata": {},
   "outputs": [
    {
     "data": {
      "text/plain": [
       "customer_id                              object\n",
       "customer_unique_id                       object\n",
       "customer_zip_code_prefix                  int64\n",
       "customer_city                            object\n",
       "customer_state                           object\n",
       "order_id                                 object\n",
       "order_status                             object\n",
       "order_estimated_delivery_date            object\n",
       "order_purchase_date              datetime64[ns]\n",
       "order_delivered_date             datetime64[ns]\n",
       "order_item_id                             int64\n",
       "product_id                               object\n",
       "seller_id                                object\n",
       "price                                   float64\n",
       "freight_value                           float64\n",
       "payment_sequential                        int64\n",
       "payment_type                             object\n",
       "payment_installments                      int64\n",
       "payment_value                           float64\n",
       "review_id                                object\n",
       "review_score                              int64\n",
       "product_category_name                    object\n",
       "product_name_lenght                     float64\n",
       "product_description_lenght              float64\n",
       "product_photos_qty                      float64\n",
       "product_weight_g                        float64\n",
       "product_length_cm                       float64\n",
       "product_height_cm                       float64\n",
       "product_width_cm                        float64\n",
       "seller_zip_code_prefix                    int64\n",
       "seller_city                              object\n",
       "seller_state                             object\n",
       "product_category_name_english            object\n",
       "dtype: object"
      ]
     },
     "execution_count": 74,
     "metadata": {},
     "output_type": "execute_result"
    }
   ],
   "source": [
    "final.dtypes"
   ]
  },
  {
   "cell_type": "markdown",
   "metadata": {},
   "source": [
    " "
   ]
  },
  {
   "cell_type": "markdown",
   "metadata": {},
   "source": [
    " "
   ]
  },
  {
   "cell_type": "markdown",
   "metadata": {},
   "source": [
    " "
   ]
  },
  {
   "cell_type": "markdown",
   "metadata": {},
   "source": [
    " "
   ]
  },
  {
   "cell_type": "markdown",
   "metadata": {},
   "source": [
    " "
   ]
  },
  {
   "cell_type": "markdown",
   "metadata": {},
   "source": [
    " "
   ]
  },
  {
   "cell_type": "markdown",
   "metadata": {},
   "source": [
    " "
   ]
  },
  {
   "cell_type": "markdown",
   "metadata": {},
   "source": [
    " "
   ]
  },
  {
   "cell_type": "markdown",
   "metadata": {},
   "source": [
    " "
   ]
  },
  {
   "cell_type": "markdown",
   "metadata": {},
   "source": [
    " "
   ]
  },
  {
   "cell_type": "markdown",
   "metadata": {},
   "source": [
    " "
   ]
  },
  {
   "cell_type": "markdown",
   "metadata": {},
   "source": [
    " "
   ]
  },
  {
   "cell_type": "markdown",
   "metadata": {},
   "source": [
    " "
   ]
  },
  {
   "cell_type": "markdown",
   "metadata": {},
   "source": [
    "# Exploratory Data Analysis"
   ]
  },
  {
   "cell_type": "markdown",
   "metadata": {},
   "source": [
    "## We will try to see the orders by Year, Month and Then Days"
   ]
  },
  {
   "cell_type": "code",
   "execution_count": 75,
   "metadata": {},
   "outputs": [
    {
     "data": {
      "text/plain": [
       "order_id                                 object\n",
       "customer_id                              object\n",
       "order_status                             object\n",
       "order_estimated_delivery_date            object\n",
       "order_purchase_date              datetime64[ns]\n",
       "order_delivered_date             datetime64[ns]\n",
       "dtype: object"
      ]
     },
     "execution_count": 75,
     "metadata": {},
     "output_type": "execute_result"
    }
   ],
   "source": [
    "orders.dtypes"
   ]
  },
  {
   "cell_type": "code",
   "execution_count": 76,
   "metadata": {},
   "outputs": [],
   "source": [
    "time_series_df = pd.DataFrame(columns=['Date','Orders'])"
   ]
  },
  {
   "cell_type": "code",
   "execution_count": 77,
   "metadata": {},
   "outputs": [],
   "source": [
    "time_series_df['Date'] = orders['order_purchase_date'].dt.date\n",
    "time_series_df['Orders']=1"
   ]
  },
  {
   "cell_type": "code",
   "execution_count": 78,
   "metadata": {},
   "outputs": [],
   "source": [
    "time_series_df = time_series_df.groupby(['Date']).sum()"
   ]
  },
  {
   "cell_type": "code",
   "execution_count": 79,
   "metadata": {},
   "outputs": [],
   "source": [
    "time_series_df = time_series_df.reset_index()"
   ]
  },
  {
   "cell_type": "code",
   "execution_count": 80,
   "metadata": {},
   "outputs": [],
   "source": [
    "time_series_df['Year'] = orders['order_purchase_date'].dt.year"
   ]
  },
  {
   "cell_type": "markdown",
   "metadata": {},
   "source": [
    "### Year Plot"
   ]
  },
  {
   "cell_type": "code",
   "execution_count": 81,
   "metadata": {},
   "outputs": [
    {
     "ename": "ValueError",
     "evalue": "Invalid property specified for object of type plotly.graph_objs.layout.XAxis: 'ticklabelmode'\n\n    Valid properties:\n        anchor\n            If set to an opposite-letter axis id (e.g. `x2`, `y`),\n            this axis is bound to the corresponding opposite-letter\n            axis. If set to \"free\", this axis' position is\n            determined by `position`.\n        automargin\n            Determines whether long tick labels automatically grow\n            the figure margins.\n        autorange\n            Determines whether or not the range of this axis is\n            computed in relation to the input data. See `rangemode`\n            for more info. If `range` is provided, then `autorange`\n            is set to False.\n        calendar\n            Sets the calendar system to use for `range` and `tick0`\n            if this is a date axis. This does not set the calendar\n            for interpreting data on this axis, that's specified in\n            the trace or via the global `layout.calendar`\n        categoryarray\n            Sets the order in which categories on this axis appear.\n            Only has an effect if `categoryorder` is set to\n            \"array\". Used with `categoryorder`.\n        categoryarraysrc\n            Sets the source reference on Chart Studio Cloud for\n            categoryarray .\n        categoryorder\n            Specifies the ordering logic for the case of\n            categorical variables. By default, plotly uses \"trace\",\n            which specifies the order that is present in the data\n            supplied. Set `categoryorder` to *category ascending*\n            or *category descending* if order should be determined\n            by the alphanumerical order of the category names. Set\n            `categoryorder` to \"array\" to derive the ordering from\n            the attribute `categoryarray`. If a category is not\n            found in the `categoryarray` array, the sorting\n            behavior for that attribute will be identical to the\n            \"trace\" mode. The unspecified categories will follow\n            the categories in `categoryarray`. Set `categoryorder`\n            to *total ascending* or *total descending* if order\n            should be determined by the numerical order of the\n            values. Similarly, the order can be determined by the\n            min, max, sum, mean or median of all the values.\n        color\n            Sets default for all colors associated with this axis\n            all at once: line, font, tick, and grid colors. Grid\n            color is lightened by blending this with the plot\n            background Individual pieces can override this.\n        constrain\n            If this axis needs to be compressed (either due to its\n            own `scaleanchor` and `scaleratio` or those of the\n            other axis), determines how that happens: by increasing\n            the \"range\" (default), or by decreasing the \"domain\".\n        constraintoward\n            If this axis needs to be compressed (either due to its\n            own `scaleanchor` and `scaleratio` or those of the\n            other axis), determines which direction we push the\n            originally specified plot area. Options are \"left\",\n            \"center\" (default), and \"right\" for x axes, and \"top\",\n            \"middle\" (default), and \"bottom\" for y axes.\n        dividercolor\n            Sets the color of the dividers Only has an effect on\n            \"multicategory\" axes.\n        dividerwidth\n            Sets the width (in px) of the dividers Only has an\n            effect on \"multicategory\" axes.\n        domain\n            Sets the domain of this axis (in plot fraction).\n        dtick\n            Sets the step in-between ticks on this axis. Use with\n            `tick0`. Must be a positive number, or special strings\n            available to \"log\" and \"date\" axes. If the axis `type`\n            is \"log\", then ticks are set every 10^(n*dtick) where n\n            is the tick number. For example, to set a tick mark at\n            1, 10, 100, 1000, ... set dtick to 1. To set tick marks\n            at 1, 100, 10000, ... set dtick to 2. To set tick marks\n            at 1, 5, 25, 125, 625, 3125, ... set dtick to\n            log_10(5), or 0.69897000433. \"log\" has several special\n            values; \"L<f>\", where `f` is a positive number, gives\n            ticks linearly spaced in value (but not position). For\n            example `tick0` = 0.1, `dtick` = \"L0.5\" will put ticks\n            at 0.1, 0.6, 1.1, 1.6 etc. To show powers of 10 plus\n            small digits between, use \"D1\" (all digits) or \"D2\"\n            (only 2 and 5). `tick0` is ignored for \"D1\" and \"D2\".\n            If the axis `type` is \"date\", then you must convert the\n            time to milliseconds. For example, to set the interval\n            between ticks to one day, set `dtick` to 86400000.0.\n            \"date\" also has special values \"M<n>\" gives ticks\n            spaced by a number of months. `n` must be a positive\n            integer. To set ticks on the 15th of every third month,\n            set `tick0` to \"2000-01-15\" and `dtick` to \"M3\". To set\n            ticks every 4 years, set `dtick` to \"M48\"\n        exponentformat\n            Determines a formatting rule for the tick exponents.\n            For example, consider the number 1,000,000,000. If\n            \"none\", it appears as 1,000,000,000. If \"e\", 1e+9. If\n            \"E\", 1E+9. If \"power\", 1x10^9 (with 9 in a super\n            script). If \"SI\", 1G. If \"B\", 1B.\n        fixedrange\n            Determines whether or not this axis is zoom-able. If\n            true, then zoom is disabled.\n        gridcolor\n            Sets the color of the grid lines.\n        gridwidth\n            Sets the width (in px) of the grid lines.\n        hoverformat\n            Sets the hover text formatting rule using d3 formatting\n            mini-languages which are very similar to those in\n            Python. For numbers, see:\n            https://github.com/d3/d3-3.x-api-\n            reference/blob/master/Formatting.md#d3_format And for\n            dates see: https://github.com/d3/d3-3.x-api-\n            reference/blob/master/Time-Formatting.md#format We add\n            one item to d3's date formatter: \"%{n}f\" for fractional\n            seconds with n digits. For example, *2016-10-13\n            09:15:23.456* with tickformat \"%H~%M~%S.%2f\" would\n            display \"09~15~23.46\"\n        layer\n            Sets the layer on which this axis is displayed. If\n            *above traces*, this axis is displayed above all the\n            subplot's traces If *below traces*, this axis is\n            displayed below all the subplot's traces, but above the\n            grid lines. Useful when used together with scatter-like\n            traces with `cliponaxis` set to False to show markers\n            and/or text nodes above this axis.\n        linecolor\n            Sets the axis line color.\n        linewidth\n            Sets the width (in px) of the axis line.\n        matches\n            If set to another axis id (e.g. `x2`, `y`), the range\n            of this axis will match the range of the corresponding\n            axis in data-coordinates space. Moreover, matching axes\n            share auto-range values, category lists and histogram\n            auto-bins. Note that setting axes simultaneously in\n            both a `scaleanchor` and a `matches` constraint is\n            currently forbidden. Moreover, note that matching axes\n            must have the same `type`.\n        mirror\n            Determines if the axis lines or/and ticks are mirrored\n            to the opposite side of the plotting area. If True, the\n            axis lines are mirrored. If \"ticks\", the axis lines and\n            ticks are mirrored. If False, mirroring is disable. If\n            \"all\", axis lines are mirrored on all shared-axes\n            subplots. If \"allticks\", axis lines and ticks are\n            mirrored on all shared-axes subplots.\n        nticks\n            Specifies the maximum number of ticks for the\n            particular axis. The actual number of ticks will be\n            chosen automatically to be less than or equal to\n            `nticks`. Has an effect only if `tickmode` is set to\n            \"auto\".\n        overlaying\n            If set a same-letter axis id, this axis is overlaid on\n            top of the corresponding same-letter axis, with traces\n            and axes visible for both axes. If False, this axis\n            does not overlay any same-letter axes. In this case,\n            for axes with overlapping domains only the highest-\n            numbered axis will be visible.\n        position\n            Sets the position of this axis in the plotting space\n            (in normalized coordinates). Only has an effect if\n            `anchor` is set to \"free\".\n        range\n            Sets the range of this axis. If the axis `type` is\n            \"log\", then you must take the log of your desired range\n            (e.g. to set the range from 1 to 100, set the range\n            from 0 to 2). If the axis `type` is \"date\", it should\n            be date strings, like date data, though Date objects\n            and unix milliseconds will be accepted and converted to\n            strings. If the axis `type` is \"category\", it should be\n            numbers, using the scale where each category is\n            assigned a serial number from zero in the order it\n            appears.\n        rangebreaks\n            A tuple of\n            :class:`plotly.graph_objects.layout.xaxis.Rangebreak`\n            instances or dicts with compatible properties\n        rangebreakdefaults\n            When used in a template (as\n            layout.template.layout.xaxis.rangebreakdefaults), sets\n            the default property values to use for elements of\n            layout.xaxis.rangebreaks\n        rangemode\n            If \"normal\", the range is computed in relation to the\n            extrema of the input data. If *tozero*`, the range\n            extends to 0, regardless of the input data If\n            \"nonnegative\", the range is non-negative, regardless of\n            the input data. Applies only to linear axes.\n        rangeselector\n            :class:`plotly.graph_objects.layout.xaxis.Rangeselector\n            ` instance or dict with compatible properties\n        rangeslider\n            :class:`plotly.graph_objects.layout.xaxis.Rangeslider`\n            instance or dict with compatible properties\n        scaleanchor\n            If set to another axis id (e.g. `x2`, `y`), the range\n            of this axis changes together with the range of the\n            corresponding axis such that the scale of pixels per\n            unit is in a constant ratio. Both axes are still\n            zoomable, but when you zoom one, the other will zoom\n            the same amount, keeping a fixed midpoint. `constrain`\n            and `constraintoward` determine how we enforce the\n            constraint. You can chain these, ie `yaxis:\n            {scaleanchor: *x*}, xaxis2: {scaleanchor: *y*}` but you\n            can only link axes of the same `type`. The linked axis\n            can have the opposite letter (to constrain the aspect\n            ratio) or the same letter (to match scales across\n            subplots). Loops (`yaxis: {scaleanchor: *x*}, xaxis:\n            {scaleanchor: *y*}` or longer) are redundant and the\n            last constraint encountered will be ignored to avoid\n            possible inconsistent constraints via `scaleratio`.\n            Note that setting axes simultaneously in both a\n            `scaleanchor` and a `matches` constraint is currently\n            forbidden.\n        scaleratio\n            If this axis is linked to another by `scaleanchor`,\n            this determines the pixel to unit scale ratio. For\n            example, if this value is 10, then every unit on this\n            axis spans 10 times the number of pixels as a unit on\n            the linked axis. Use this for example to create an\n            elevation profile where the vertical scale is\n            exaggerated a fixed amount with respect to the\n            horizontal.\n        separatethousands\n            If \"true\", even 4-digit integers are separated\n        showdividers\n            Determines whether or not a dividers are drawn between\n            the category levels of this axis. Only has an effect on\n            \"multicategory\" axes.\n        showexponent\n            If \"all\", all exponents are shown besides their\n            significands. If \"first\", only the exponent of the\n            first tick is shown. If \"last\", only the exponent of\n            the last tick is shown. If \"none\", no exponents appear.\n        showgrid\n            Determines whether or not grid lines are drawn. If\n            True, the grid lines are drawn at every tick mark.\n        showline\n            Determines whether or not a line bounding this axis is\n            drawn.\n        showspikes\n            Determines whether or not spikes (aka droplines) are\n            drawn for this axis. Note: This only takes affect when\n            hovermode = closest\n        showticklabels\n            Determines whether or not the tick labels are drawn.\n        showtickprefix\n            If \"all\", all tick labels are displayed with a prefix.\n            If \"first\", only the first tick is displayed with a\n            prefix. If \"last\", only the last tick is displayed with\n            a suffix. If \"none\", tick prefixes are hidden.\n        showticksuffix\n            Same as `showtickprefix` but for tick suffixes.\n        side\n            Determines whether a x (y) axis is positioned at the\n            \"bottom\" (\"left\") or \"top\" (\"right\") of the plotting\n            area.\n        spikecolor\n            Sets the spike color. If undefined, will use the series\n            color\n        spikedash\n            Sets the dash style of lines. Set to a dash type string\n            (\"solid\", \"dot\", \"dash\", \"longdash\", \"dashdot\", or\n            \"longdashdot\") or a dash length list in px (eg\n            \"5px,10px,2px,2px\").\n        spikemode\n            Determines the drawing mode for the spike line If\n            \"toaxis\", the line is drawn from the data point to the\n            axis the  series is plotted on. If \"across\", the line\n            is drawn across the entire plot area, and supercedes\n            \"toaxis\". If \"marker\", then a marker dot is drawn on\n            the axis the series is plotted on\n        spikesnap\n            Determines whether spikelines are stuck to the cursor\n            or to the closest datapoints.\n        spikethickness\n            Sets the width (in px) of the zero line.\n        tick0\n            Sets the placement of the first tick on this axis. Use\n            with `dtick`. If the axis `type` is \"log\", then you\n            must take the log of your starting tick (e.g. to set\n            the starting tick to 100, set the `tick0` to 2) except\n            when `dtick`=*L<f>* (see `dtick` for more info). If the\n            axis `type` is \"date\", it should be a date string, like\n            date data. If the axis `type` is \"category\", it should\n            be a number, using the scale where each category is\n            assigned a serial number from zero in the order it\n            appears.\n        tickangle\n            Sets the angle of the tick labels with respect to the\n            horizontal. For example, a `tickangle` of -90 draws the\n            tick labels vertically.\n        tickcolor\n            Sets the tick color.\n        tickfont\n            Sets the tick font.\n        tickformat\n            Sets the tick label formatting rule using d3 formatting\n            mini-languages which are very similar to those in\n            Python. For numbers, see:\n            https://github.com/d3/d3-3.x-api-\n            reference/blob/master/Formatting.md#d3_format And for\n            dates see: https://github.com/d3/d3-3.x-api-\n            reference/blob/master/Time-Formatting.md#format We add\n            one item to d3's date formatter: \"%{n}f\" for fractional\n            seconds with n digits. For example, *2016-10-13\n            09:15:23.456* with tickformat \"%H~%M~%S.%2f\" would\n            display \"09~15~23.46\"\n        tickformatstops\n            A tuple of :class:`plotly.graph_objects.layout.xaxis.Ti\n            ckformatstop` instances or dicts with compatible\n            properties\n        tickformatstopdefaults\n            When used in a template (as\n            layout.template.layout.xaxis.tickformatstopdefaults),\n            sets the default property values to use for elements of\n            layout.xaxis.tickformatstops\n        ticklen\n            Sets the tick length (in px).\n        tickmode\n            Sets the tick mode for this axis. If \"auto\", the number\n            of ticks is set via `nticks`. If \"linear\", the\n            placement of the ticks is determined by a starting\n            position `tick0` and a tick step `dtick` (\"linear\" is\n            the default value if `tick0` and `dtick` are provided).\n            If \"array\", the placement of the ticks is set via\n            `tickvals` and the tick text is `ticktext`. (\"array\" is\n            the default value if `tickvals` is provided).\n        tickprefix\n            Sets a tick label prefix.\n        ticks\n            Determines whether ticks are drawn or not. If \"\", this\n            axis' ticks are not drawn. If \"outside\" (\"inside\"),\n            this axis' are drawn outside (inside) the axis lines.\n        tickson\n            Determines where ticks and grid lines are drawn with\n            respect to their corresponding tick labels. Only has an\n            effect for axes of `type` \"category\" or\n            \"multicategory\". When set to \"boundaries\", ticks and\n            grid lines are drawn half a category to the left/bottom\n            of labels.\n        ticksuffix\n            Sets a tick label suffix.\n        ticktext\n            Sets the text displayed at the ticks position via\n            `tickvals`. Only has an effect if `tickmode` is set to\n            \"array\". Used with `tickvals`.\n        ticktextsrc\n            Sets the source reference on Chart Studio Cloud for\n            ticktext .\n        tickvals\n            Sets the values at which ticks on this axis appear.\n            Only has an effect if `tickmode` is set to \"array\".\n            Used with `ticktext`.\n        tickvalssrc\n            Sets the source reference on Chart Studio Cloud for\n            tickvals .\n        tickwidth\n            Sets the tick width (in px).\n        title\n            :class:`plotly.graph_objects.layout.xaxis.Title`\n            instance or dict with compatible properties\n        titlefont\n            Deprecated: Please use layout.xaxis.title.font instead.\n            Sets this axis' title font. Note that the title's font\n            used to be customized by the now deprecated `titlefont`\n            attribute.\n        type\n            Sets the axis type. By default, plotly attempts to\n            determined the axis type by looking into the data of\n            the traces that referenced the axis in question.\n        uirevision\n            Controls persistence of user-driven changes in axis\n            `range`, `autorange`, and `title` if in `editable:\n            true` configuration. Defaults to `layout.uirevision`.\n        visible\n            A single toggle to hide the axis while preserving\n            interaction like dragging. Default is true when a\n            cheater plot is present on the axis, otherwise false\n        zeroline\n            Determines whether or not a line is drawn at along the\n            0 value of this axis. If True, the zero line is drawn\n            on top of the grid lines.\n        zerolinecolor\n            Sets the line color of the zero line.\n        zerolinewidth\n            Sets the width (in px) of the zero line.\n        ",
     "output_type": "error",
     "traceback": [
      "\u001b[1;31m---------------------------------------------------------------------------\u001b[0m",
      "\u001b[1;31mValueError\u001b[0m                                Traceback (most recent call last)",
      "\u001b[1;32m<ipython-input-81-1cd4a61da96f>\u001b[0m in \u001b[0;36m<module>\u001b[1;34m\u001b[0m\n\u001b[0;32m      1\u001b[0m \u001b[0mfig\u001b[0m \u001b[1;33m=\u001b[0m \u001b[0mpx\u001b[0m\u001b[1;33m.\u001b[0m\u001b[0mhistogram\u001b[0m\u001b[1;33m(\u001b[0m\u001b[0mtime_series_df\u001b[0m\u001b[1;33m,\u001b[0m \u001b[0mx\u001b[0m\u001b[1;33m=\u001b[0m\u001b[1;34m\"Year\"\u001b[0m\u001b[1;33m,\u001b[0m \u001b[0my\u001b[0m\u001b[1;33m=\u001b[0m\u001b[1;34m\"Orders\"\u001b[0m\u001b[1;33m,\u001b[0m \u001b[0mhistfunc\u001b[0m\u001b[1;33m=\u001b[0m\u001b[1;34m\"sum\"\u001b[0m\u001b[1;33m,\u001b[0m \u001b[0mtitle\u001b[0m\u001b[1;33m=\u001b[0m\u001b[1;34m\"Orders By Year\"\u001b[0m\u001b[1;33m,\u001b[0m\u001b[0mcolor\u001b[0m\u001b[1;33m=\u001b[0m\u001b[0mtime_series_df\u001b[0m\u001b[1;33m[\u001b[0m\u001b[1;34m'Year'\u001b[0m\u001b[1;33m]\u001b[0m\u001b[1;33m)\u001b[0m\u001b[1;33m\u001b[0m\u001b[1;33m\u001b[0m\u001b[0m\n\u001b[0;32m      2\u001b[0m \u001b[0mfig\u001b[0m\u001b[1;33m.\u001b[0m\u001b[0mupdate_traces\u001b[0m\u001b[1;33m(\u001b[0m\u001b[0mxbins_size\u001b[0m\u001b[1;33m=\u001b[0m\u001b[1;36m0\u001b[0m\u001b[1;33m)\u001b[0m\u001b[1;33m\u001b[0m\u001b[1;33m\u001b[0m\u001b[0m\n\u001b[1;32m----> 3\u001b[1;33m \u001b[0mfig\u001b[0m\u001b[1;33m.\u001b[0m\u001b[0mupdate_xaxes\u001b[0m\u001b[1;33m(\u001b[0m\u001b[0mshowgrid\u001b[0m\u001b[1;33m=\u001b[0m\u001b[1;32mTrue\u001b[0m\u001b[1;33m,\u001b[0m \u001b[0mticklabelmode\u001b[0m\u001b[1;33m=\u001b[0m\u001b[1;34m\"period\"\u001b[0m\u001b[1;33m,\u001b[0m \u001b[0mdtick\u001b[0m\u001b[1;33m=\u001b[0m\u001b[1;34m\"M1\"\u001b[0m\u001b[1;33m,\u001b[0m \u001b[0mtickformat\u001b[0m\u001b[1;33m=\u001b[0m\u001b[1;34m\"Y\"\u001b[0m\u001b[1;33m)\u001b[0m\u001b[1;33m\u001b[0m\u001b[1;33m\u001b[0m\u001b[0m\n\u001b[0m\u001b[0;32m      4\u001b[0m \u001b[0mfig\u001b[0m\u001b[1;33m.\u001b[0m\u001b[0mupdate_layout\u001b[0m\u001b[1;33m(\u001b[0m\u001b[0mbargap\u001b[0m\u001b[1;33m=\u001b[0m\u001b[1;36m0.5\u001b[0m\u001b[1;33m)\u001b[0m\u001b[1;33m\u001b[0m\u001b[1;33m\u001b[0m\u001b[0m\n\u001b[0;32m      5\u001b[0m \u001b[0mfig\u001b[0m\u001b[1;33m.\u001b[0m\u001b[0mshow\u001b[0m\u001b[1;33m(\u001b[0m\u001b[1;33m)\u001b[0m\u001b[1;33m\u001b[0m\u001b[1;33m\u001b[0m\u001b[0m\n",
      "\u001b[1;32m~\\anaconda3\\lib\\site-packages\\plotly\\graph_objs\\_figure.py\u001b[0m in \u001b[0;36mupdate_xaxes\u001b[1;34m(self, patch, selector, overwrite, row, col, **kwargs)\u001b[0m\n\u001b[0;32m  17646\u001b[0m         \"\"\"\n\u001b[0;32m  17647\u001b[0m         \u001b[1;32mfor\u001b[0m \u001b[0mobj\u001b[0m \u001b[1;32min\u001b[0m \u001b[0mself\u001b[0m\u001b[1;33m.\u001b[0m\u001b[0mselect_xaxes\u001b[0m\u001b[1;33m(\u001b[0m\u001b[0mselector\u001b[0m\u001b[1;33m=\u001b[0m\u001b[0mselector\u001b[0m\u001b[1;33m,\u001b[0m \u001b[0mrow\u001b[0m\u001b[1;33m=\u001b[0m\u001b[0mrow\u001b[0m\u001b[1;33m,\u001b[0m \u001b[0mcol\u001b[0m\u001b[1;33m=\u001b[0m\u001b[0mcol\u001b[0m\u001b[1;33m)\u001b[0m\u001b[1;33m:\u001b[0m\u001b[1;33m\u001b[0m\u001b[1;33m\u001b[0m\u001b[0m\n\u001b[1;32m> 17648\u001b[1;33m             \u001b[0mobj\u001b[0m\u001b[1;33m.\u001b[0m\u001b[0mupdate\u001b[0m\u001b[1;33m(\u001b[0m\u001b[0mpatch\u001b[0m\u001b[1;33m,\u001b[0m \u001b[0moverwrite\u001b[0m\u001b[1;33m=\u001b[0m\u001b[0moverwrite\u001b[0m\u001b[1;33m,\u001b[0m \u001b[1;33m**\u001b[0m\u001b[0mkwargs\u001b[0m\u001b[1;33m)\u001b[0m\u001b[1;33m\u001b[0m\u001b[1;33m\u001b[0m\u001b[0m\n\u001b[0m\u001b[0;32m  17649\u001b[0m \u001b[1;33m\u001b[0m\u001b[0m\n\u001b[0;32m  17650\u001b[0m         \u001b[1;32mreturn\u001b[0m \u001b[0mself\u001b[0m\u001b[1;33m\u001b[0m\u001b[1;33m\u001b[0m\u001b[0m\n",
      "\u001b[1;32m~\\anaconda3\\lib\\site-packages\\plotly\\basedatatypes.py\u001b[0m in \u001b[0;36mupdate\u001b[1;34m(self, dict1, overwrite, **kwargs)\u001b[0m\n\u001b[0;32m   3695\u001b[0m             \u001b[1;32mwith\u001b[0m \u001b[0mself\u001b[0m\u001b[1;33m.\u001b[0m\u001b[0mfigure\u001b[0m\u001b[1;33m.\u001b[0m\u001b[0mbatch_update\u001b[0m\u001b[1;33m(\u001b[0m\u001b[1;33m)\u001b[0m\u001b[1;33m:\u001b[0m\u001b[1;33m\u001b[0m\u001b[1;33m\u001b[0m\u001b[0m\n\u001b[0;32m   3696\u001b[0m                 \u001b[0mBaseFigure\u001b[0m\u001b[1;33m.\u001b[0m\u001b[0m_perform_update\u001b[0m\u001b[1;33m(\u001b[0m\u001b[0mself\u001b[0m\u001b[1;33m,\u001b[0m \u001b[0mdict1\u001b[0m\u001b[1;33m,\u001b[0m \u001b[0moverwrite\u001b[0m\u001b[1;33m=\u001b[0m\u001b[0moverwrite\u001b[0m\u001b[1;33m)\u001b[0m\u001b[1;33m\u001b[0m\u001b[1;33m\u001b[0m\u001b[0m\n\u001b[1;32m-> 3697\u001b[1;33m                 \u001b[0mBaseFigure\u001b[0m\u001b[1;33m.\u001b[0m\u001b[0m_perform_update\u001b[0m\u001b[1;33m(\u001b[0m\u001b[0mself\u001b[0m\u001b[1;33m,\u001b[0m \u001b[0mkwargs\u001b[0m\u001b[1;33m,\u001b[0m \u001b[0moverwrite\u001b[0m\u001b[1;33m=\u001b[0m\u001b[0moverwrite\u001b[0m\u001b[1;33m)\u001b[0m\u001b[1;33m\u001b[0m\u001b[1;33m\u001b[0m\u001b[0m\n\u001b[0m\u001b[0;32m   3698\u001b[0m         \u001b[1;32melse\u001b[0m\u001b[1;33m:\u001b[0m\u001b[1;33m\u001b[0m\u001b[1;33m\u001b[0m\u001b[0m\n\u001b[0;32m   3699\u001b[0m             \u001b[0mBaseFigure\u001b[0m\u001b[1;33m.\u001b[0m\u001b[0m_perform_update\u001b[0m\u001b[1;33m(\u001b[0m\u001b[0mself\u001b[0m\u001b[1;33m,\u001b[0m \u001b[0mdict1\u001b[0m\u001b[1;33m,\u001b[0m \u001b[0moverwrite\u001b[0m\u001b[1;33m=\u001b[0m\u001b[0moverwrite\u001b[0m\u001b[1;33m)\u001b[0m\u001b[1;33m\u001b[0m\u001b[1;33m\u001b[0m\u001b[0m\n",
      "\u001b[1;32m~\\anaconda3\\lib\\site-packages\\plotly\\basedatatypes.py\u001b[0m in \u001b[0;36m_perform_update\u001b[1;34m(plotly_obj, update_obj, overwrite)\u001b[0m\n\u001b[0;32m   2873\u001b[0m             \u001b[0minvalid_props\u001b[0m \u001b[1;33m=\u001b[0m \u001b[1;33m[\u001b[0m\u001b[0mk\u001b[0m \u001b[1;32mfor\u001b[0m \u001b[0mk\u001b[0m \u001b[1;32min\u001b[0m \u001b[0mupdate_obj\u001b[0m \u001b[1;32mif\u001b[0m \u001b[0mk\u001b[0m \u001b[1;32mnot\u001b[0m \u001b[1;32min\u001b[0m \u001b[0mplotly_obj\u001b[0m\u001b[1;33m]\u001b[0m\u001b[1;33m\u001b[0m\u001b[1;33m\u001b[0m\u001b[0m\n\u001b[0;32m   2874\u001b[0m \u001b[1;33m\u001b[0m\u001b[0m\n\u001b[1;32m-> 2875\u001b[1;33m             \u001b[0mplotly_obj\u001b[0m\u001b[1;33m.\u001b[0m\u001b[0m_raise_on_invalid_property_error\u001b[0m\u001b[1;33m(\u001b[0m\u001b[1;33m*\u001b[0m\u001b[0minvalid_props\u001b[0m\u001b[1;33m)\u001b[0m\u001b[1;33m\u001b[0m\u001b[1;33m\u001b[0m\u001b[0m\n\u001b[0m\u001b[0;32m   2876\u001b[0m \u001b[1;33m\u001b[0m\u001b[0m\n\u001b[0;32m   2877\u001b[0m             \u001b[1;31m# Convert update_obj to dict\u001b[0m\u001b[1;33m\u001b[0m\u001b[1;33m\u001b[0m\u001b[1;33m\u001b[0m\u001b[0m\n",
      "\u001b[1;32m~\\anaconda3\\lib\\site-packages\\plotly\\basedatatypes.py\u001b[0m in \u001b[0;36m_raise_on_invalid_property_error\u001b[1;34m(self, *args)\u001b[0m\n\u001b[0;32m   3664\u001b[0m                     \u001b[0mfull_obj_name\u001b[0m\u001b[1;33m=\u001b[0m\u001b[0mfull_obj_name\u001b[0m\u001b[1;33m,\u001b[0m\u001b[1;33m\u001b[0m\u001b[1;33m\u001b[0m\u001b[0m\n\u001b[0;32m   3665\u001b[0m                     \u001b[0minvalid_str\u001b[0m\u001b[1;33m=\u001b[0m\u001b[0minvalid_str\u001b[0m\u001b[1;33m,\u001b[0m\u001b[1;33m\u001b[0m\u001b[1;33m\u001b[0m\u001b[0m\n\u001b[1;32m-> 3666\u001b[1;33m                     \u001b[0mprop_descriptions\u001b[0m\u001b[1;33m=\u001b[0m\u001b[0mself\u001b[0m\u001b[1;33m.\u001b[0m\u001b[0m_prop_descriptions\u001b[0m\u001b[1;33m,\u001b[0m\u001b[1;33m\u001b[0m\u001b[1;33m\u001b[0m\u001b[0m\n\u001b[0m\u001b[0;32m   3667\u001b[0m                 )\n\u001b[0;32m   3668\u001b[0m             )\n",
      "\u001b[1;31mValueError\u001b[0m: Invalid property specified for object of type plotly.graph_objs.layout.XAxis: 'ticklabelmode'\n\n    Valid properties:\n        anchor\n            If set to an opposite-letter axis id (e.g. `x2`, `y`),\n            this axis is bound to the corresponding opposite-letter\n            axis. If set to \"free\", this axis' position is\n            determined by `position`.\n        automargin\n            Determines whether long tick labels automatically grow\n            the figure margins.\n        autorange\n            Determines whether or not the range of this axis is\n            computed in relation to the input data. See `rangemode`\n            for more info. If `range` is provided, then `autorange`\n            is set to False.\n        calendar\n            Sets the calendar system to use for `range` and `tick0`\n            if this is a date axis. This does not set the calendar\n            for interpreting data on this axis, that's specified in\n            the trace or via the global `layout.calendar`\n        categoryarray\n            Sets the order in which categories on this axis appear.\n            Only has an effect if `categoryorder` is set to\n            \"array\". Used with `categoryorder`.\n        categoryarraysrc\n            Sets the source reference on Chart Studio Cloud for\n            categoryarray .\n        categoryorder\n            Specifies the ordering logic for the case of\n            categorical variables. By default, plotly uses \"trace\",\n            which specifies the order that is present in the data\n            supplied. Set `categoryorder` to *category ascending*\n            or *category descending* if order should be determined\n            by the alphanumerical order of the category names. Set\n            `categoryorder` to \"array\" to derive the ordering from\n            the attribute `categoryarray`. If a category is not\n            found in the `categoryarray` array, the sorting\n            behavior for that attribute will be identical to the\n            \"trace\" mode. The unspecified categories will follow\n            the categories in `categoryarray`. Set `categoryorder`\n            to *total ascending* or *total descending* if order\n            should be determined by the numerical order of the\n            values. Similarly, the order can be determined by the\n            min, max, sum, mean or median of all the values.\n        color\n            Sets default for all colors associated with this axis\n            all at once: line, font, tick, and grid colors. Grid\n            color is lightened by blending this with the plot\n            background Individual pieces can override this.\n        constrain\n            If this axis needs to be compressed (either due to its\n            own `scaleanchor` and `scaleratio` or those of the\n            other axis), determines how that happens: by increasing\n            the \"range\" (default), or by decreasing the \"domain\".\n        constraintoward\n            If this axis needs to be compressed (either due to its\n            own `scaleanchor` and `scaleratio` or those of the\n            other axis), determines which direction we push the\n            originally specified plot area. Options are \"left\",\n            \"center\" (default), and \"right\" for x axes, and \"top\",\n            \"middle\" (default), and \"bottom\" for y axes.\n        dividercolor\n            Sets the color of the dividers Only has an effect on\n            \"multicategory\" axes.\n        dividerwidth\n            Sets the width (in px) of the dividers Only has an\n            effect on \"multicategory\" axes.\n        domain\n            Sets the domain of this axis (in plot fraction).\n        dtick\n            Sets the step in-between ticks on this axis. Use with\n            `tick0`. Must be a positive number, or special strings\n            available to \"log\" and \"date\" axes. If the axis `type`\n            is \"log\", then ticks are set every 10^(n*dtick) where n\n            is the tick number. For example, to set a tick mark at\n            1, 10, 100, 1000, ... set dtick to 1. To set tick marks\n            at 1, 100, 10000, ... set dtick to 2. To set tick marks\n            at 1, 5, 25, 125, 625, 3125, ... set dtick to\n            log_10(5), or 0.69897000433. \"log\" has several special\n            values; \"L<f>\", where `f` is a positive number, gives\n            ticks linearly spaced in value (but not position). For\n            example `tick0` = 0.1, `dtick` = \"L0.5\" will put ticks\n            at 0.1, 0.6, 1.1, 1.6 etc. To show powers of 10 plus\n            small digits between, use \"D1\" (all digits) or \"D2\"\n            (only 2 and 5). `tick0` is ignored for \"D1\" and \"D2\".\n            If the axis `type` is \"date\", then you must convert the\n            time to milliseconds. For example, to set the interval\n            between ticks to one day, set `dtick` to 86400000.0.\n            \"date\" also has special values \"M<n>\" gives ticks\n            spaced by a number of months. `n` must be a positive\n            integer. To set ticks on the 15th of every third month,\n            set `tick0` to \"2000-01-15\" and `dtick` to \"M3\". To set\n            ticks every 4 years, set `dtick` to \"M48\"\n        exponentformat\n            Determines a formatting rule for the tick exponents.\n            For example, consider the number 1,000,000,000. If\n            \"none\", it appears as 1,000,000,000. If \"e\", 1e+9. If\n            \"E\", 1E+9. If \"power\", 1x10^9 (with 9 in a super\n            script). If \"SI\", 1G. If \"B\", 1B.\n        fixedrange\n            Determines whether or not this axis is zoom-able. If\n            true, then zoom is disabled.\n        gridcolor\n            Sets the color of the grid lines.\n        gridwidth\n            Sets the width (in px) of the grid lines.\n        hoverformat\n            Sets the hover text formatting rule using d3 formatting\n            mini-languages which are very similar to those in\n            Python. For numbers, see:\n            https://github.com/d3/d3-3.x-api-\n            reference/blob/master/Formatting.md#d3_format And for\n            dates see: https://github.com/d3/d3-3.x-api-\n            reference/blob/master/Time-Formatting.md#format We add\n            one item to d3's date formatter: \"%{n}f\" for fractional\n            seconds with n digits. For example, *2016-10-13\n            09:15:23.456* with tickformat \"%H~%M~%S.%2f\" would\n            display \"09~15~23.46\"\n        layer\n            Sets the layer on which this axis is displayed. If\n            *above traces*, this axis is displayed above all the\n            subplot's traces If *below traces*, this axis is\n            displayed below all the subplot's traces, but above the\n            grid lines. Useful when used together with scatter-like\n            traces with `cliponaxis` set to False to show markers\n            and/or text nodes above this axis.\n        linecolor\n            Sets the axis line color.\n        linewidth\n            Sets the width (in px) of the axis line.\n        matches\n            If set to another axis id (e.g. `x2`, `y`), the range\n            of this axis will match the range of the corresponding\n            axis in data-coordinates space. Moreover, matching axes\n            share auto-range values, category lists and histogram\n            auto-bins. Note that setting axes simultaneously in\n            both a `scaleanchor` and a `matches` constraint is\n            currently forbidden. Moreover, note that matching axes\n            must have the same `type`.\n        mirror\n            Determines if the axis lines or/and ticks are mirrored\n            to the opposite side of the plotting area. If True, the\n            axis lines are mirrored. If \"ticks\", the axis lines and\n            ticks are mirrored. If False, mirroring is disable. If\n            \"all\", axis lines are mirrored on all shared-axes\n            subplots. If \"allticks\", axis lines and ticks are\n            mirrored on all shared-axes subplots.\n        nticks\n            Specifies the maximum number of ticks for the\n            particular axis. The actual number of ticks will be\n            chosen automatically to be less than or equal to\n            `nticks`. Has an effect only if `tickmode` is set to\n            \"auto\".\n        overlaying\n            If set a same-letter axis id, this axis is overlaid on\n            top of the corresponding same-letter axis, with traces\n            and axes visible for both axes. If False, this axis\n            does not overlay any same-letter axes. In this case,\n            for axes with overlapping domains only the highest-\n            numbered axis will be visible.\n        position\n            Sets the position of this axis in the plotting space\n            (in normalized coordinates). Only has an effect if\n            `anchor` is set to \"free\".\n        range\n            Sets the range of this axis. If the axis `type` is\n            \"log\", then you must take the log of your desired range\n            (e.g. to set the range from 1 to 100, set the range\n            from 0 to 2). If the axis `type` is \"date\", it should\n            be date strings, like date data, though Date objects\n            and unix milliseconds will be accepted and converted to\n            strings. If the axis `type` is \"category\", it should be\n            numbers, using the scale where each category is\n            assigned a serial number from zero in the order it\n            appears.\n        rangebreaks\n            A tuple of\n            :class:`plotly.graph_objects.layout.xaxis.Rangebreak`\n            instances or dicts with compatible properties\n        rangebreakdefaults\n            When used in a template (as\n            layout.template.layout.xaxis.rangebreakdefaults), sets\n            the default property values to use for elements of\n            layout.xaxis.rangebreaks\n        rangemode\n            If \"normal\", the range is computed in relation to the\n            extrema of the input data. If *tozero*`, the range\n            extends to 0, regardless of the input data If\n            \"nonnegative\", the range is non-negative, regardless of\n            the input data. Applies only to linear axes.\n        rangeselector\n            :class:`plotly.graph_objects.layout.xaxis.Rangeselector\n            ` instance or dict with compatible properties\n        rangeslider\n            :class:`plotly.graph_objects.layout.xaxis.Rangeslider`\n            instance or dict with compatible properties\n        scaleanchor\n            If set to another axis id (e.g. `x2`, `y`), the range\n            of this axis changes together with the range of the\n            corresponding axis such that the scale of pixels per\n            unit is in a constant ratio. Both axes are still\n            zoomable, but when you zoom one, the other will zoom\n            the same amount, keeping a fixed midpoint. `constrain`\n            and `constraintoward` determine how we enforce the\n            constraint. You can chain these, ie `yaxis:\n            {scaleanchor: *x*}, xaxis2: {scaleanchor: *y*}` but you\n            can only link axes of the same `type`. The linked axis\n            can have the opposite letter (to constrain the aspect\n            ratio) or the same letter (to match scales across\n            subplots). Loops (`yaxis: {scaleanchor: *x*}, xaxis:\n            {scaleanchor: *y*}` or longer) are redundant and the\n            last constraint encountered will be ignored to avoid\n            possible inconsistent constraints via `scaleratio`.\n            Note that setting axes simultaneously in both a\n            `scaleanchor` and a `matches` constraint is currently\n            forbidden.\n        scaleratio\n            If this axis is linked to another by `scaleanchor`,\n            this determines the pixel to unit scale ratio. For\n            example, if this value is 10, then every unit on this\n            axis spans 10 times the number of pixels as a unit on\n            the linked axis. Use this for example to create an\n            elevation profile where the vertical scale is\n            exaggerated a fixed amount with respect to the\n            horizontal.\n        separatethousands\n            If \"true\", even 4-digit integers are separated\n        showdividers\n            Determines whether or not a dividers are drawn between\n            the category levels of this axis. Only has an effect on\n            \"multicategory\" axes.\n        showexponent\n            If \"all\", all exponents are shown besides their\n            significands. If \"first\", only the exponent of the\n            first tick is shown. If \"last\", only the exponent of\n            the last tick is shown. If \"none\", no exponents appear.\n        showgrid\n            Determines whether or not grid lines are drawn. If\n            True, the grid lines are drawn at every tick mark.\n        showline\n            Determines whether or not a line bounding this axis is\n            drawn.\n        showspikes\n            Determines whether or not spikes (aka droplines) are\n            drawn for this axis. Note: This only takes affect when\n            hovermode = closest\n        showticklabels\n            Determines whether or not the tick labels are drawn.\n        showtickprefix\n            If \"all\", all tick labels are displayed with a prefix.\n            If \"first\", only the first tick is displayed with a\n            prefix. If \"last\", only the last tick is displayed with\n            a suffix. If \"none\", tick prefixes are hidden.\n        showticksuffix\n            Same as `showtickprefix` but for tick suffixes.\n        side\n            Determines whether a x (y) axis is positioned at the\n            \"bottom\" (\"left\") or \"top\" (\"right\") of the plotting\n            area.\n        spikecolor\n            Sets the spike color. If undefined, will use the series\n            color\n        spikedash\n            Sets the dash style of lines. Set to a dash type string\n            (\"solid\", \"dot\", \"dash\", \"longdash\", \"dashdot\", or\n            \"longdashdot\") or a dash length list in px (eg\n            \"5px,10px,2px,2px\").\n        spikemode\n            Determines the drawing mode for the spike line If\n            \"toaxis\", the line is drawn from the data point to the\n            axis the  series is plotted on. If \"across\", the line\n            is drawn across the entire plot area, and supercedes\n            \"toaxis\". If \"marker\", then a marker dot is drawn on\n            the axis the series is plotted on\n        spikesnap\n            Determines whether spikelines are stuck to the cursor\n            or to the closest datapoints.\n        spikethickness\n            Sets the width (in px) of the zero line.\n        tick0\n            Sets the placement of the first tick on this axis. Use\n            with `dtick`. If the axis `type` is \"log\", then you\n            must take the log of your starting tick (e.g. to set\n            the starting tick to 100, set the `tick0` to 2) except\n            when `dtick`=*L<f>* (see `dtick` for more info). If the\n            axis `type` is \"date\", it should be a date string, like\n            date data. If the axis `type` is \"category\", it should\n            be a number, using the scale where each category is\n            assigned a serial number from zero in the order it\n            appears.\n        tickangle\n            Sets the angle of the tick labels with respect to the\n            horizontal. For example, a `tickangle` of -90 draws the\n            tick labels vertically.\n        tickcolor\n            Sets the tick color.\n        tickfont\n            Sets the tick font.\n        tickformat\n            Sets the tick label formatting rule using d3 formatting\n            mini-languages which are very similar to those in\n            Python. For numbers, see:\n            https://github.com/d3/d3-3.x-api-\n            reference/blob/master/Formatting.md#d3_format And for\n            dates see: https://github.com/d3/d3-3.x-api-\n            reference/blob/master/Time-Formatting.md#format We add\n            one item to d3's date formatter: \"%{n}f\" for fractional\n            seconds with n digits. For example, *2016-10-13\n            09:15:23.456* with tickformat \"%H~%M~%S.%2f\" would\n            display \"09~15~23.46\"\n        tickformatstops\n            A tuple of :class:`plotly.graph_objects.layout.xaxis.Ti\n            ckformatstop` instances or dicts with compatible\n            properties\n        tickformatstopdefaults\n            When used in a template (as\n            layout.template.layout.xaxis.tickformatstopdefaults),\n            sets the default property values to use for elements of\n            layout.xaxis.tickformatstops\n        ticklen\n            Sets the tick length (in px).\n        tickmode\n            Sets the tick mode for this axis. If \"auto\", the number\n            of ticks is set via `nticks`. If \"linear\", the\n            placement of the ticks is determined by a starting\n            position `tick0` and a tick step `dtick` (\"linear\" is\n            the default value if `tick0` and `dtick` are provided).\n            If \"array\", the placement of the ticks is set via\n            `tickvals` and the tick text is `ticktext`. (\"array\" is\n            the default value if `tickvals` is provided).\n        tickprefix\n            Sets a tick label prefix.\n        ticks\n            Determines whether ticks are drawn or not. If \"\", this\n            axis' ticks are not drawn. If \"outside\" (\"inside\"),\n            this axis' are drawn outside (inside) the axis lines.\n        tickson\n            Determines where ticks and grid lines are drawn with\n            respect to their corresponding tick labels. Only has an\n            effect for axes of `type` \"category\" or\n            \"multicategory\". When set to \"boundaries\", ticks and\n            grid lines are drawn half a category to the left/bottom\n            of labels.\n        ticksuffix\n            Sets a tick label suffix.\n        ticktext\n            Sets the text displayed at the ticks position via\n            `tickvals`. Only has an effect if `tickmode` is set to\n            \"array\". Used with `tickvals`.\n        ticktextsrc\n            Sets the source reference on Chart Studio Cloud for\n            ticktext .\n        tickvals\n            Sets the values at which ticks on this axis appear.\n            Only has an effect if `tickmode` is set to \"array\".\n            Used with `ticktext`.\n        tickvalssrc\n            Sets the source reference on Chart Studio Cloud for\n            tickvals .\n        tickwidth\n            Sets the tick width (in px).\n        title\n            :class:`plotly.graph_objects.layout.xaxis.Title`\n            instance or dict with compatible properties\n        titlefont\n            Deprecated: Please use layout.xaxis.title.font instead.\n            Sets this axis' title font. Note that the title's font\n            used to be customized by the now deprecated `titlefont`\n            attribute.\n        type\n            Sets the axis type. By default, plotly attempts to\n            determined the axis type by looking into the data of\n            the traces that referenced the axis in question.\n        uirevision\n            Controls persistence of user-driven changes in axis\n            `range`, `autorange`, and `title` if in `editable:\n            true` configuration. Defaults to `layout.uirevision`.\n        visible\n            A single toggle to hide the axis while preserving\n            interaction like dragging. Default is true when a\n            cheater plot is present on the axis, otherwise false\n        zeroline\n            Determines whether or not a line is drawn at along the\n            0 value of this axis. If True, the zero line is drawn\n            on top of the grid lines.\n        zerolinecolor\n            Sets the line color of the zero line.\n        zerolinewidth\n            Sets the width (in px) of the zero line.\n        "
     ]
    }
   ],
   "source": [
    "fig = px.histogram(time_series_df, x=\"Year\", y=\"Orders\", histfunc=\"sum\", title=\"Orders By Year\",color=time_series_df['Year'])\n",
    "fig.update_traces(xbins_size=0)\n",
    "fig.update_xaxes(showgrid=True, ticklabelmode=\"period\", dtick=\"M1\", tickformat=\"Y\")\n",
    "fig.update_layout(bargap=0.5)\n",
    "fig.show()"
   ]
  },
  {
   "cell_type": "markdown",
   "metadata": {},
   "source": [
    "### Month Plot"
   ]
  },
  {
   "cell_type": "code",
   "execution_count": 82,
   "metadata": {},
   "outputs": [
    {
     "ename": "ValueError",
     "evalue": "Invalid property specified for object of type plotly.graph_objs.layout.XAxis: 'ticklabelmode'\n\n    Valid properties:\n        anchor\n            If set to an opposite-letter axis id (e.g. `x2`, `y`),\n            this axis is bound to the corresponding opposite-letter\n            axis. If set to \"free\", this axis' position is\n            determined by `position`.\n        automargin\n            Determines whether long tick labels automatically grow\n            the figure margins.\n        autorange\n            Determines whether or not the range of this axis is\n            computed in relation to the input data. See `rangemode`\n            for more info. If `range` is provided, then `autorange`\n            is set to False.\n        calendar\n            Sets the calendar system to use for `range` and `tick0`\n            if this is a date axis. This does not set the calendar\n            for interpreting data on this axis, that's specified in\n            the trace or via the global `layout.calendar`\n        categoryarray\n            Sets the order in which categories on this axis appear.\n            Only has an effect if `categoryorder` is set to\n            \"array\". Used with `categoryorder`.\n        categoryarraysrc\n            Sets the source reference on Chart Studio Cloud for\n            categoryarray .\n        categoryorder\n            Specifies the ordering logic for the case of\n            categorical variables. By default, plotly uses \"trace\",\n            which specifies the order that is present in the data\n            supplied. Set `categoryorder` to *category ascending*\n            or *category descending* if order should be determined\n            by the alphanumerical order of the category names. Set\n            `categoryorder` to \"array\" to derive the ordering from\n            the attribute `categoryarray`. If a category is not\n            found in the `categoryarray` array, the sorting\n            behavior for that attribute will be identical to the\n            \"trace\" mode. The unspecified categories will follow\n            the categories in `categoryarray`. Set `categoryorder`\n            to *total ascending* or *total descending* if order\n            should be determined by the numerical order of the\n            values. Similarly, the order can be determined by the\n            min, max, sum, mean or median of all the values.\n        color\n            Sets default for all colors associated with this axis\n            all at once: line, font, tick, and grid colors. Grid\n            color is lightened by blending this with the plot\n            background Individual pieces can override this.\n        constrain\n            If this axis needs to be compressed (either due to its\n            own `scaleanchor` and `scaleratio` or those of the\n            other axis), determines how that happens: by increasing\n            the \"range\" (default), or by decreasing the \"domain\".\n        constraintoward\n            If this axis needs to be compressed (either due to its\n            own `scaleanchor` and `scaleratio` or those of the\n            other axis), determines which direction we push the\n            originally specified plot area. Options are \"left\",\n            \"center\" (default), and \"right\" for x axes, and \"top\",\n            \"middle\" (default), and \"bottom\" for y axes.\n        dividercolor\n            Sets the color of the dividers Only has an effect on\n            \"multicategory\" axes.\n        dividerwidth\n            Sets the width (in px) of the dividers Only has an\n            effect on \"multicategory\" axes.\n        domain\n            Sets the domain of this axis (in plot fraction).\n        dtick\n            Sets the step in-between ticks on this axis. Use with\n            `tick0`. Must be a positive number, or special strings\n            available to \"log\" and \"date\" axes. If the axis `type`\n            is \"log\", then ticks are set every 10^(n*dtick) where n\n            is the tick number. For example, to set a tick mark at\n            1, 10, 100, 1000, ... set dtick to 1. To set tick marks\n            at 1, 100, 10000, ... set dtick to 2. To set tick marks\n            at 1, 5, 25, 125, 625, 3125, ... set dtick to\n            log_10(5), or 0.69897000433. \"log\" has several special\n            values; \"L<f>\", where `f` is a positive number, gives\n            ticks linearly spaced in value (but not position). For\n            example `tick0` = 0.1, `dtick` = \"L0.5\" will put ticks\n            at 0.1, 0.6, 1.1, 1.6 etc. To show powers of 10 plus\n            small digits between, use \"D1\" (all digits) or \"D2\"\n            (only 2 and 5). `tick0` is ignored for \"D1\" and \"D2\".\n            If the axis `type` is \"date\", then you must convert the\n            time to milliseconds. For example, to set the interval\n            between ticks to one day, set `dtick` to 86400000.0.\n            \"date\" also has special values \"M<n>\" gives ticks\n            spaced by a number of months. `n` must be a positive\n            integer. To set ticks on the 15th of every third month,\n            set `tick0` to \"2000-01-15\" and `dtick` to \"M3\". To set\n            ticks every 4 years, set `dtick` to \"M48\"\n        exponentformat\n            Determines a formatting rule for the tick exponents.\n            For example, consider the number 1,000,000,000. If\n            \"none\", it appears as 1,000,000,000. If \"e\", 1e+9. If\n            \"E\", 1E+9. If \"power\", 1x10^9 (with 9 in a super\n            script). If \"SI\", 1G. If \"B\", 1B.\n        fixedrange\n            Determines whether or not this axis is zoom-able. If\n            true, then zoom is disabled.\n        gridcolor\n            Sets the color of the grid lines.\n        gridwidth\n            Sets the width (in px) of the grid lines.\n        hoverformat\n            Sets the hover text formatting rule using d3 formatting\n            mini-languages which are very similar to those in\n            Python. For numbers, see:\n            https://github.com/d3/d3-3.x-api-\n            reference/blob/master/Formatting.md#d3_format And for\n            dates see: https://github.com/d3/d3-3.x-api-\n            reference/blob/master/Time-Formatting.md#format We add\n            one item to d3's date formatter: \"%{n}f\" for fractional\n            seconds with n digits. For example, *2016-10-13\n            09:15:23.456* with tickformat \"%H~%M~%S.%2f\" would\n            display \"09~15~23.46\"\n        layer\n            Sets the layer on which this axis is displayed. If\n            *above traces*, this axis is displayed above all the\n            subplot's traces If *below traces*, this axis is\n            displayed below all the subplot's traces, but above the\n            grid lines. Useful when used together with scatter-like\n            traces with `cliponaxis` set to False to show markers\n            and/or text nodes above this axis.\n        linecolor\n            Sets the axis line color.\n        linewidth\n            Sets the width (in px) of the axis line.\n        matches\n            If set to another axis id (e.g. `x2`, `y`), the range\n            of this axis will match the range of the corresponding\n            axis in data-coordinates space. Moreover, matching axes\n            share auto-range values, category lists and histogram\n            auto-bins. Note that setting axes simultaneously in\n            both a `scaleanchor` and a `matches` constraint is\n            currently forbidden. Moreover, note that matching axes\n            must have the same `type`.\n        mirror\n            Determines if the axis lines or/and ticks are mirrored\n            to the opposite side of the plotting area. If True, the\n            axis lines are mirrored. If \"ticks\", the axis lines and\n            ticks are mirrored. If False, mirroring is disable. If\n            \"all\", axis lines are mirrored on all shared-axes\n            subplots. If \"allticks\", axis lines and ticks are\n            mirrored on all shared-axes subplots.\n        nticks\n            Specifies the maximum number of ticks for the\n            particular axis. The actual number of ticks will be\n            chosen automatically to be less than or equal to\n            `nticks`. Has an effect only if `tickmode` is set to\n            \"auto\".\n        overlaying\n            If set a same-letter axis id, this axis is overlaid on\n            top of the corresponding same-letter axis, with traces\n            and axes visible for both axes. If False, this axis\n            does not overlay any same-letter axes. In this case,\n            for axes with overlapping domains only the highest-\n            numbered axis will be visible.\n        position\n            Sets the position of this axis in the plotting space\n            (in normalized coordinates). Only has an effect if\n            `anchor` is set to \"free\".\n        range\n            Sets the range of this axis. If the axis `type` is\n            \"log\", then you must take the log of your desired range\n            (e.g. to set the range from 1 to 100, set the range\n            from 0 to 2). If the axis `type` is \"date\", it should\n            be date strings, like date data, though Date objects\n            and unix milliseconds will be accepted and converted to\n            strings. If the axis `type` is \"category\", it should be\n            numbers, using the scale where each category is\n            assigned a serial number from zero in the order it\n            appears.\n        rangebreaks\n            A tuple of\n            :class:`plotly.graph_objects.layout.xaxis.Rangebreak`\n            instances or dicts with compatible properties\n        rangebreakdefaults\n            When used in a template (as\n            layout.template.layout.xaxis.rangebreakdefaults), sets\n            the default property values to use for elements of\n            layout.xaxis.rangebreaks\n        rangemode\n            If \"normal\", the range is computed in relation to the\n            extrema of the input data. If *tozero*`, the range\n            extends to 0, regardless of the input data If\n            \"nonnegative\", the range is non-negative, regardless of\n            the input data. Applies only to linear axes.\n        rangeselector\n            :class:`plotly.graph_objects.layout.xaxis.Rangeselector\n            ` instance or dict with compatible properties\n        rangeslider\n            :class:`plotly.graph_objects.layout.xaxis.Rangeslider`\n            instance or dict with compatible properties\n        scaleanchor\n            If set to another axis id (e.g. `x2`, `y`), the range\n            of this axis changes together with the range of the\n            corresponding axis such that the scale of pixels per\n            unit is in a constant ratio. Both axes are still\n            zoomable, but when you zoom one, the other will zoom\n            the same amount, keeping a fixed midpoint. `constrain`\n            and `constraintoward` determine how we enforce the\n            constraint. You can chain these, ie `yaxis:\n            {scaleanchor: *x*}, xaxis2: {scaleanchor: *y*}` but you\n            can only link axes of the same `type`. The linked axis\n            can have the opposite letter (to constrain the aspect\n            ratio) or the same letter (to match scales across\n            subplots). Loops (`yaxis: {scaleanchor: *x*}, xaxis:\n            {scaleanchor: *y*}` or longer) are redundant and the\n            last constraint encountered will be ignored to avoid\n            possible inconsistent constraints via `scaleratio`.\n            Note that setting axes simultaneously in both a\n            `scaleanchor` and a `matches` constraint is currently\n            forbidden.\n        scaleratio\n            If this axis is linked to another by `scaleanchor`,\n            this determines the pixel to unit scale ratio. For\n            example, if this value is 10, then every unit on this\n            axis spans 10 times the number of pixels as a unit on\n            the linked axis. Use this for example to create an\n            elevation profile where the vertical scale is\n            exaggerated a fixed amount with respect to the\n            horizontal.\n        separatethousands\n            If \"true\", even 4-digit integers are separated\n        showdividers\n            Determines whether or not a dividers are drawn between\n            the category levels of this axis. Only has an effect on\n            \"multicategory\" axes.\n        showexponent\n            If \"all\", all exponents are shown besides their\n            significands. If \"first\", only the exponent of the\n            first tick is shown. If \"last\", only the exponent of\n            the last tick is shown. If \"none\", no exponents appear.\n        showgrid\n            Determines whether or not grid lines are drawn. If\n            True, the grid lines are drawn at every tick mark.\n        showline\n            Determines whether or not a line bounding this axis is\n            drawn.\n        showspikes\n            Determines whether or not spikes (aka droplines) are\n            drawn for this axis. Note: This only takes affect when\n            hovermode = closest\n        showticklabels\n            Determines whether or not the tick labels are drawn.\n        showtickprefix\n            If \"all\", all tick labels are displayed with a prefix.\n            If \"first\", only the first tick is displayed with a\n            prefix. If \"last\", only the last tick is displayed with\n            a suffix. If \"none\", tick prefixes are hidden.\n        showticksuffix\n            Same as `showtickprefix` but for tick suffixes.\n        side\n            Determines whether a x (y) axis is positioned at the\n            \"bottom\" (\"left\") or \"top\" (\"right\") of the plotting\n            area.\n        spikecolor\n            Sets the spike color. If undefined, will use the series\n            color\n        spikedash\n            Sets the dash style of lines. Set to a dash type string\n            (\"solid\", \"dot\", \"dash\", \"longdash\", \"dashdot\", or\n            \"longdashdot\") or a dash length list in px (eg\n            \"5px,10px,2px,2px\").\n        spikemode\n            Determines the drawing mode for the spike line If\n            \"toaxis\", the line is drawn from the data point to the\n            axis the  series is plotted on. If \"across\", the line\n            is drawn across the entire plot area, and supercedes\n            \"toaxis\". If \"marker\", then a marker dot is drawn on\n            the axis the series is plotted on\n        spikesnap\n            Determines whether spikelines are stuck to the cursor\n            or to the closest datapoints.\n        spikethickness\n            Sets the width (in px) of the zero line.\n        tick0\n            Sets the placement of the first tick on this axis. Use\n            with `dtick`. If the axis `type` is \"log\", then you\n            must take the log of your starting tick (e.g. to set\n            the starting tick to 100, set the `tick0` to 2) except\n            when `dtick`=*L<f>* (see `dtick` for more info). If the\n            axis `type` is \"date\", it should be a date string, like\n            date data. If the axis `type` is \"category\", it should\n            be a number, using the scale where each category is\n            assigned a serial number from zero in the order it\n            appears.\n        tickangle\n            Sets the angle of the tick labels with respect to the\n            horizontal. For example, a `tickangle` of -90 draws the\n            tick labels vertically.\n        tickcolor\n            Sets the tick color.\n        tickfont\n            Sets the tick font.\n        tickformat\n            Sets the tick label formatting rule using d3 formatting\n            mini-languages which are very similar to those in\n            Python. For numbers, see:\n            https://github.com/d3/d3-3.x-api-\n            reference/blob/master/Formatting.md#d3_format And for\n            dates see: https://github.com/d3/d3-3.x-api-\n            reference/blob/master/Time-Formatting.md#format We add\n            one item to d3's date formatter: \"%{n}f\" for fractional\n            seconds with n digits. For example, *2016-10-13\n            09:15:23.456* with tickformat \"%H~%M~%S.%2f\" would\n            display \"09~15~23.46\"\n        tickformatstops\n            A tuple of :class:`plotly.graph_objects.layout.xaxis.Ti\n            ckformatstop` instances or dicts with compatible\n            properties\n        tickformatstopdefaults\n            When used in a template (as\n            layout.template.layout.xaxis.tickformatstopdefaults),\n            sets the default property values to use for elements of\n            layout.xaxis.tickformatstops\n        ticklen\n            Sets the tick length (in px).\n        tickmode\n            Sets the tick mode for this axis. If \"auto\", the number\n            of ticks is set via `nticks`. If \"linear\", the\n            placement of the ticks is determined by a starting\n            position `tick0` and a tick step `dtick` (\"linear\" is\n            the default value if `tick0` and `dtick` are provided).\n            If \"array\", the placement of the ticks is set via\n            `tickvals` and the tick text is `ticktext`. (\"array\" is\n            the default value if `tickvals` is provided).\n        tickprefix\n            Sets a tick label prefix.\n        ticks\n            Determines whether ticks are drawn or not. If \"\", this\n            axis' ticks are not drawn. If \"outside\" (\"inside\"),\n            this axis' are drawn outside (inside) the axis lines.\n        tickson\n            Determines where ticks and grid lines are drawn with\n            respect to their corresponding tick labels. Only has an\n            effect for axes of `type` \"category\" or\n            \"multicategory\". When set to \"boundaries\", ticks and\n            grid lines are drawn half a category to the left/bottom\n            of labels.\n        ticksuffix\n            Sets a tick label suffix.\n        ticktext\n            Sets the text displayed at the ticks position via\n            `tickvals`. Only has an effect if `tickmode` is set to\n            \"array\". Used with `tickvals`.\n        ticktextsrc\n            Sets the source reference on Chart Studio Cloud for\n            ticktext .\n        tickvals\n            Sets the values at which ticks on this axis appear.\n            Only has an effect if `tickmode` is set to \"array\".\n            Used with `ticktext`.\n        tickvalssrc\n            Sets the source reference on Chart Studio Cloud for\n            tickvals .\n        tickwidth\n            Sets the tick width (in px).\n        title\n            :class:`plotly.graph_objects.layout.xaxis.Title`\n            instance or dict with compatible properties\n        titlefont\n            Deprecated: Please use layout.xaxis.title.font instead.\n            Sets this axis' title font. Note that the title's font\n            used to be customized by the now deprecated `titlefont`\n            attribute.\n        type\n            Sets the axis type. By default, plotly attempts to\n            determined the axis type by looking into the data of\n            the traces that referenced the axis in question.\n        uirevision\n            Controls persistence of user-driven changes in axis\n            `range`, `autorange`, and `title` if in `editable:\n            true` configuration. Defaults to `layout.uirevision`.\n        visible\n            A single toggle to hide the axis while preserving\n            interaction like dragging. Default is true when a\n            cheater plot is present on the axis, otherwise false\n        zeroline\n            Determines whether or not a line is drawn at along the\n            0 value of this axis. If True, the zero line is drawn\n            on top of the grid lines.\n        zerolinecolor\n            Sets the line color of the zero line.\n        zerolinewidth\n            Sets the width (in px) of the zero line.\n        ",
     "output_type": "error",
     "traceback": [
      "\u001b[1;31m---------------------------------------------------------------------------\u001b[0m",
      "\u001b[1;31mValueError\u001b[0m                                Traceback (most recent call last)",
      "\u001b[1;32m<ipython-input-82-3906ffe46b5d>\u001b[0m in \u001b[0;36m<module>\u001b[1;34m\u001b[0m\n\u001b[0;32m      1\u001b[0m \u001b[0mfig\u001b[0m \u001b[1;33m=\u001b[0m \u001b[0mpx\u001b[0m\u001b[1;33m.\u001b[0m\u001b[0mhistogram\u001b[0m\u001b[1;33m(\u001b[0m\u001b[0mtime_series_df\u001b[0m\u001b[1;33m,\u001b[0m \u001b[0mx\u001b[0m\u001b[1;33m=\u001b[0m\u001b[1;34m\"Date\"\u001b[0m\u001b[1;33m,\u001b[0m \u001b[0my\u001b[0m\u001b[1;33m=\u001b[0m\u001b[1;34m\"Orders\"\u001b[0m\u001b[1;33m,\u001b[0m \u001b[0mhistfunc\u001b[0m\u001b[1;33m=\u001b[0m\u001b[1;34m\"sum\"\u001b[0m\u001b[1;33m,\u001b[0m \u001b[0mtitle\u001b[0m\u001b[1;33m=\u001b[0m\u001b[1;34m\"Orders By Month\"\u001b[0m\u001b[1;33m,\u001b[0m\u001b[0mcolor\u001b[0m\u001b[1;33m=\u001b[0m\u001b[0mtime_series_df\u001b[0m\u001b[1;33m[\u001b[0m\u001b[1;34m'Orders'\u001b[0m\u001b[1;33m]\u001b[0m\u001b[1;33m)\u001b[0m\u001b[1;33m\u001b[0m\u001b[1;33m\u001b[0m\u001b[0m\n\u001b[0;32m      2\u001b[0m \u001b[0mfig\u001b[0m\u001b[1;33m.\u001b[0m\u001b[0mupdate_traces\u001b[0m\u001b[1;33m(\u001b[0m\u001b[0mxbins_size\u001b[0m\u001b[1;33m=\u001b[0m\u001b[1;34m\"M1\"\u001b[0m\u001b[1;33m)\u001b[0m\u001b[1;33m\u001b[0m\u001b[1;33m\u001b[0m\u001b[0m\n\u001b[1;32m----> 3\u001b[1;33m \u001b[0mfig\u001b[0m\u001b[1;33m.\u001b[0m\u001b[0mupdate_xaxes\u001b[0m\u001b[1;33m(\u001b[0m\u001b[0mshowgrid\u001b[0m\u001b[1;33m=\u001b[0m\u001b[1;32mTrue\u001b[0m\u001b[1;33m,\u001b[0m \u001b[0mticklabelmode\u001b[0m\u001b[1;33m=\u001b[0m\u001b[1;34m\"period\"\u001b[0m\u001b[1;33m,\u001b[0m \u001b[0mdtick\u001b[0m\u001b[1;33m=\u001b[0m\u001b[1;34m\"M1\"\u001b[0m\u001b[1;33m,\u001b[0m \u001b[0mtickformat\u001b[0m\u001b[1;33m=\u001b[0m\u001b[1;34m\"%b\\n%Y\"\u001b[0m\u001b[1;33m)\u001b[0m\u001b[1;33m\u001b[0m\u001b[1;33m\u001b[0m\u001b[0m\n\u001b[0m\u001b[0;32m      4\u001b[0m \u001b[0mfig\u001b[0m\u001b[1;33m.\u001b[0m\u001b[0mupdate_layout\u001b[0m\u001b[1;33m(\u001b[0m\u001b[0mbargap\u001b[0m\u001b[1;33m=\u001b[0m\u001b[1;36m0.3\u001b[0m\u001b[1;33m)\u001b[0m\u001b[1;33m\u001b[0m\u001b[1;33m\u001b[0m\u001b[0m\n\u001b[0;32m      5\u001b[0m \u001b[0mfig\u001b[0m\u001b[1;33m.\u001b[0m\u001b[0mshow\u001b[0m\u001b[1;33m(\u001b[0m\u001b[1;33m)\u001b[0m\u001b[1;33m\u001b[0m\u001b[1;33m\u001b[0m\u001b[0m\n",
      "\u001b[1;32m~\\anaconda3\\lib\\site-packages\\plotly\\graph_objs\\_figure.py\u001b[0m in \u001b[0;36mupdate_xaxes\u001b[1;34m(self, patch, selector, overwrite, row, col, **kwargs)\u001b[0m\n\u001b[0;32m  17646\u001b[0m         \"\"\"\n\u001b[0;32m  17647\u001b[0m         \u001b[1;32mfor\u001b[0m \u001b[0mobj\u001b[0m \u001b[1;32min\u001b[0m \u001b[0mself\u001b[0m\u001b[1;33m.\u001b[0m\u001b[0mselect_xaxes\u001b[0m\u001b[1;33m(\u001b[0m\u001b[0mselector\u001b[0m\u001b[1;33m=\u001b[0m\u001b[0mselector\u001b[0m\u001b[1;33m,\u001b[0m \u001b[0mrow\u001b[0m\u001b[1;33m=\u001b[0m\u001b[0mrow\u001b[0m\u001b[1;33m,\u001b[0m \u001b[0mcol\u001b[0m\u001b[1;33m=\u001b[0m\u001b[0mcol\u001b[0m\u001b[1;33m)\u001b[0m\u001b[1;33m:\u001b[0m\u001b[1;33m\u001b[0m\u001b[1;33m\u001b[0m\u001b[0m\n\u001b[1;32m> 17648\u001b[1;33m             \u001b[0mobj\u001b[0m\u001b[1;33m.\u001b[0m\u001b[0mupdate\u001b[0m\u001b[1;33m(\u001b[0m\u001b[0mpatch\u001b[0m\u001b[1;33m,\u001b[0m \u001b[0moverwrite\u001b[0m\u001b[1;33m=\u001b[0m\u001b[0moverwrite\u001b[0m\u001b[1;33m,\u001b[0m \u001b[1;33m**\u001b[0m\u001b[0mkwargs\u001b[0m\u001b[1;33m)\u001b[0m\u001b[1;33m\u001b[0m\u001b[1;33m\u001b[0m\u001b[0m\n\u001b[0m\u001b[0;32m  17649\u001b[0m \u001b[1;33m\u001b[0m\u001b[0m\n\u001b[0;32m  17650\u001b[0m         \u001b[1;32mreturn\u001b[0m \u001b[0mself\u001b[0m\u001b[1;33m\u001b[0m\u001b[1;33m\u001b[0m\u001b[0m\n",
      "\u001b[1;32m~\\anaconda3\\lib\\site-packages\\plotly\\basedatatypes.py\u001b[0m in \u001b[0;36mupdate\u001b[1;34m(self, dict1, overwrite, **kwargs)\u001b[0m\n\u001b[0;32m   3695\u001b[0m             \u001b[1;32mwith\u001b[0m \u001b[0mself\u001b[0m\u001b[1;33m.\u001b[0m\u001b[0mfigure\u001b[0m\u001b[1;33m.\u001b[0m\u001b[0mbatch_update\u001b[0m\u001b[1;33m(\u001b[0m\u001b[1;33m)\u001b[0m\u001b[1;33m:\u001b[0m\u001b[1;33m\u001b[0m\u001b[1;33m\u001b[0m\u001b[0m\n\u001b[0;32m   3696\u001b[0m                 \u001b[0mBaseFigure\u001b[0m\u001b[1;33m.\u001b[0m\u001b[0m_perform_update\u001b[0m\u001b[1;33m(\u001b[0m\u001b[0mself\u001b[0m\u001b[1;33m,\u001b[0m \u001b[0mdict1\u001b[0m\u001b[1;33m,\u001b[0m \u001b[0moverwrite\u001b[0m\u001b[1;33m=\u001b[0m\u001b[0moverwrite\u001b[0m\u001b[1;33m)\u001b[0m\u001b[1;33m\u001b[0m\u001b[1;33m\u001b[0m\u001b[0m\n\u001b[1;32m-> 3697\u001b[1;33m                 \u001b[0mBaseFigure\u001b[0m\u001b[1;33m.\u001b[0m\u001b[0m_perform_update\u001b[0m\u001b[1;33m(\u001b[0m\u001b[0mself\u001b[0m\u001b[1;33m,\u001b[0m \u001b[0mkwargs\u001b[0m\u001b[1;33m,\u001b[0m \u001b[0moverwrite\u001b[0m\u001b[1;33m=\u001b[0m\u001b[0moverwrite\u001b[0m\u001b[1;33m)\u001b[0m\u001b[1;33m\u001b[0m\u001b[1;33m\u001b[0m\u001b[0m\n\u001b[0m\u001b[0;32m   3698\u001b[0m         \u001b[1;32melse\u001b[0m\u001b[1;33m:\u001b[0m\u001b[1;33m\u001b[0m\u001b[1;33m\u001b[0m\u001b[0m\n\u001b[0;32m   3699\u001b[0m             \u001b[0mBaseFigure\u001b[0m\u001b[1;33m.\u001b[0m\u001b[0m_perform_update\u001b[0m\u001b[1;33m(\u001b[0m\u001b[0mself\u001b[0m\u001b[1;33m,\u001b[0m \u001b[0mdict1\u001b[0m\u001b[1;33m,\u001b[0m \u001b[0moverwrite\u001b[0m\u001b[1;33m=\u001b[0m\u001b[0moverwrite\u001b[0m\u001b[1;33m)\u001b[0m\u001b[1;33m\u001b[0m\u001b[1;33m\u001b[0m\u001b[0m\n",
      "\u001b[1;32m~\\anaconda3\\lib\\site-packages\\plotly\\basedatatypes.py\u001b[0m in \u001b[0;36m_perform_update\u001b[1;34m(plotly_obj, update_obj, overwrite)\u001b[0m\n\u001b[0;32m   2873\u001b[0m             \u001b[0minvalid_props\u001b[0m \u001b[1;33m=\u001b[0m \u001b[1;33m[\u001b[0m\u001b[0mk\u001b[0m \u001b[1;32mfor\u001b[0m \u001b[0mk\u001b[0m \u001b[1;32min\u001b[0m \u001b[0mupdate_obj\u001b[0m \u001b[1;32mif\u001b[0m \u001b[0mk\u001b[0m \u001b[1;32mnot\u001b[0m \u001b[1;32min\u001b[0m \u001b[0mplotly_obj\u001b[0m\u001b[1;33m]\u001b[0m\u001b[1;33m\u001b[0m\u001b[1;33m\u001b[0m\u001b[0m\n\u001b[0;32m   2874\u001b[0m \u001b[1;33m\u001b[0m\u001b[0m\n\u001b[1;32m-> 2875\u001b[1;33m             \u001b[0mplotly_obj\u001b[0m\u001b[1;33m.\u001b[0m\u001b[0m_raise_on_invalid_property_error\u001b[0m\u001b[1;33m(\u001b[0m\u001b[1;33m*\u001b[0m\u001b[0minvalid_props\u001b[0m\u001b[1;33m)\u001b[0m\u001b[1;33m\u001b[0m\u001b[1;33m\u001b[0m\u001b[0m\n\u001b[0m\u001b[0;32m   2876\u001b[0m \u001b[1;33m\u001b[0m\u001b[0m\n\u001b[0;32m   2877\u001b[0m             \u001b[1;31m# Convert update_obj to dict\u001b[0m\u001b[1;33m\u001b[0m\u001b[1;33m\u001b[0m\u001b[1;33m\u001b[0m\u001b[0m\n",
      "\u001b[1;32m~\\anaconda3\\lib\\site-packages\\plotly\\basedatatypes.py\u001b[0m in \u001b[0;36m_raise_on_invalid_property_error\u001b[1;34m(self, *args)\u001b[0m\n\u001b[0;32m   3664\u001b[0m                     \u001b[0mfull_obj_name\u001b[0m\u001b[1;33m=\u001b[0m\u001b[0mfull_obj_name\u001b[0m\u001b[1;33m,\u001b[0m\u001b[1;33m\u001b[0m\u001b[1;33m\u001b[0m\u001b[0m\n\u001b[0;32m   3665\u001b[0m                     \u001b[0minvalid_str\u001b[0m\u001b[1;33m=\u001b[0m\u001b[0minvalid_str\u001b[0m\u001b[1;33m,\u001b[0m\u001b[1;33m\u001b[0m\u001b[1;33m\u001b[0m\u001b[0m\n\u001b[1;32m-> 3666\u001b[1;33m                     \u001b[0mprop_descriptions\u001b[0m\u001b[1;33m=\u001b[0m\u001b[0mself\u001b[0m\u001b[1;33m.\u001b[0m\u001b[0m_prop_descriptions\u001b[0m\u001b[1;33m,\u001b[0m\u001b[1;33m\u001b[0m\u001b[1;33m\u001b[0m\u001b[0m\n\u001b[0m\u001b[0;32m   3667\u001b[0m                 )\n\u001b[0;32m   3668\u001b[0m             )\n",
      "\u001b[1;31mValueError\u001b[0m: Invalid property specified for object of type plotly.graph_objs.layout.XAxis: 'ticklabelmode'\n\n    Valid properties:\n        anchor\n            If set to an opposite-letter axis id (e.g. `x2`, `y`),\n            this axis is bound to the corresponding opposite-letter\n            axis. If set to \"free\", this axis' position is\n            determined by `position`.\n        automargin\n            Determines whether long tick labels automatically grow\n            the figure margins.\n        autorange\n            Determines whether or not the range of this axis is\n            computed in relation to the input data. See `rangemode`\n            for more info. If `range` is provided, then `autorange`\n            is set to False.\n        calendar\n            Sets the calendar system to use for `range` and `tick0`\n            if this is a date axis. This does not set the calendar\n            for interpreting data on this axis, that's specified in\n            the trace or via the global `layout.calendar`\n        categoryarray\n            Sets the order in which categories on this axis appear.\n            Only has an effect if `categoryorder` is set to\n            \"array\". Used with `categoryorder`.\n        categoryarraysrc\n            Sets the source reference on Chart Studio Cloud for\n            categoryarray .\n        categoryorder\n            Specifies the ordering logic for the case of\n            categorical variables. By default, plotly uses \"trace\",\n            which specifies the order that is present in the data\n            supplied. Set `categoryorder` to *category ascending*\n            or *category descending* if order should be determined\n            by the alphanumerical order of the category names. Set\n            `categoryorder` to \"array\" to derive the ordering from\n            the attribute `categoryarray`. If a category is not\n            found in the `categoryarray` array, the sorting\n            behavior for that attribute will be identical to the\n            \"trace\" mode. The unspecified categories will follow\n            the categories in `categoryarray`. Set `categoryorder`\n            to *total ascending* or *total descending* if order\n            should be determined by the numerical order of the\n            values. Similarly, the order can be determined by the\n            min, max, sum, mean or median of all the values.\n        color\n            Sets default for all colors associated with this axis\n            all at once: line, font, tick, and grid colors. Grid\n            color is lightened by blending this with the plot\n            background Individual pieces can override this.\n        constrain\n            If this axis needs to be compressed (either due to its\n            own `scaleanchor` and `scaleratio` or those of the\n            other axis), determines how that happens: by increasing\n            the \"range\" (default), or by decreasing the \"domain\".\n        constraintoward\n            If this axis needs to be compressed (either due to its\n            own `scaleanchor` and `scaleratio` or those of the\n            other axis), determines which direction we push the\n            originally specified plot area. Options are \"left\",\n            \"center\" (default), and \"right\" for x axes, and \"top\",\n            \"middle\" (default), and \"bottom\" for y axes.\n        dividercolor\n            Sets the color of the dividers Only has an effect on\n            \"multicategory\" axes.\n        dividerwidth\n            Sets the width (in px) of the dividers Only has an\n            effect on \"multicategory\" axes.\n        domain\n            Sets the domain of this axis (in plot fraction).\n        dtick\n            Sets the step in-between ticks on this axis. Use with\n            `tick0`. Must be a positive number, or special strings\n            available to \"log\" and \"date\" axes. If the axis `type`\n            is \"log\", then ticks are set every 10^(n*dtick) where n\n            is the tick number. For example, to set a tick mark at\n            1, 10, 100, 1000, ... set dtick to 1. To set tick marks\n            at 1, 100, 10000, ... set dtick to 2. To set tick marks\n            at 1, 5, 25, 125, 625, 3125, ... set dtick to\n            log_10(5), or 0.69897000433. \"log\" has several special\n            values; \"L<f>\", where `f` is a positive number, gives\n            ticks linearly spaced in value (but not position). For\n            example `tick0` = 0.1, `dtick` = \"L0.5\" will put ticks\n            at 0.1, 0.6, 1.1, 1.6 etc. To show powers of 10 plus\n            small digits between, use \"D1\" (all digits) or \"D2\"\n            (only 2 and 5). `tick0` is ignored for \"D1\" and \"D2\".\n            If the axis `type` is \"date\", then you must convert the\n            time to milliseconds. For example, to set the interval\n            between ticks to one day, set `dtick` to 86400000.0.\n            \"date\" also has special values \"M<n>\" gives ticks\n            spaced by a number of months. `n` must be a positive\n            integer. To set ticks on the 15th of every third month,\n            set `tick0` to \"2000-01-15\" and `dtick` to \"M3\". To set\n            ticks every 4 years, set `dtick` to \"M48\"\n        exponentformat\n            Determines a formatting rule for the tick exponents.\n            For example, consider the number 1,000,000,000. If\n            \"none\", it appears as 1,000,000,000. If \"e\", 1e+9. If\n            \"E\", 1E+9. If \"power\", 1x10^9 (with 9 in a super\n            script). If \"SI\", 1G. If \"B\", 1B.\n        fixedrange\n            Determines whether or not this axis is zoom-able. If\n            true, then zoom is disabled.\n        gridcolor\n            Sets the color of the grid lines.\n        gridwidth\n            Sets the width (in px) of the grid lines.\n        hoverformat\n            Sets the hover text formatting rule using d3 formatting\n            mini-languages which are very similar to those in\n            Python. For numbers, see:\n            https://github.com/d3/d3-3.x-api-\n            reference/blob/master/Formatting.md#d3_format And for\n            dates see: https://github.com/d3/d3-3.x-api-\n            reference/blob/master/Time-Formatting.md#format We add\n            one item to d3's date formatter: \"%{n}f\" for fractional\n            seconds with n digits. For example, *2016-10-13\n            09:15:23.456* with tickformat \"%H~%M~%S.%2f\" would\n            display \"09~15~23.46\"\n        layer\n            Sets the layer on which this axis is displayed. If\n            *above traces*, this axis is displayed above all the\n            subplot's traces If *below traces*, this axis is\n            displayed below all the subplot's traces, but above the\n            grid lines. Useful when used together with scatter-like\n            traces with `cliponaxis` set to False to show markers\n            and/or text nodes above this axis.\n        linecolor\n            Sets the axis line color.\n        linewidth\n            Sets the width (in px) of the axis line.\n        matches\n            If set to another axis id (e.g. `x2`, `y`), the range\n            of this axis will match the range of the corresponding\n            axis in data-coordinates space. Moreover, matching axes\n            share auto-range values, category lists and histogram\n            auto-bins. Note that setting axes simultaneously in\n            both a `scaleanchor` and a `matches` constraint is\n            currently forbidden. Moreover, note that matching axes\n            must have the same `type`.\n        mirror\n            Determines if the axis lines or/and ticks are mirrored\n            to the opposite side of the plotting area. If True, the\n            axis lines are mirrored. If \"ticks\", the axis lines and\n            ticks are mirrored. If False, mirroring is disable. If\n            \"all\", axis lines are mirrored on all shared-axes\n            subplots. If \"allticks\", axis lines and ticks are\n            mirrored on all shared-axes subplots.\n        nticks\n            Specifies the maximum number of ticks for the\n            particular axis. The actual number of ticks will be\n            chosen automatically to be less than or equal to\n            `nticks`. Has an effect only if `tickmode` is set to\n            \"auto\".\n        overlaying\n            If set a same-letter axis id, this axis is overlaid on\n            top of the corresponding same-letter axis, with traces\n            and axes visible for both axes. If False, this axis\n            does not overlay any same-letter axes. In this case,\n            for axes with overlapping domains only the highest-\n            numbered axis will be visible.\n        position\n            Sets the position of this axis in the plotting space\n            (in normalized coordinates). Only has an effect if\n            `anchor` is set to \"free\".\n        range\n            Sets the range of this axis. If the axis `type` is\n            \"log\", then you must take the log of your desired range\n            (e.g. to set the range from 1 to 100, set the range\n            from 0 to 2). If the axis `type` is \"date\", it should\n            be date strings, like date data, though Date objects\n            and unix milliseconds will be accepted and converted to\n            strings. If the axis `type` is \"category\", it should be\n            numbers, using the scale where each category is\n            assigned a serial number from zero in the order it\n            appears.\n        rangebreaks\n            A tuple of\n            :class:`plotly.graph_objects.layout.xaxis.Rangebreak`\n            instances or dicts with compatible properties\n        rangebreakdefaults\n            When used in a template (as\n            layout.template.layout.xaxis.rangebreakdefaults), sets\n            the default property values to use for elements of\n            layout.xaxis.rangebreaks\n        rangemode\n            If \"normal\", the range is computed in relation to the\n            extrema of the input data. If *tozero*`, the range\n            extends to 0, regardless of the input data If\n            \"nonnegative\", the range is non-negative, regardless of\n            the input data. Applies only to linear axes.\n        rangeselector\n            :class:`plotly.graph_objects.layout.xaxis.Rangeselector\n            ` instance or dict with compatible properties\n        rangeslider\n            :class:`plotly.graph_objects.layout.xaxis.Rangeslider`\n            instance or dict with compatible properties\n        scaleanchor\n            If set to another axis id (e.g. `x2`, `y`), the range\n            of this axis changes together with the range of the\n            corresponding axis such that the scale of pixels per\n            unit is in a constant ratio. Both axes are still\n            zoomable, but when you zoom one, the other will zoom\n            the same amount, keeping a fixed midpoint. `constrain`\n            and `constraintoward` determine how we enforce the\n            constraint. You can chain these, ie `yaxis:\n            {scaleanchor: *x*}, xaxis2: {scaleanchor: *y*}` but you\n            can only link axes of the same `type`. The linked axis\n            can have the opposite letter (to constrain the aspect\n            ratio) or the same letter (to match scales across\n            subplots). Loops (`yaxis: {scaleanchor: *x*}, xaxis:\n            {scaleanchor: *y*}` or longer) are redundant and the\n            last constraint encountered will be ignored to avoid\n            possible inconsistent constraints via `scaleratio`.\n            Note that setting axes simultaneously in both a\n            `scaleanchor` and a `matches` constraint is currently\n            forbidden.\n        scaleratio\n            If this axis is linked to another by `scaleanchor`,\n            this determines the pixel to unit scale ratio. For\n            example, if this value is 10, then every unit on this\n            axis spans 10 times the number of pixels as a unit on\n            the linked axis. Use this for example to create an\n            elevation profile where the vertical scale is\n            exaggerated a fixed amount with respect to the\n            horizontal.\n        separatethousands\n            If \"true\", even 4-digit integers are separated\n        showdividers\n            Determines whether or not a dividers are drawn between\n            the category levels of this axis. Only has an effect on\n            \"multicategory\" axes.\n        showexponent\n            If \"all\", all exponents are shown besides their\n            significands. If \"first\", only the exponent of the\n            first tick is shown. If \"last\", only the exponent of\n            the last tick is shown. If \"none\", no exponents appear.\n        showgrid\n            Determines whether or not grid lines are drawn. If\n            True, the grid lines are drawn at every tick mark.\n        showline\n            Determines whether or not a line bounding this axis is\n            drawn.\n        showspikes\n            Determines whether or not spikes (aka droplines) are\n            drawn for this axis. Note: This only takes affect when\n            hovermode = closest\n        showticklabels\n            Determines whether or not the tick labels are drawn.\n        showtickprefix\n            If \"all\", all tick labels are displayed with a prefix.\n            If \"first\", only the first tick is displayed with a\n            prefix. If \"last\", only the last tick is displayed with\n            a suffix. If \"none\", tick prefixes are hidden.\n        showticksuffix\n            Same as `showtickprefix` but for tick suffixes.\n        side\n            Determines whether a x (y) axis is positioned at the\n            \"bottom\" (\"left\") or \"top\" (\"right\") of the plotting\n            area.\n        spikecolor\n            Sets the spike color. If undefined, will use the series\n            color\n        spikedash\n            Sets the dash style of lines. Set to a dash type string\n            (\"solid\", \"dot\", \"dash\", \"longdash\", \"dashdot\", or\n            \"longdashdot\") or a dash length list in px (eg\n            \"5px,10px,2px,2px\").\n        spikemode\n            Determines the drawing mode for the spike line If\n            \"toaxis\", the line is drawn from the data point to the\n            axis the  series is plotted on. If \"across\", the line\n            is drawn across the entire plot area, and supercedes\n            \"toaxis\". If \"marker\", then a marker dot is drawn on\n            the axis the series is plotted on\n        spikesnap\n            Determines whether spikelines are stuck to the cursor\n            or to the closest datapoints.\n        spikethickness\n            Sets the width (in px) of the zero line.\n        tick0\n            Sets the placement of the first tick on this axis. Use\n            with `dtick`. If the axis `type` is \"log\", then you\n            must take the log of your starting tick (e.g. to set\n            the starting tick to 100, set the `tick0` to 2) except\n            when `dtick`=*L<f>* (see `dtick` for more info). If the\n            axis `type` is \"date\", it should be a date string, like\n            date data. If the axis `type` is \"category\", it should\n            be a number, using the scale where each category is\n            assigned a serial number from zero in the order it\n            appears.\n        tickangle\n            Sets the angle of the tick labels with respect to the\n            horizontal. For example, a `tickangle` of -90 draws the\n            tick labels vertically.\n        tickcolor\n            Sets the tick color.\n        tickfont\n            Sets the tick font.\n        tickformat\n            Sets the tick label formatting rule using d3 formatting\n            mini-languages which are very similar to those in\n            Python. For numbers, see:\n            https://github.com/d3/d3-3.x-api-\n            reference/blob/master/Formatting.md#d3_format And for\n            dates see: https://github.com/d3/d3-3.x-api-\n            reference/blob/master/Time-Formatting.md#format We add\n            one item to d3's date formatter: \"%{n}f\" for fractional\n            seconds with n digits. For example, *2016-10-13\n            09:15:23.456* with tickformat \"%H~%M~%S.%2f\" would\n            display \"09~15~23.46\"\n        tickformatstops\n            A tuple of :class:`plotly.graph_objects.layout.xaxis.Ti\n            ckformatstop` instances or dicts with compatible\n            properties\n        tickformatstopdefaults\n            When used in a template (as\n            layout.template.layout.xaxis.tickformatstopdefaults),\n            sets the default property values to use for elements of\n            layout.xaxis.tickformatstops\n        ticklen\n            Sets the tick length (in px).\n        tickmode\n            Sets the tick mode for this axis. If \"auto\", the number\n            of ticks is set via `nticks`. If \"linear\", the\n            placement of the ticks is determined by a starting\n            position `tick0` and a tick step `dtick` (\"linear\" is\n            the default value if `tick0` and `dtick` are provided).\n            If \"array\", the placement of the ticks is set via\n            `tickvals` and the tick text is `ticktext`. (\"array\" is\n            the default value if `tickvals` is provided).\n        tickprefix\n            Sets a tick label prefix.\n        ticks\n            Determines whether ticks are drawn or not. If \"\", this\n            axis' ticks are not drawn. If \"outside\" (\"inside\"),\n            this axis' are drawn outside (inside) the axis lines.\n        tickson\n            Determines where ticks and grid lines are drawn with\n            respect to their corresponding tick labels. Only has an\n            effect for axes of `type` \"category\" or\n            \"multicategory\". When set to \"boundaries\", ticks and\n            grid lines are drawn half a category to the left/bottom\n            of labels.\n        ticksuffix\n            Sets a tick label suffix.\n        ticktext\n            Sets the text displayed at the ticks position via\n            `tickvals`. Only has an effect if `tickmode` is set to\n            \"array\". Used with `tickvals`.\n        ticktextsrc\n            Sets the source reference on Chart Studio Cloud for\n            ticktext .\n        tickvals\n            Sets the values at which ticks on this axis appear.\n            Only has an effect if `tickmode` is set to \"array\".\n            Used with `ticktext`.\n        tickvalssrc\n            Sets the source reference on Chart Studio Cloud for\n            tickvals .\n        tickwidth\n            Sets the tick width (in px).\n        title\n            :class:`plotly.graph_objects.layout.xaxis.Title`\n            instance or dict with compatible properties\n        titlefont\n            Deprecated: Please use layout.xaxis.title.font instead.\n            Sets this axis' title font. Note that the title's font\n            used to be customized by the now deprecated `titlefont`\n            attribute.\n        type\n            Sets the axis type. By default, plotly attempts to\n            determined the axis type by looking into the data of\n            the traces that referenced the axis in question.\n        uirevision\n            Controls persistence of user-driven changes in axis\n            `range`, `autorange`, and `title` if in `editable:\n            true` configuration. Defaults to `layout.uirevision`.\n        visible\n            A single toggle to hide the axis while preserving\n            interaction like dragging. Default is true when a\n            cheater plot is present on the axis, otherwise false\n        zeroline\n            Determines whether or not a line is drawn at along the\n            0 value of this axis. If True, the zero line is drawn\n            on top of the grid lines.\n        zerolinecolor\n            Sets the line color of the zero line.\n        zerolinewidth\n            Sets the width (in px) of the zero line.\n        "
     ]
    }
   ],
   "source": [
    "fig = px.histogram(time_series_df, x=\"Date\", y=\"Orders\", histfunc=\"sum\", title=\"Orders By Month\",color=time_series_df['Orders'])\n",
    "fig.update_traces(xbins_size=\"M1\")\n",
    "fig.update_xaxes(showgrid=True, ticklabelmode=\"period\", dtick=\"M1\", tickformat=\"%b\\n%Y\")\n",
    "fig.update_layout(bargap=0.3)\n",
    "fig.show()"
   ]
  },
  {
   "cell_type": "markdown",
   "metadata": {},
   "source": [
    "## Plotting Category By Time"
   ]
  },
  {
   "cell_type": "code",
   "execution_count": null,
   "metadata": {},
   "outputs": [],
   "source": [
    "order_items.columns"
   ]
  },
  {
   "cell_type": "code",
   "execution_count": null,
   "metadata": {},
   "outputs": [],
   "source": [
    "products.columns"
   ]
  },
  {
   "cell_type": "code",
   "execution_count": null,
   "metadata": {},
   "outputs": [],
   "source": [
    "orders.columns"
   ]
  },
  {
   "cell_type": "code",
   "execution_count": null,
   "metadata": {},
   "outputs": [],
   "source": [
    "time_series_category = order_items.merge(products,on=['product_id'],how='left')\n",
    "time_series_category = time_series_category.merge(orders,on=['order_id'],how='left')"
   ]
  },
  {
   "cell_type": "code",
   "execution_count": null,
   "metadata": {},
   "outputs": [],
   "source": [
    "time_series_category['order'] = 1"
   ]
  },
  {
   "cell_type": "code",
   "execution_count": null,
   "metadata": {},
   "outputs": [],
   "source": [
    "time_series_category.columns"
   ]
  },
  {
   "cell_type": "code",
   "execution_count": null,
   "metadata": {},
   "outputs": [],
   "source": [
    "time_series_category = time_series_category[['product_category_name', 'order_purchase_date','order']]"
   ]
  },
  {
   "cell_type": "code",
   "execution_count": null,
   "metadata": {},
   "outputs": [],
   "source": [
    "time_series_category = time_series_category.groupby(['order_purchase_date','product_category_name']).sum().reset_index()"
   ]
  },
  {
   "cell_type": "code",
   "execution_count": null,
   "metadata": {},
   "outputs": [],
   "source": [
    "time_series_category.head(10)"
   ]
  },
  {
   "cell_type": "code",
   "execution_count": null,
   "metadata": {},
   "outputs": [],
   "source": [
    "fig = px.histogram(time_series_category, x='order_purchase_date', y=\"order\", histfunc=\"sum\", title=\"Orders By Month\",color=time_series_category['product_category_name'])\n",
    "fig.update_traces(xbins_size=\"M1\")\n",
    "fig.update_xaxes(showgrid=True, ticklabelmode=\"period\", dtick=\"M1\", tickformat=\"%b\\n%Y\")\n",
    "fig.update_layout(bargap=0.3)\n",
    "fig.show()"
   ]
  },
  {
   "cell_type": "markdown",
   "metadata": {},
   "source": [
    "### Date Plot"
   ]
  },
  {
   "cell_type": "code",
   "execution_count": null,
   "metadata": {},
   "outputs": [],
   "source": [
    "fig = px.bar(time_series_df, x = 'Date',y=\"Orders\",color='Orders',title='Orders By Date')\n",
    "fig.show()"
   ]
  },
  {
   "cell_type": "markdown",
   "metadata": {},
   "source": [
    "### Analysis Summary \n",
    "\n",
    "### We See Unsually high numbers of orders on 24th November 2017, So it is plausible that there was a festival or a holiday on that day or people were buying before presents before christmas."
   ]
  },
  {
   "cell_type": "markdown",
   "metadata": {},
   "source": [
    " "
   ]
  },
  {
   "cell_type": "markdown",
   "metadata": {},
   "source": [
    " "
   ]
  },
  {
   "cell_type": "markdown",
   "metadata": {},
   "source": [
    " "
   ]
  },
  {
   "cell_type": "markdown",
   "metadata": {},
   "source": [
    " "
   ]
  },
  {
   "cell_type": "markdown",
   "metadata": {},
   "source": [
    " "
   ]
  },
  {
   "cell_type": "markdown",
   "metadata": {},
   "source": [
    " "
   ]
  },
  {
   "cell_type": "markdown",
   "metadata": {},
   "source": [
    " "
   ]
  },
  {
   "cell_type": "markdown",
   "metadata": {},
   "source": [
    " "
   ]
  },
  {
   "cell_type": "markdown",
   "metadata": {},
   "source": [
    " "
   ]
  },
  {
   "cell_type": "markdown",
   "metadata": {},
   "source": [
    " "
   ]
  },
  {
   "cell_type": "markdown",
   "metadata": {},
   "source": [
    " "
   ]
  },
  {
   "cell_type": "markdown",
   "metadata": {},
   "source": [
    " "
   ]
  },
  {
   "cell_type": "markdown",
   "metadata": {},
   "source": [
    " "
   ]
  },
  {
   "cell_type": "markdown",
   "metadata": {},
   "source": [
    " "
   ]
  },
  {
   "cell_type": "markdown",
   "metadata": {},
   "source": [
    "## Deliver Times Summary"
   ]
  },
  {
   "cell_type": "code",
   "execution_count": null,
   "metadata": {},
   "outputs": [],
   "source": [
    "delivery_analysis = pd.DataFrame(columns =['Purchase','Delivered'])"
   ]
  },
  {
   "cell_type": "code",
   "execution_count": null,
   "metadata": {},
   "outputs": [],
   "source": [
    "delivery_analysis['Purchase'] = orders['order_purchase_date']\n",
    "delivery_analysis['Delivered'] = orders['order_delivered_date']"
   ]
  },
  {
   "cell_type": "code",
   "execution_count": null,
   "metadata": {},
   "outputs": [],
   "source": [
    "delivery_analysis['Time Taken'] = (delivery_analysis['Delivered'] - delivery_analysis['Purchase']).dt.days"
   ]
  },
  {
   "cell_type": "code",
   "execution_count": null,
   "metadata": {},
   "outputs": [],
   "source": [
    "delivery_analysis = delivery_analysis.dropna()"
   ]
  },
  {
   "cell_type": "code",
   "execution_count": null,
   "metadata": {},
   "outputs": [],
   "source": [
    "delivery_analysis.head(5)"
   ]
  },
  {
   "cell_type": "markdown",
   "metadata": {},
   "source": [
    "### Lets see the Summary of our Deliveries"
   ]
  },
  {
   "cell_type": "code",
   "execution_count": null,
   "metadata": {},
   "outputs": [],
   "source": [
    " delivery_analysis['Time Taken'].describe()"
   ]
  },
  {
   "cell_type": "markdown",
   "metadata": {},
   "source": [
    " "
   ]
  },
  {
   "cell_type": "markdown",
   "metadata": {},
   "source": [
    " ### So on an average we take 12.5 days to deliver a product and we deliver 50% of the products below this threshold, we also see bizzare values of 100 and upto 210 Days we can also see it in the box plot below"
   ]
  },
  {
   "cell_type": "code",
   "execution_count": null,
   "metadata": {},
   "outputs": [],
   "source": [
    "'''\n",
    "fig = go.Figure(data=[go.Box(y=delivery_analysis['Time Taken'],\n",
    "            boxpoints='all', # can also be outliers, or suspectedoutliers, or False\n",
    "            jitter=0.3, # add some jitter for a better separation between points\n",
    "            pointpos=-1.8 # relative position of points wrt box\n",
    "              )])\n",
    "\n",
    "fig.show()\n",
    "'''\n",
    "\n",
    "#Interactive BoxPlot - Not an Optimal Code do not run"
   ]
  },
  {
   "cell_type": "markdown",
   "metadata": {},
   "source": [
    " "
   ]
  },
  {
   "cell_type": "code",
   "execution_count": null,
   "metadata": {},
   "outputs": [],
   "source": [
    "ax = sns.boxplot(y=\"Time Taken\", data=delivery_analysis, whis=np.inf,color='cyan')\n",
    "ax = sns.stripplot(y=\"Time Taken\", data=delivery_analysis, color=\"maroon\",alpha=.05)\n"
   ]
  },
  {
   "cell_type": "markdown",
   "metadata": {},
   "source": [
    " # Freight Cost to Wait Time Analysis"
   ]
  },
  {
   "cell_type": "markdown",
   "metadata": {},
   "source": [
    " ### We are trying to Analyze which are the highest performing cities and why is our wait time large for 50% of our demographic"
   ]
  },
  {
   "cell_type": "code",
   "execution_count": null,
   "metadata": {},
   "outputs": [],
   "source": [
    " city_analysis = pd.DataFrame(columns=[\n",
    "       'City', 'State', 'Time Taken','Total Price'])"
   ]
  },
  {
   "cell_type": "code",
   "execution_count": null,
   "metadata": {},
   "outputs": [],
   "source": [
    "city_analysis['City'] = final['customer_city']\n",
    "city_analysis['State'] = final['customer_state']\n",
    "city_analysis['Time Taken'] = (final['order_delivered_date'] - final['order_purchase_date']).dt.days\n",
    "city_analysis['Cost'] = final['price'] \n",
    "city_analysis['Freight'] = final['freight_value']\n",
    "city_analysis['Order'] = 1\n"
   ]
  },
  {
   "cell_type": "code",
   "execution_count": null,
   "metadata": {},
   "outputs": [],
   "source": [
    "city_analysis.head(1)"
   ]
  },
  {
   "cell_type": "code",
   "execution_count": null,
   "metadata": {},
   "outputs": [],
   "source": [
    "city_analysis = city_analysis.groupby('City').sum()"
   ]
  },
  {
   "cell_type": "code",
   "execution_count": null,
   "metadata": {},
   "outputs": [],
   "source": [
    "city_analysis['Freight Avg'] = city_analysis['Freight']/city_analysis['Order']\n",
    "city_analysis['Time Taken'] = city_analysis['Time Taken']/city_analysis['Order']"
   ]
  },
  {
   "cell_type": "code",
   "execution_count": null,
   "metadata": {},
   "outputs": [],
   "source": [
    "city_analysis = city_analysis.dropna()"
   ]
  },
  {
   "cell_type": "code",
   "execution_count": null,
   "metadata": {},
   "outputs": [],
   "source": [
    "city_analysis.head(1)"
   ]
  },
  {
   "cell_type": "markdown",
   "metadata": {},
   "source": [
    "### We check for the cities that ordered the least porducts"
   ]
  },
  {
   "cell_type": "code",
   "execution_count": null,
   "metadata": {},
   "outputs": [],
   "source": [
    "city_analysis['Order'].describe()"
   ]
  },
  {
   "cell_type": "markdown",
   "metadata": {},
   "source": [
    "### We check for the Freight Average of the lowest puchasign cities vs Highest Purchasing cities"
   ]
  },
  {
   "cell_type": "code",
   "execution_count": null,
   "metadata": {},
   "outputs": [],
   "source": [
    "print('Cities With less than 3 Orders = ',(city_analysis['Order'] <= 10).sum())"
   ]
  },
  {
   "cell_type": "markdown",
   "metadata": {},
   "source": [
    " "
   ]
  },
  {
   "cell_type": "code",
   "execution_count": null,
   "metadata": {},
   "outputs": [],
   "source": [
    "print('Cities With Greater than 10 Orders = ',(city_analysis['Order'] > 10).sum())"
   ]
  },
  {
   "cell_type": "code",
   "execution_count": null,
   "metadata": {},
   "outputs": [],
   "source": [
    "city_analysis['High/Lo'] = city_analysis['Order'].apply(lambda x: 'High' if x > 10 else 'Low')"
   ]
  },
  {
   "cell_type": "code",
   "execution_count": null,
   "metadata": {},
   "outputs": [],
   "source": [
    "city_analysis.head(1)"
   ]
  },
  {
   "cell_type": "code",
   "execution_count": null,
   "metadata": {},
   "outputs": [],
   "source": [
    "ax = sns.boxplot(x='High/Lo',y=\"Freight Avg\", data=city_analysis, whis=np.inf)"
   ]
  },
  {
   "cell_type": "markdown",
   "metadata": {},
   "source": [
    "### Plotting on Nautral Log Axis"
   ]
  },
  {
   "cell_type": "code",
   "execution_count": null,
   "metadata": {},
   "outputs": [],
   "source": [
    "ax = sns.boxplot(x='High/Lo',y=\"Freight Avg\", data=city_analysis, whis=np.inf)\n",
    "ax.set_yscale('log')"
   ]
  },
  {
   "cell_type": "markdown",
   "metadata": {},
   "source": [
    "## Analysis Summary:\n",
    "\n",
    "### We see that the Cost for Low ordering cities is definitely a little higher but we cannot establish causality here"
   ]
  },
  {
   "cell_type": "markdown",
   "metadata": {},
   "source": [
    " "
   ]
  },
  {
   "cell_type": "markdown",
   "metadata": {},
   "source": [
    " "
   ]
  },
  {
   "cell_type": "markdown",
   "metadata": {},
   "source": [
    " "
   ]
  },
  {
   "cell_type": "markdown",
   "metadata": {},
   "source": [
    " "
   ]
  },
  {
   "cell_type": "markdown",
   "metadata": {},
   "source": [
    " "
   ]
  },
  {
   "cell_type": "markdown",
   "metadata": {},
   "source": [
    " "
   ]
  },
  {
   "cell_type": "markdown",
   "metadata": {},
   "source": [
    " "
   ]
  },
  {
   "cell_type": "markdown",
   "metadata": {},
   "source": [
    " "
   ]
  },
  {
   "cell_type": "markdown",
   "metadata": {},
   "source": [
    " "
   ]
  },
  {
   "cell_type": "markdown",
   "metadata": {},
   "source": [
    "## Wait Time Analysis\n",
    "\n",
    "### We also should do an analysis of wait times as it could probably be that wait times could be resultin in low orders"
   ]
  },
  {
   "cell_type": "code",
   "execution_count": null,
   "metadata": {},
   "outputs": [],
   "source": [
    "city_analysis['Time Taken'].describe()"
   ]
  },
  {
   "cell_type": "markdown",
   "metadata": {},
   "source": [
    "### We have a standard deviation of 8 so we can say that all delivery times above 21 are high wait times and all below 8 are low wait times based on this information we proceed ahead"
   ]
  },
  {
   "cell_type": "markdown",
   "metadata": {},
   "source": [
    " "
   ]
  },
  {
   "cell_type": "code",
   "execution_count": null,
   "metadata": {},
   "outputs": [],
   "source": [
    "city_analysis['Wait'] = city_analysis['Time Taken'].apply(lambda x: 'High' if x >= 21 else ('Low' if x <= 8 else 'Normal'))"
   ]
  },
  {
   "cell_type": "code",
   "execution_count": null,
   "metadata": {},
   "outputs": [],
   "source": [
    "x = sns.boxplot(x='Wait',y=\"Order\", data=city_analysis, whis=np.inf)\n",
    "x.set_yscale('log')"
   ]
  },
  {
   "cell_type": "markdown",
   "metadata": {},
   "source": [
    "## Analysis Summary:\n",
    "\n",
    "### We See that  High wait time cities do infact order less than Low and Normal wait time cities, we need to perform t-test to validate this, but we might be onto something."
   ]
  },
  {
   "cell_type": "markdown",
   "metadata": {},
   "source": [
    " "
   ]
  },
  {
   "cell_type": "markdown",
   "metadata": {},
   "source": [
    " "
   ]
  },
  {
   "cell_type": "markdown",
   "metadata": {},
   "source": [
    " "
   ]
  },
  {
   "cell_type": "markdown",
   "metadata": {},
   "source": [
    " "
   ]
  },
  {
   "cell_type": "markdown",
   "metadata": {},
   "source": [
    " "
   ]
  },
  {
   "cell_type": "markdown",
   "metadata": {},
   "source": [
    " "
   ]
  },
  {
   "cell_type": "markdown",
   "metadata": {},
   "source": [
    " ### Per State Wait Time Analysis"
   ]
  },
  {
   "cell_type": "code",
   "execution_count": null,
   "metadata": {},
   "outputs": [],
   "source": [
    " city_wait_time = customer.merge(orders,on='customer_id',how='left')"
   ]
  },
  {
   "cell_type": "code",
   "execution_count": null,
   "metadata": {},
   "outputs": [],
   "source": [
    "city_wait_time.columns"
   ]
  },
  {
   "cell_type": "code",
   "execution_count": null,
   "metadata": {},
   "outputs": [],
   "source": [
    "city_wait_time = city_wait_time[['customer_city', 'customer_state', 'order_id','order_purchase_date',\n",
    "       'order_delivered_date']]"
   ]
  },
  {
   "cell_type": "code",
   "execution_count": null,
   "metadata": {},
   "outputs": [],
   "source": [
    "city_wait_time['time_taken']  = (city_wait_time['order_delivered_date'] - city_wait_time['order_purchase_date']).dt.days"
   ]
  },
  {
   "cell_type": "code",
   "execution_count": null,
   "metadata": {},
   "outputs": [],
   "source": [
    " city_wait_time.columns"
   ]
  },
  {
   "cell_type": "code",
   "execution_count": null,
   "metadata": {},
   "outputs": [],
   "source": [
    "city_wait_time = city_wait_time[['customer_city', 'customer_state', 'time_taken']]"
   ]
  },
  {
   "cell_type": "code",
   "execution_count": null,
   "metadata": {},
   "outputs": [],
   "source": [
    "city_wait_time['total_order'] = 1 "
   ]
  },
  {
   "cell_type": "code",
   "execution_count": null,
   "metadata": {},
   "outputs": [],
   "source": [
    "city_wait_time.head(1)"
   ]
  },
  {
   "cell_type": "code",
   "execution_count": null,
   "metadata": {},
   "outputs": [],
   "source": [
    "fig, ax = plt.subplots()\n",
    "x = sns.boxplot(x='customer_state',y=\"time_taken\", data=city_wait_time, whis=np.inf)\n",
    "fig.set_size_inches(11.7, 8.27)\n",
    "x.set_title(\"Time Variation By State\",fontsize=20)\n",
    "x.set_xlabel(\"Sate\",fontsize=14)\n",
    "x.set_ylabel(\"Time Taken In Days\",fontsize=14)"
   ]
  },
  {
   "cell_type": "code",
   "execution_count": null,
   "metadata": {},
   "outputs": [],
   "source": [
    "fig, ax = plt.subplots()\n",
    "g = sns.countplot(x='customer_state', data=final, orient='h')\n",
    "g.set_title(\"Customer's State Distribution\",fontsize=20)\n",
    "g.set_xlabel(\"State\",fontsize=14)\n",
    "g.set_ylabel(\"Count\",fontsize=14)\n",
    "fig.set_size_inches(11.7, 8.27)"
   ]
  },
  {
   "cell_type": "code",
   "execution_count": null,
   "metadata": {},
   "outputs": [],
   "source": [
    "fig, ax = plt.subplots()\n",
    "g = sns.countplot(x='seller_state', data=final, orient='h')\n",
    "g.set_title(\"Sellers's State Distribution\",fontsize=20)\n",
    "g.set_xlabel(\"State\",fontsize=14)\n",
    "g.set_ylabel(\"Count\",fontsize=14)\n",
    "fig.set_size_inches(11.7, 8.27)"
   ]
  },
  {
   "cell_type": "code",
   "execution_count": null,
   "metadata": {},
   "outputs": [],
   "source": [
    "k=pd.DataFrame({'customers':customer['customer_state'].value_counts(),'sellers':sellers['seller_state'].value_counts()})\n",
    "k=k.sort_values(by='customers',ascending=False)\n",
    "k=k.fillna(0)\n",
    "k['sellers']= k['sellers'].apply( lambda x:x/k['sellers'].sum())\n",
    "k['customers']= k['customers'].apply( lambda x:x/k['customers'].sum())\n",
    "labels = k.T.columns\n",
    "sel = k['sellers']\n",
    "cus = k['customers']\n",
    "\n",
    "x = np.arange(len(labels))  # the label locations\n",
    "width = 0.2  # the width of the bars\n",
    "\n",
    "fig, ax = plt.subplots(figsize=(20,10))\n",
    "\n",
    "rects1 = ax.bar(x - width/2, sel, width, label='Sellers')\n",
    "rects2 = ax.bar(x + width/2, cus, width, label='Customers')\n",
    "\n",
    "# Add some text for labels, title and custom x-axis tick labels, etc.\n",
    "ax.set_ylabel('Percentage of total per state',fontsize=14)\n",
    "ax.set_xlabel('States',fontsize=14)\n",
    "ax.set_title('Customers and sellers location by state',fontsize=20)\n",
    "ax.set_xticks(x)\n",
    "ax.set_xticklabels(labels)\n",
    "ax.legend()"
   ]
  },
  {
   "cell_type": "code",
   "execution_count": null,
   "metadata": {},
   "outputs": [],
   "source": [
    "fig, ax = plt.subplots()\n",
    "g3 = sns.boxplot(x='customer_state', y='freight_value', \n",
    "                 data=final[final['price'] != -1])\n",
    "g3.set_title(\"CUSTOMER's State by Freight Value\", fontsize=20)\n",
    "g3.set_xlabel(\"State\",fontsize=14)\n",
    "g3.set_ylabel(\"Freight Value\",fontsize=14)\n",
    "fig.set_size_inches(11.7, 8.27)"
   ]
  },
  {
   "cell_type": "code",
   "execution_count": null,
   "metadata": {},
   "outputs": [],
   "source": [
    " \n",
    "# The nicest state ? AP: macapa laranjal do jari\n",
    "\n",
    "plt.figure(figsize=(14,8))\n",
    "\n",
    "sns.barplot(data = final, x='customer_state', y='review_score',\\\n",
    "           order = final.groupby('customer_state').mean()\\\n",
    "            .reset_index().sort_values('review_score', ascending=False)['customer_state'].values,\n",
    "           errcolor = 'grey');\n",
    "\n",
    "\n",
    "plt.title('Most Satisfied State'.title(), fontsize=20);\n",
    "plt.ylabel('Average Review Score'.title(), fontsize=14);\n",
    "plt.xlabel('customer state'.title(), fontsize=14);\n"
   ]
  },
  {
   "cell_type": "markdown",
   "metadata": {},
   "source": [
    " "
   ]
  },
  {
   "cell_type": "markdown",
   "metadata": {},
   "source": [
    " "
   ]
  },
  {
   "cell_type": "markdown",
   "metadata": {},
   "source": [
    " "
   ]
  },
  {
   "cell_type": "markdown",
   "metadata": {},
   "source": [
    " "
   ]
  },
  {
   "cell_type": "markdown",
   "metadata": {},
   "source": [
    " "
   ]
  },
  {
   "cell_type": "markdown",
   "metadata": {},
   "source": [
    " "
   ]
  },
  {
   "cell_type": "markdown",
   "metadata": {},
   "source": [
    " "
   ]
  },
  {
   "cell_type": "markdown",
   "metadata": {},
   "source": [
    " "
   ]
  },
  {
   "cell_type": "markdown",
   "metadata": {},
   "source": [
    " "
   ]
  },
  {
   "cell_type": "markdown",
   "metadata": {},
   "source": [
    " "
   ]
  },
  {
   "cell_type": "markdown",
   "metadata": {},
   "source": [
    "# Cluster Analysis"
   ]
  },
  {
   "cell_type": "code",
   "execution_count": null,
   "metadata": {},
   "outputs": [],
   "source": [
    "import pandas as pd\n",
    "import numpy as np\n",
    "import matplotlib.pyplot as plt\n",
    "from matplotlib import style\n",
    "import seaborn as sns\n",
    "sns.set(style=\"ticks\")\n",
    "import gc\n",
    "import itertools\n",
    "from datetime import datetime\n",
    "import warnings\n",
    "warnings.filterwarnings(\"ignore\", category=DeprecationWarning)\n",
    "warnings.simplefilter(\"ignore\")\n",
    "pd.set_option('display.max_columns', 100)\n",
    "np.random.seed(42)\n",
    "import plotly\n",
    "from datetime import datetime, timedelta\n",
    "import plotly.offline as pyoff\n",
    "import plotly.graph_objs as go\n",
    "#initiate visualization library for jupyter notebook \n",
    "from plotly.offline import download_plotlyjs, init_notebook_mode, plot, iplot\n",
    "pyoff.init_notebook_mode(connected=True)\n",
    "%matplotlib inline\n",
    "\n",
    "\n",
    "\n",
    "#defining visualizaition functions\n",
    "def format_spines(ax, right_border=True):\n",
    "    \n",
    "    ax.spines['bottom'].set_color('#666666')\n",
    "    ax.spines['left'].set_color('#666666')\n",
    "    ax.spines['top'].set_visible(False)\n",
    "    if right_border:\n",
    "        ax.spines['right'].set_color('#FFFFFF')\n",
    "    else:\n",
    "        ax.spines['right'].set_color('#FFFFFF')\n",
    "    ax.patch.set_facecolor('#FFFFFF')\n",
    "    \n",
    "\n",
    "def count_plot(feature, df, colors='Blues_d', hue=False, ax=None, title=''):\n",
    "    \n",
    "    # Preparing variables\n",
    "    ncount = len(df)\n",
    "    if hue != False:\n",
    "        ax = sns.countplot(x=feature, data=df, palette=colors, hue=hue, ax=ax)\n",
    "    else:\n",
    "        ax = sns.countplot(x=feature, data=df, palette=colors, ax=ax)\n",
    "        \n",
    "    format_spines(ax)\n",
    "\n",
    "    # Setting percentage\n",
    "    for p in ax.patches:\n",
    "        x=p.get_bbox().get_points()[:,0]\n",
    "        y=p.get_bbox().get_points()[1,1]\n",
    "        ax.annotate('{:.1f}%'.format(100.*y/ncount), (x.mean(), y), \n",
    "                ha='center', va='bottom') # set the alignment of the text\n",
    "    \n",
    "    # Final configuration\n",
    "    if not hue:\n",
    "        ax.set_title(df[feature].describe().name + ' Analysis', size=13, pad=15)\n",
    "    else:\n",
    "        ax.set_title(df[feature].describe().name + ' Analysis by ' + hue, size=13, pad=15)  \n",
    "    if title != '':\n",
    "        ax.set_title(title)       \n",
    "    plt.tight_layout()\n",
    "    \n",
    "    \n",
    "def bar_plot(x, y, df, colors='Blues_d', hue=False, ax=None, value=False, title=''):\n",
    "    \n",
    "    # Preparing variables\n",
    "    try:\n",
    "        ncount = sum(df[y])\n",
    "    except:\n",
    "        ncount = sum(df[x])\n",
    "    #fig, ax = plt.subplots()\n",
    "    if hue != False:\n",
    "        ax = sns.barplot(x=x, y=y, data=df, palette=colors, hue=hue, ax=ax, ci=None)\n",
    "    else:\n",
    "        ax = sns.barplot(x=x, y=y, data=df, palette=colors, ax=ax, ci=None)\n",
    "\n",
    "    # Setting borders\n",
    "    format_spines(ax)\n",
    "\n",
    "    # Setting percentage\n",
    "    for p in ax.patches:\n",
    "        xp=p.get_bbox().get_points()[:,0]\n",
    "        yp=p.get_bbox().get_points()[1,1]\n",
    "        if value:\n",
    "            ax.annotate('{:.2f}k'.format(yp/1000), (xp.mean(), yp), \n",
    "                    ha='center', va='bottom') # set the alignment of the text\n",
    "        else:\n",
    "            ax.annotate('{:.1f}%'.format(100.*yp/ncount), (xp.mean(), yp), \n",
    "                    ha='center', va='bottom') # set the alignment of the text\n",
    "    if not hue:\n",
    "        ax.set_title(df[x].describe().name + ' Analysis', size=12, pad=15)\n",
    "    else:\n",
    "        ax.set_title(df[x].describe().name + ' Analysis by ' + hue, size=12, pad=15)\n",
    "    if title != '':\n",
    "        ax.set_title(title)  \n",
    "    plt.tight_layout()\n",
    "\n"
   ]
  },
  {
   "cell_type": "markdown",
   "metadata": {},
   "source": [
    "### Feature Engineering"
   ]
  },
  {
   "cell_type": "code",
   "execution_count": null,
   "metadata": {},
   "outputs": [],
   "source": [
    "# loading data \n",
    "customers_ = pd.read_csv(\"olist_customers_dataset.csv\")\n",
    "order_items_ = pd.read_csv(\"olist_order_items_dataset.csv\")\n",
    "order_payments_ = pd.read_csv(\"olist_order_payments_dataset.csv\")\n",
    "orders_ = pd.read_csv(\"olist_orders_dataset.csv\")"
   ]
  },
  {
   "cell_type": "code",
   "execution_count": null,
   "metadata": {},
   "outputs": [],
   "source": [
    "# displaying data shape\n",
    "#dataset = [customers, geolocation, order_items, order_payments, order_reviews, orders, products, sellers, category_name_translation]\n",
    "dataset = {\n",
    "    'Customers': customers_,\n",
    "    'Order Items': order_items_,\n",
    "    'Payments': order_payments_,\n",
    "    'Orders': orders_\n",
    "}\n",
    "\n",
    "for x, y in dataset.items():\n",
    "    print(f'{x}', (list(y.shape)))"
   ]
  },
  {
   "cell_type": "code",
   "execution_count": null,
   "metadata": {},
   "outputs": [],
   "source": [
    "# displaying dataset column names\n",
    "for x, y in dataset.items():\n",
    "    print(f'{x}', f'{list(y.columns)}\\n')"
   ]
  },
  {
   "cell_type": "code",
   "execution_count": null,
   "metadata": {},
   "outputs": [],
   "source": [
    "# checking for null values in datasets\n",
    "for x, y in dataset.items():\n",
    "    print(f'{x}: {y.isnull().any().any()}')"
   ]
  },
  {
   "cell_type": "code",
   "execution_count": null,
   "metadata": {},
   "outputs": [],
   "source": [
    "# taking count for dataset with missing values\n",
    "for x, y in dataset.items():\n",
    "    if y.isnull().any().any():\n",
    "        print(f'{x}', (list(y.shape)),'\\n')\n",
    "        print(f'{y.isnull().sum()}\\n')"
   ]
  },
  {
   "cell_type": "code",
   "execution_count": null,
   "metadata": {},
   "outputs": [],
   "source": [
    "# creating master dataframe \n",
    "order_payments_.head()\n",
    "df1 = order_payments_.merge(order_items_, on='order_id')\n",
    "df2 = df1.merge(orders_, on='order_id')\n",
    "df = df2.merge(customers_, on='customer_id')\n",
    "print(df.shape)"
   ]
  },
  {
   "cell_type": "code",
   "execution_count": null,
   "metadata": {},
   "outputs": [],
   "source": [
    "# converting date columns to datetime\n",
    "date_columns = ['shipping_limit_date', 'order_purchase_timestamp', 'order_approved_at', 'order_delivered_carrier_date', 'order_delivered_customer_date', 'order_estimated_delivery_date']\n",
    "for col in date_columns:\n",
    "    df[col] = pd.to_datetime(df[col], format='%Y-%m-%d %H:%M:%S')"
   ]
  },
  {
   "cell_type": "code",
   "execution_count": null,
   "metadata": {},
   "outputs": [],
   "source": [
    "df['customer_city'] = df['customer_city'].str.title()\n",
    "df['payment_type'] = df['payment_type'].str.replace('_', ' ').str.title()\n",
    "# engineering new/essential columns\n",
    "df['delivery_against_estimated'] = (df['order_estimated_delivery_date'] - df['order_delivered_customer_date']).dt.days\n",
    "df['order_purchase_year'] = df.order_purchase_timestamp.apply(lambda x: x.year)\n",
    "df['order_purchase_month'] = df.order_purchase_timestamp.apply(lambda x: x.month)\n",
    "df['order_purchase_dayofweek'] = df.order_purchase_timestamp.apply(lambda x: x.dayofweek)\n",
    "df['order_purchase_hour'] = df.order_purchase_timestamp.apply(lambda x: x.hour)\n",
    "df['order_purchase_day'] = df['order_purchase_dayofweek'].map({0:'Mon',1:'Tue',2:'Wed',3:'Thu',4:'Fri',5:'Sat',6:'Sun'})\n",
    "df['order_purchase_mon'] = df.order_purchase_timestamp.apply(lambda x: x.month).map({1:'Jan',2:'Feb',3:'Mar',4:'Apr',5:'May',6:'Jun',7:'Jul',8:'Aug',9:'Sep',10:'Oct',11:'Nov',12:'Dec'})\n",
    "# Changing the month attribute for correct ordenation\n",
    "df['month_year'] = df['order_purchase_month'].astype(str).apply(lambda x: '0' + x if len(x) == 1 else x)\n",
    "df['month_year'] = df['order_purchase_year'].astype(str) + '-' + df['month_year'].astype(str)\n",
    "#creating year month column\n",
    "df['month_y'] = df['order_purchase_timestamp'].map(lambda date: 100*date.year + date.month)\n",
    "# displaying summary staticstics of columns"
   ]
  },
  {
   "cell_type": "code",
   "execution_count": null,
   "metadata": {},
   "outputs": [],
   "source": [
    "# displaying summary staticstics of columns\n",
    "df.describe(include='all')"
   ]
  },
  {
   "cell_type": "code",
   "execution_count": null,
   "metadata": {},
   "outputs": [],
   "source": [
    "# displaying missing value counts and corresponding percentage against total observations\n",
    "missing_values = df.isnull().sum().sort_values(ascending = False)\n",
    "percentage = (df.isnull().sum()/df.isnull().count()*100).sort_values(ascending = False)\n",
    "pd.concat([missing_values, percentage], axis=1, keys=['Values', 'Percentage']).transpose()"
   ]
  },
  {
   "cell_type": "code",
   "execution_count": null,
   "metadata": {},
   "outputs": [],
   "source": [
    "# dropping missing values\n",
    "df.dropna(inplace=True)\n",
    "df.isnull().values.any()"
   ]
  },
  {
   "cell_type": "code",
   "execution_count": null,
   "metadata": {},
   "outputs": [],
   "source": [
    "# displaying dataframe info\n",
    "df.info()"
   ]
  },
  {
   "cell_type": "code",
   "execution_count": null,
   "metadata": {},
   "outputs": [],
   "source": [
    "# excluding incomplete 2012 data and displaying first 3 rows of master dataframe\n",
    "df = df.query(\"month_year != '2016-12' and month_year != '2016-10'\")\n",
    "df.head(3)"
   ]
  },
  {
   "cell_type": "markdown",
   "metadata": {},
   "source": [
    "### Monthly Revenue"
   ]
  },
  {
   "cell_type": "code",
   "execution_count": null,
   "metadata": {},
   "outputs": [],
   "source": [
    "#calculate Revenue for each row and create a new dataframe with YearMonth - Revenue columns\n",
    "df_revenue = df.groupby(['month_year'])['payment_value'].sum().reset_index()\n",
    "df_revenue"
   ]
  },
  {
   "cell_type": "markdown",
   "metadata": {},
   "source": [
    "### Monthly Revenue Growth Rate"
   ]
  },
  {
   "cell_type": "code",
   "execution_count": null,
   "metadata": {},
   "outputs": [],
   "source": [
    "#calculating for monthly revenie growth rate\n",
    "# using pct_change() function to see monthly percentage change\n",
    "df_revenue['MonthlyGrowth'] = df_revenue['payment_value'].pct_change()\n",
    "\n",
    "df_revenue"
   ]
  },
  {
   "cell_type": "markdown",
   "metadata": {},
   "source": [
    "### Monthly Active Customers"
   ]
  },
  {
   "cell_type": "code",
   "execution_count": null,
   "metadata": {},
   "outputs": [],
   "source": [
    "#creating monthly active customers dataframe by counting unique Customer IDs\n",
    "df_monthly_active = df.groupby('month_year')['customer_unique_id'].nunique().reset_index()\n",
    "\n",
    "fig, ax = plt.subplots(figsize=(12, 6))\n",
    "sns.set(palette='muted', color_codes=True, style='whitegrid')\n",
    "bar_plot(x='month_year', y='customer_unique_id', df=df_monthly_active, value=True)\n",
    "ax.tick_params(axis='x', labelrotation=90)\n",
    "plt.show()"
   ]
  },
  {
   "cell_type": "markdown",
   "metadata": {},
   "source": [
    "## Monthly Order Count"
   ]
  },
  {
   "cell_type": "code",
   "execution_count": null,
   "metadata": {},
   "outputs": [],
   "source": [
    "#creating monthly active customers dataframe by counting unique Customer IDs\n",
    "df_monthly_sales = df.groupby('month_year')['order_status'].count().reset_index()\n",
    "\n",
    "fig, ax = plt.subplots(figsize=(12, 6))\n",
    "sns.set(palette='muted', color_codes=True, style='whitegrid')\n",
    "bar_plot(x='month_year', y='order_status', df=df_monthly_sales, value=True)\n",
    "ax.tick_params(axis='x', labelrotation=90)\n",
    "plt.show()"
   ]
  },
  {
   "cell_type": "markdown",
   "metadata": {},
   "source": [
    "### Average Revenue per Customer Purchase"
   ]
  },
  {
   "cell_type": "code",
   "execution_count": null,
   "metadata": {},
   "outputs": [],
   "source": [
    "# create a new dataframe for average revenue by taking the mean of it\n",
    "df_monthly_order_avg = df.groupby('month_year')['payment_value'].mean().reset_index()\n",
    "\n",
    "fig, ax = plt.subplots(figsize=(12, 6))\n",
    "sns.set(palette='muted', color_codes=True, style='whitegrid')\n",
    "bar_plot(x='month_year', y='payment_value', df=df_monthly_order_avg, value=True)\n",
    "ax.tick_params(axis='x', labelrotation=90)\n",
    "plt.show()"
   ]
  },
  {
   "cell_type": "markdown",
   "metadata": {},
   "source": [
    "### New Customer Ratio"
   ]
  },
  {
   "cell_type": "code",
   "execution_count": null,
   "metadata": {},
   "outputs": [],
   "source": [
    "#create a dataframe contaning CustomerID and first purchase date\n",
    "df_min_purchase = df.groupby('customer_unique_id').order_purchase_timestamp.min().reset_index()\n",
    "df_min_purchase.columns = ['customer_unique_id','minpurchasedate']\n",
    "df_min_purchase['minpurchasedate'] = df_min_purchase['minpurchasedate'].map(lambda date: 100*date.year + date.month)\n",
    "\n",
    "#merge first purchase date column to our main dataframe (tx_uk)\n",
    "df = pd.merge(df, df_min_purchase, on='customer_unique_id')"
   ]
  },
  {
   "cell_type": "code",
   "execution_count": null,
   "metadata": {},
   "outputs": [],
   "source": [
    "#create a column called User Type and assign Existing \n",
    "#if User's First Purchase Year Month before the selected Invoice Year Month\n",
    "df['usertype'] = 'New'\n",
    "df.loc[df['month_y']>df['minpurchasedate'],'usertype'] = 'Existing'\n",
    "\n",
    "#calculate the Revenue per month for each user type\n",
    "df_user_type_revenue = df.groupby(['month_y','usertype', 'month_year'])['payment_value'].sum().reset_index()\n",
    "\n",
    "df_user_type_revenue"
   ]
  },
  {
   "cell_type": "code",
   "execution_count": null,
   "metadata": {},
   "outputs": [],
   "source": [
    "fig, ax = plt.subplots(figsize=(15, 6))\n",
    "sns.set(palette='muted', color_codes=True)\n",
    "ax = sns.lineplot(x='month_year', y='payment_value', data=df_user_type_revenue.query(\"usertype == 'New'\"), label='New')\n",
    "ax = sns.lineplot(x='month_year', y='payment_value', data=df_user_type_revenue.query(\"usertype == 'Existing'\"), label='Existing')\n",
    "format_spines(ax, right_border=False)\n",
    "ax.set_title('Existing vs New Customer Comparison')\n",
    "ax.tick_params(axis='x', labelrotation=90)\n",
    "plt.show()"
   ]
  },
  {
   "cell_type": "code",
   "execution_count": null,
   "metadata": {},
   "outputs": [],
   "source": [
    "#create a dataframe that shows new user ratio - we also need to drop NA values (first month new user ratio is 0)\n",
    "df_user_ratio = df.query(\"usertype == 'New'\").groupby(['month_year'])['customer_unique_id'].nunique()/df.query(\"usertype == 'Existing'\").groupby(['month_year'])['customer_unique_id'].nunique() \n",
    "df_user_ratio = df_user_ratio.reset_index()\n",
    "\n",
    "#dropping nan values that resulted from first and last month\n",
    "df_user_ratio = df_user_ratio.dropna()\n",
    "df_user_ratio.columns = ['month_year','NewCusRatio']\n",
    "\n",
    "#print the dafaframe\n",
    "df_user_ratio\n"
   ]
  },
  {
   "cell_type": "code",
   "execution_count": null,
   "metadata": {},
   "outputs": [],
   "source": [
    "fig, ax = plt.subplots(figsize=(12, 6))\n",
    "sns.set(palette='muted', color_codes=True, style='whitegrid')\n",
    "bar_plot(x='month_year', y='NewCusRatio', df=df_user_ratio, value=True)\n",
    "ax.tick_params(axis='x', labelrotation=90)\n",
    "plt.show()"
   ]
  },
  {
   "cell_type": "markdown",
   "metadata": {},
   "source": [
    "### Monthly Retention Rate"
   ]
  },
  {
   "cell_type": "code",
   "execution_count": null,
   "metadata": {},
   "outputs": [],
   "source": [
    "#Monthly Retention Rate = Retained Customers From Prev. Month/Active Customers Total (using crosstab)\n",
    "\n",
    "#identifying active users are active by looking at their revenue per month\n",
    "df_user_purchase = df.groupby(['customer_unique_id','month_y'])['payment_value'].sum().reset_index()\n",
    "df_user_purchase.head()"
   ]
  },
  {
   "cell_type": "code",
   "execution_count": null,
   "metadata": {},
   "outputs": [],
   "source": [
    "#identifying active users are active by looking at their order count per month\n",
    "df_user_purchase = df.groupby(['customer_unique_id','month_y'])['payment_value'].count().reset_index()\n",
    "df_user_purchase.head()"
   ]
  },
  {
   "cell_type": "code",
   "execution_count": null,
   "metadata": {},
   "outputs": [],
   "source": [
    "#create retention matrix with crosstab using purchase\n",
    "df_retention = pd.crosstab(df_user_purchase['customer_unique_id'], df_user_purchase['month_y']).reset_index()\n",
    "df_retention.head()"
   ]
  },
  {
   "cell_type": "code",
   "execution_count": null,
   "metadata": {},
   "outputs": [],
   "source": [
    "#creating an array of dictionary which keeps Retained & Total User count for each month\n",
    "months = df_retention.columns[2:]\n",
    "retention_array = []\n",
    "for i in range(len(months)-1):\n",
    "    retention_data = {}\n",
    "    selected_month = months[i+1]\n",
    "    prev_month = months[i]\n",
    "    retention_data['month_y'] = int(selected_month)\n",
    "    retention_data['TotalUserCount'] = df_retention[selected_month].sum()\n",
    "    retention_data['RetainedUserCount'] = df_retention[(df_retention[selected_month]>0) & (df_retention[prev_month]>0)][selected_month].sum()\n",
    "    retention_array.append(retention_data)\n",
    "    \n",
    "#convert the array to dataframe and calculate Retention Rate\n",
    "df_retention = pd.DataFrame(retention_array)\n",
    "df_retention['RetentionRate'] = df_retention['RetainedUserCount']/df_retention['TotalUserCount']\n",
    "\n",
    "df_retention"
   ]
  },
  {
   "cell_type": "code",
   "execution_count": null,
   "metadata": {},
   "outputs": [],
   "source": [
    "fig, ax = plt.subplots(figsize=(12, 6))\n",
    "sns.set(palette='muted', color_codes=True, style='whitegrid')\n",
    "bar_plot(x='month_y', y='RetentionRate', df=df_retention, value=True)\n",
    "ax.tick_params(axis='x', labelrotation=90)\n",
    "plt.show()"
   ]
  },
  {
   "cell_type": "markdown",
   "metadata": {},
   "source": [
    "## Cohort Based Retention Rate\n",
    "\n",
    "Cohorts are determined as first purchase year-month of the customers. I will be measuring what percentage of the customers retained after their first purchase in each month. This view will help unveil how recent and old cohorts differ regarding retention rate and if recent changes in customer experience affected new customer’s retention or not."
   ]
  },
  {
   "cell_type": "code",
   "execution_count": null,
   "metadata": {},
   "outputs": [],
   "source": [
    "#create our retention table again with crosstab() - we need to change the column names for using them in .query() function\n",
    "df_retention = pd.crosstab(df_user_purchase['customer_unique_id'], df_user_purchase['month_y']).reset_index()\n",
    "new_column_names = [ 'm_' + str(column) for column in df_retention.columns]\n",
    "df_retention.columns = new_column_names"
   ]
  },
  {
   "cell_type": "code",
   "execution_count": null,
   "metadata": {},
   "outputs": [],
   "source": [
    "#create the array of Retained users for each cohort monthly\n",
    "retention_array = []\n",
    "for i in range(len(months)):\n",
    "    retention_data = {}\n",
    "    selected_month = months[i]\n",
    "    prev_months = months[:i]\n",
    "    next_months = months[i+1:]\n",
    "    for prev_month in prev_months:\n",
    "        retention_data[prev_month] = np.nan\n",
    "        \n",
    "    total_user_count =  retention_data['TotalUserCount'] = df_retention['m_' + str(selected_month)].sum()\n",
    "    retention_data[selected_month] = 1 \n",
    "    \n",
    "    query = \"{} > 0\".format('m_' + str(selected_month))\n",
    "    \n",
    "\n",
    "    for next_month in next_months:\n",
    "        query = query + \" and {} > 0\".format(str('m_' + str(next_month)))\n",
    "        retention_data[next_month] = np.round(df_retention.query(query)['m_' + str(next_month)].sum()/total_user_count,2)\n",
    "    retention_array.append(retention_data)"
   ]
  },
  {
   "cell_type": "code",
   "execution_count": null,
   "metadata": {},
   "outputs": [],
   "source": [
    "#create the array of Retained users for each cohort monthly\n",
    "retention_array = []\n",
    "for i in range(len(months)):\n",
    "    retention_data = {}\n",
    "    selected_month = months[i]\n",
    "    prev_months = months[:i]\n",
    "    next_months = months[i+1:]\n",
    "    for prev_month in prev_months:\n",
    "        retention_data[prev_month] = np.nan\n",
    "        \n",
    "    total_user_count =  retention_data['TotalUserCount'] = df_retention['m_' + str(selected_month)].sum()\n",
    "    retention_data[selected_month] = 1 \n",
    "    \n",
    "    query = \"{} > 0\".format('m_' + str(selected_month))\n",
    "    \n",
    "\n",
    "    for next_month in next_months:\n",
    "        query = query + \" and {} > 0\".format(str('m_' + str(next_month)))\n",
    "        retention_data[next_month] = np.round(df_retention.query(query)['m_' + str(next_month)].sum()/total_user_count,2)\n",
    "    retention_array.append(retention_data)\n",
    "    \n",
    "df_retention = pd.DataFrame(retention_array)\n",
    "df_retention.index = months\n",
    "\n",
    "#showing new cohort based retention table\n",
    "df_retention"
   ]
  },
  {
   "cell_type": "markdown",
   "metadata": {},
   "source": [
    "## Customer Segmentation\n",
    "\n",
    "Customers who shop on Olist have different needs and they have their own different profile. We should adapt our actions depending on that.\n",
    "\n",
    "RFM stands for Recency - Frequency - Monetary Value, I will be using this metrics to segment customers. Theoretically we will have segments like below: Low Value: Customers who are less active than others, not very frequent buyer/visitor and generates very low - zero - maybe negative revenue. Mid Value: In the middle of everything. Often using our platform (but not as much as our High Values), fairly frequent and generates moderate revenue. High Value: The group we don’t want to lose. High Revenue, Frequency and low Inactivity."
   ]
  },
  {
   "cell_type": "markdown",
   "metadata": {},
   "source": [
    "## Recency\n",
    "To calculate recency, we need to find out most recent purchase date of each customer and see for how many days they are inactive. After having no. of inactive days for each customer, we will apply K-means* clustering to assign customers a recency score."
   ]
  },
  {
   "cell_type": "code",
   "execution_count": null,
   "metadata": {},
   "outputs": [],
   "source": [
    "#creates a generic user dataframe to keep CustomerID and new segmentation scores\n",
    "df_user = pd.DataFrame(df['customer_unique_id'])\n",
    "df_user.columns = ['customer_unique_id']\n",
    "\n",
    "#gets the max purchase date for each customer and create a dataframe with it\n",
    "df_max_purchase = df.groupby('customer_unique_id').order_purchase_timestamp.max().reset_index()\n",
    "df_max_purchase.columns = ['customer_unique_id', 'MaxPurchaseDate']\n",
    "\n",
    "#we take our observation point as the max purchase date in our dataset\n",
    "df_max_purchase['Recency'] = (df_max_purchase['MaxPurchaseDate'].max() - df_max_purchase['MaxPurchaseDate']).dt.days\n",
    "\n",
    "#merge this dataframe to our new user dataframe\n",
    "df_user = pd.merge(df_user, df_max_purchase[['customer_unique_id','Recency']], on='customer_unique_id')\n",
    "\n",
    "df_user.head()"
   ]
  },
  {
   "cell_type": "code",
   "execution_count": null,
   "metadata": {},
   "outputs": [],
   "source": [
    "# getting summary statistics of the recency table\n",
    "df_user.Recency.describe()"
   ]
  },
  {
   "cell_type": "code",
   "execution_count": null,
   "metadata": {},
   "outputs": [],
   "source": [
    "# plotting the distribution of the continous feature set\n",
    "sns.set(palette='muted', color_codes=True, style='white')\n",
    "fig, ax = plt.subplots(figsize=(12, 6))\n",
    "sns.despine(left=True)\n",
    "sns.distplot(df_user['Recency'], bins=30)\n",
    "plt.show()"
   ]
  },
  {
   "cell_type": "markdown",
   "metadata": {},
   "source": [
    "### Applying K-means clustering to assign a recency score to each customer. But there is need to tell how many clusters i need to K-means algorithm. To find this out, I will apply Elbow Method. Elbow Method simply tells the optimal cluster number for optimal inertia."
   ]
  },
  {
   "cell_type": "code",
   "execution_count": null,
   "metadata": {},
   "outputs": [],
   "source": [
    " from sklearn.cluster import KMeans\n",
    "\n",
    "sse={}\n",
    "df_recency = df_user[['Recency']]\n",
    "for k in range(1, 10):\n",
    "    kmeans = KMeans(n_clusters=k, max_iter=1000).fit(df_recency)\n",
    "    df_recency[\"clusters\"] = kmeans.labels_\n",
    "    sse[k] = kmeans.inertia_\n",
    "    \n",
    "plt.figure(figsize=(10, 5))\n",
    "plt.plot(list(sse.keys()), list(sse.values()))\n",
    "plt.xlabel(\"Number of cluster\")\n",
    "plt.show()"
   ]
  },
  {
   "cell_type": "code",
   "execution_count": null,
   "metadata": {},
   "outputs": [],
   "source": [
    "#building 5 clusters for recency and adding it to dataframe\n",
    "kmeans = KMeans(n_clusters=5)\n",
    "kmeans.fit(df_user[['Recency']])\n",
    "df_user['RecencyCluster'] = kmeans.predict(df_user[['Recency']])\n",
    "\n",
    "#function for ordering cluster numbers\n",
    "def order_cluster(cluster_field_name, target_field_name,df,ascending):\n",
    "    new_cluster_field_name = 'new_' + cluster_field_name\n",
    "    df_new = df.groupby(cluster_field_name)[target_field_name].mean().reset_index()\n",
    "    df_new = df_new.sort_values(by=target_field_name,ascending=ascending).reset_index(drop=True)\n",
    "    df_new['index'] = df_new.index\n",
    "    df_final = pd.merge(df,df_new[[cluster_field_name,'index']], on=cluster_field_name)\n",
    "    df_final = df_final.drop([cluster_field_name],axis=1)\n",
    "    df_final = df_final.rename(columns={\"index\":cluster_field_name})\n",
    "    return df_final\n",
    "\n",
    "df_user = order_cluster('RecencyCluster', 'Recency',df_user,False)"
   ]
  },
  {
   "cell_type": "code",
   "execution_count": null,
   "metadata": {},
   "outputs": [],
   "source": [
    "#displaying the details of each cluster\n",
    "df_user.groupby('RecencyCluster')['Recency'].describe()"
   ]
  },
  {
   "cell_type": "markdown",
   "metadata": {},
   "source": [
    "## Frequency\n",
    "\n",
    "To create frequency clusters, i will need to find total number orders for each customer, after which i cango ahead and place them in various clusters"
   ]
  },
  {
   "cell_type": "code",
   "execution_count": null,
   "metadata": {},
   "outputs": [],
   "source": [
    "#get order counts for each user and create a dataframe with it\n",
    "df_frequency = df.groupby('customer_unique_id').order_purchase_timestamp.count().reset_index()\n",
    "df_frequency.columns = ['customer_unique_id','Frequency']\n",
    "\n",
    "#add this data to our main dataframe\n",
    "df_user = pd.merge(df_user, df_frequency, on='customer_unique_id')"
   ]
  },
  {
   "cell_type": "code",
   "execution_count": null,
   "metadata": {},
   "outputs": [],
   "source": [
    "# getting summary statistics of the recency table\n",
    "df_user.Frequency.describe()"
   ]
  },
  {
   "cell_type": "code",
   "execution_count": null,
   "metadata": {},
   "outputs": [],
   "source": [
    "# plotting the distribution of the continous feature set\n",
    "sns.set(palette='muted', color_codes=True, style='whitegrid')\n",
    "fig, ax = plt.subplots(figsize=(12, 6))\n",
    "sns.despine(left=True)\n",
    "sns.distplot(df_user['Frequency'], hist=False)\n",
    "plt.show()"
   ]
  },
  {
   "cell_type": "code",
   "execution_count": null,
   "metadata": {},
   "outputs": [],
   "source": [
    "#k-means\n",
    "kmeans = KMeans(n_clusters=5)\n",
    "kmeans.fit(df_user[['Frequency']])\n",
    "df_user['FrequencyCluster'] = kmeans.predict(df_user[['Frequency']])\n",
    "\n",
    "#order the frequency cluster\n",
    "df_user = order_cluster('FrequencyCluster', 'Frequency',df_user,True)\n",
    "\n",
    "#see details of each cluster\n",
    "df_user.groupby('FrequencyCluster')['Frequency'].describe()"
   ]
  },
  {
   "cell_type": "markdown",
   "metadata": {},
   "source": [
    "### As the same notation as recency clusters, high frequency number indicates better customers."
   ]
  },
  {
   "cell_type": "markdown",
   "metadata": {},
   "source": [
    "### Revenue\n",
    "Let’s see how our customer base looks like when I cluster them based on revenue. I will calculate revenue for each customer, plot a histogram and apply the same clustering method.\n",
    "\n"
   ]
  },
  {
   "cell_type": "code",
   "execution_count": null,
   "metadata": {},
   "outputs": [],
   "source": [
    "#calculate revenue for each customer\n",
    "df_revenue = df.groupby('customer_unique_id').payment_value.sum().reset_index()\n",
    "\n",
    "#merge it with our main dataframe\n",
    "df_user = pd.merge(df_user, df_revenue, on='customer_unique_id')"
   ]
  },
  {
   "cell_type": "code",
   "execution_count": null,
   "metadata": {},
   "outputs": [],
   "source": [
    "# plotting the distribution of the continous feature set\n",
    "sns.set(palette='muted', color_codes=True, style='white')\n",
    "fig, ax = plt.subplots(figsize=(12, 6))\n",
    "sns.despine(left=True)\n",
    "sns.distplot(df_user['payment_value'], hist=False)\n",
    "plt.show()"
   ]
  },
  {
   "cell_type": "code",
   "execution_count": null,
   "metadata": {},
   "outputs": [],
   "source": [
    "sse={}\n",
    "df_revenue = df_user[['payment_value']]\n",
    "for k in range(1, 10):\n",
    "    kmeans = KMeans(n_clusters=k, max_iter=1000).fit(df_revenue)\n",
    "    df_revenue[\"clusters\"] = kmeans.labels_\n",
    "    sse[k] = kmeans.inertia_\n",
    "    \n",
    "plt.figure(figsize=(10, 5))\n",
    "plt.plot(list(sse.keys()), list(sse.values()))\n",
    "plt.xlabel(\"Number of cluster\")\n",
    "plt.show()"
   ]
  },
  {
   "cell_type": "code",
   "execution_count": null,
   "metadata": {},
   "outputs": [],
   "source": [
    "#apply clustering\n",
    "kmeans = KMeans(n_clusters=6)\n",
    "kmeans.fit(df_user[['payment_value']])\n",
    "df_user['RevenueCluster'] = kmeans.predict(df_user[['payment_value']])\n",
    "\n",
    "\n",
    "#order the cluster numbers\n",
    "df_user = order_cluster('RevenueCluster', 'payment_value',df_user,True)\n",
    "\n",
    "#show details of the dataframe\n",
    "df_user.groupby('RevenueCluster')['payment_value'].describe()"
   ]
  },
  {
   "cell_type": "markdown",
   "metadata": {},
   "source": [
    "### Overall Score\n",
    "\n",
    "After creating various metric scores (cluster numbers) for recency, frequency & revenue. now i will proceed to create an overall score out of them:"
   ]
  },
  {
   "cell_type": "code",
   "execution_count": null,
   "metadata": {},
   "outputs": [],
   "source": [
    "#renaming columns\n",
    "df_user.columns = ['customer_unique_id', 'Recency', 'RecencyCluster', 'Frequency', 'FrequencyCluster', 'Monetary', 'RevenueCluster']\n",
    "#calculate overall score and use mean() to see details\n",
    "df_user['OverallScore'] = df_user['RecencyCluster'] + df_user['FrequencyCluster'] + df_user['RevenueCluster']\n",
    "df_user.groupby('OverallScore')['Recency','Frequency','Monetary'].mean()"
   ]
  },
  {
   "cell_type": "code",
   "execution_count": null,
   "metadata": {},
   "outputs": [],
   "source": [
    "df_user['Segment'] = 'Low-Value'\n",
    "df_user.loc[df_user['OverallScore']>3,'Segment'] = 'Mid-Value' \n",
    "df_user.loc[df_user['OverallScore']>6,'Segment'] = 'High-Value' "
   ]
  },
  {
   "cell_type": "code",
   "execution_count": null,
   "metadata": {},
   "outputs": [],
   "source": [
    "df_user.head()"
   ]
  },
  {
   "cell_type": "code",
   "execution_count": null,
   "metadata": {},
   "outputs": [],
   "source": [
    "# plotting the distribution of the continous feature set\n",
    "sns.set(palette='muted', color_codes=True, style='whitegrid')\n",
    "fig, axs = plt.subplots(1, 3, figsize=(22, 5))\n",
    "sns.despine(left=True)\n",
    "sns.scatterplot(x='Recency', y='Frequency', ax=axs[0], hue='Segment', data=df_user, size='Segment', sizes=(50,150), size_order=['High-Value','Mid-Value','Low-Value'])\n",
    "sns.scatterplot(x='Frequency', y='Monetary', ax=axs[1], hue='Segment', data=df_user, size='Segment' , sizes=(50,150), size_order=['High-Value','Mid-Value','Low-Value'])\n",
    "sns.scatterplot(x='Recency', y='Monetary', ax=axs[2], hue='Segment', data=df_user, size='Segment' , sizes=(50,150), size_order=['High-Value','Mid-Value','Low-Value'])\n",
    "axs[0].set_title('Customer Segments by Recency & Frequency')\n",
    "axs[1].set_title('Customer Segments by Frequency & Monetary')\n",
    "axs[2].set_title('Customer Segments by Recency & Monetary')\n",
    "plt.show()"
   ]
  }
 ],
 "metadata": {
  "kernelspec": {
   "display_name": "Python 3",
   "language": "python",
   "name": "python3"
  },
  "language_info": {
   "codemirror_mode": {
    "name": "ipython",
    "version": 3
   },
   "file_extension": ".py",
   "mimetype": "text/x-python",
   "name": "python",
   "nbconvert_exporter": "python",
   "pygments_lexer": "ipython3",
   "version": "3.7.6"
  }
 },
 "nbformat": 4,
 "nbformat_minor": 2
}
